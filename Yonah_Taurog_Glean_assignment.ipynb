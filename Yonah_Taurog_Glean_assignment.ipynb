{
  "nbformat": 4,
  "nbformat_minor": 0,
  "metadata": {
    "kernelspec": {
      "display_name": "Python 3",
      "language": "python",
      "name": "python3"
    },
    "language_info": {
      "codemirror_mode": {
        "name": "ipython",
        "version": 3
      },
      "file_extension": ".py",
      "mimetype": "text/x-python",
      "name": "python",
      "nbconvert_exporter": "python",
      "pygments_lexer": "ipython3",
      "version": "3.6.8"
    },
    "colab": {
      "name": "Yonah_Taurog_Glean_assignment.ipynb",
      "provenance": [],
      "collapsed_sections": []
    }
  },
  "cells": [
    {
      "cell_type": "code",
      "metadata": {
        "ExecuteTime": {
          "end_time": "2020-06-25T11:50:00.637597Z",
          "start_time": "2020-06-25T11:50:00.485041Z"
        },
        "id": "iH_Ose28U78m",
        "colab_type": "code",
        "colab": {
          "base_uri": "https://localhost:8080/",
          "height": 72
        },
        "outputId": "1cfafa21-e582-48c6-b873-74bbe5419642"
      },
      "source": [
        "import numpy as np\n",
        "import pandas as pd\n",
        "import matplotlib.pyplot as plt\n",
        "import seaborn as sns\n",
        "import spacy\n",
        "from spacy.vocab import Vocab\n",
        "from spacy.pipeline import EntityRuler\n",
        "from spacy.util import minibatch, compounding\n",
        "\n",
        "import os\n",
        "import shutil\n",
        "import random\n",
        "from google.colab import drive"
      ],
      "execution_count": 1,
      "outputs": [
        {
          "output_type": "stream",
          "text": [
            "/usr/local/lib/python3.6/dist-packages/statsmodels/tools/_testing.py:19: FutureWarning: pandas.util.testing is deprecated. Use the functions in the public API at pandas.testing instead.\n",
            "  import pandas.util.testing as tm\n"
          ],
          "name": "stderr"
        }
      ]
    },
    {
      "cell_type": "code",
      "metadata": {
        "ExecuteTime": {
          "end_time": "2020-06-24T20:50:18.768069Z",
          "start_time": "2020-06-24T20:50:18.760418Z"
        },
        "id": "4nDOKoT1U78r",
        "colab_type": "code",
        "colab": {
          "base_uri": "https://localhost:8080/",
          "height": 34
        },
        "outputId": "392fc2d8-e806-425a-a5c0-754d3068d324"
      },
      "source": [
        "spacy.__version__"
      ],
      "execution_count": 2,
      "outputs": [
        {
          "output_type": "execute_result",
          "data": {
            "text/plain": [
              "'2.2.4'"
            ]
          },
          "metadata": {
            "tags": []
          },
          "execution_count": 2
        }
      ]
    },
    {
      "cell_type": "code",
      "metadata": {
        "id": "VCzA01neVH9J",
        "colab_type": "code",
        "colab": {
          "base_uri": "https://localhost:8080/",
          "height": 34
        },
        "outputId": "17ebe289-428a-4f09-eb55-be64644608dc"
      },
      "source": [
        "drive.mount('/content/drive', force_remount=True)\n",
        "os.chdir(\"drive/My Drive/glean_data\")"
      ],
      "execution_count": 3,
      "outputs": [
        {
          "output_type": "stream",
          "text": [
            "Mounted at /content/drive\n"
          ],
          "name": "stdout"
        }
      ]
    },
    {
      "cell_type": "markdown",
      "metadata": {
        "id": "nVT7dXHoU78t",
        "colab_type": "text"
      },
      "source": [
        "## read and understand the data"
      ]
    },
    {
      "cell_type": "code",
      "metadata": {
        "ExecuteTime": {
          "end_time": "2020-06-24T20:50:18.906084Z",
          "start_time": "2020-06-24T20:50:18.776579Z"
        },
        "id": "gux9lMtZU78u",
        "colab_type": "code",
        "colab": {}
      },
      "source": [
        "df = pd.read_excel('question-python-data-science-project-mwsr7tgbeo-mapping_challenge.xlsx',\n",
        "                   sheet_name = ['train', 'eval', 'canonical_line_item_table']\n",
        "                  )"
      ],
      "execution_count": 4,
      "outputs": []
    },
    {
      "cell_type": "code",
      "metadata": {
        "ExecuteTime": {
          "end_time": "2020-06-24T20:50:18.916981Z",
          "start_time": "2020-06-24T20:50:18.908725Z"
        },
        "id": "xNkD97bLU78w",
        "colab_type": "code",
        "colab": {}
      },
      "source": [
        "train_df = df['train']\n",
        "eval_df = df['eval']\n",
        "df_labels = df['canonical_line_item_table']\n",
        "del df"
      ],
      "execution_count": 5,
      "outputs": []
    },
    {
      "cell_type": "code",
      "metadata": {
        "ExecuteTime": {
          "end_time": "2020-06-24T19:22:13.078051Z",
          "start_time": "2020-06-24T19:22:13.044579Z"
        },
        "id": "FUkg3wxIU78y",
        "colab_type": "code",
        "colab": {
          "base_uri": "https://localhost:8080/",
          "height": 197
        },
        "outputId": "c680e885-8c9c-46df-9866-8abeb04fb16b"
      },
      "source": [
        "train_df.sample(5)"
      ],
      "execution_count": 293,
      "outputs": [
        {
          "output_type": "execute_result",
          "data": {
            "text/html": [
              "<div>\n",
              "<style scoped>\n",
              "    .dataframe tbody tr th:only-of-type {\n",
              "        vertical-align: middle;\n",
              "    }\n",
              "\n",
              "    .dataframe tbody tr th {\n",
              "        vertical-align: top;\n",
              "    }\n",
              "\n",
              "    .dataframe thead th {\n",
              "        text-align: right;\n",
              "    }\n",
              "</style>\n",
              "<table border=\"1\" class=\"dataframe\">\n",
              "  <thead>\n",
              "    <tr style=\"text-align: right;\">\n",
              "      <th></th>\n",
              "      <th>line_item_name</th>\n",
              "      <th>line_item_description</th>\n",
              "      <th>canonical_vendor_name</th>\n",
              "      <th>canonical_line_item_name</th>\n",
              "    </tr>\n",
              "  </thead>\n",
              "  <tbody>\n",
              "    <tr>\n",
              "      <th>108</th>\n",
              "      <td>Credit for remaining Organization Annual 15</td>\n",
              "      <td>NaN</td>\n",
              "      <td>Asana</td>\n",
              "      <td>Organization Annual</td>\n",
              "    </tr>\n",
              "    <tr>\n",
              "      <th>215</th>\n",
              "      <td>FOREIGN FILING IN MARYLAND</td>\n",
              "      <td>2019 APRIL RENEWALS</td>\n",
              "      <td>CSC</td>\n",
              "      <td>FOREIGN FILING</td>\n",
              "    </tr>\n",
              "    <tr>\n",
              "      <th>64</th>\n",
              "      <td>USB C Charger, Nekteck 90W Type C Wall Charger...</td>\n",
              "      <td>NaN</td>\n",
              "      <td>Amazon Business</td>\n",
              "      <td>USB C Charger, Nekteck 90W Type C Wall Charger...</td>\n",
              "    </tr>\n",
              "    <tr>\n",
              "      <th>556</th>\n",
              "      <td>Filing Fees</td>\n",
              "      <td>Submit DBA name registration to New York Secre...</td>\n",
              "      <td>Westmont Associates</td>\n",
              "      <td>Expenses: Filing Fees</td>\n",
              "    </tr>\n",
              "    <tr>\n",
              "      <th>169</th>\n",
              "      <td>PROFESSIONAL SERVICES</td>\n",
              "      <td>Correspondence with client regarding use of pr...</td>\n",
              "      <td>Cooper &amp; Dunham</td>\n",
              "      <td>Hourly Services: LAA</td>\n",
              "    </tr>\n",
              "  </tbody>\n",
              "</table>\n",
              "</div>"
            ],
            "text/plain": [
              "                                        line_item_name  ...                           canonical_line_item_name\n",
              "108        Credit for remaining Organization Annual 15  ...                                Organization Annual\n",
              "215                         FOREIGN FILING IN MARYLAND  ...                                     FOREIGN FILING\n",
              "64   USB C Charger, Nekteck 90W Type C Wall Charger...  ...  USB C Charger, Nekteck 90W Type C Wall Charger...\n",
              "556                                        Filing Fees  ...                              Expenses: Filing Fees\n",
              "169                              PROFESSIONAL SERVICES  ...                               Hourly Services: LAA\n",
              "\n",
              "[5 rows x 4 columns]"
            ]
          },
          "metadata": {
            "tags": []
          },
          "execution_count": 293
        }
      ]
    },
    {
      "cell_type": "code",
      "metadata": {
        "ExecuteTime": {
          "end_time": "2020-06-24T12:11:21.082367Z",
          "start_time": "2020-06-24T12:11:21.048970Z"
        },
        "id": "tbFTe8HnU780",
        "colab_type": "code",
        "colab": {},
        "outputId": "155540fb-ef39-448c-8f3e-1b12d0ae2fbb"
      },
      "source": [
        "train_df.info()"
      ],
      "execution_count": null,
      "outputs": [
        {
          "output_type": "stream",
          "text": [
            "<class 'pandas.core.frame.DataFrame'>\n",
            "RangeIndex: 659 entries, 0 to 658\n",
            "Data columns (total 4 columns):\n",
            " #   Column                    Non-Null Count  Dtype \n",
            "---  ------                    --------------  ----- \n",
            " 0   line_item_name            659 non-null    object\n",
            " 1   line_item_description     469 non-null    object\n",
            " 2   canonical_vendor_name     659 non-null    object\n",
            " 3   canonical_line_item_name  659 non-null    object\n",
            "dtypes: object(4)\n",
            "memory usage: 20.7+ KB\n"
          ],
          "name": "stdout"
        }
      ]
    },
    {
      "cell_type": "code",
      "metadata": {
        "ExecuteTime": {
          "end_time": "2020-06-24T12:10:38.809304Z",
          "start_time": "2020-06-24T12:10:38.765649Z"
        },
        "id": "0UYsTxtsU783",
        "colab_type": "code",
        "colab": {},
        "outputId": "771ea48e-7361-4551-c5bb-50d1107187f6"
      },
      "source": [
        "eval_df.head()"
      ],
      "execution_count": null,
      "outputs": [
        {
          "output_type": "execute_result",
          "data": {
            "text/html": [
              "<div>\n",
              "<style scoped>\n",
              "    .dataframe tbody tr th:only-of-type {\n",
              "        vertical-align: middle;\n",
              "    }\n",
              "\n",
              "    .dataframe tbody tr th {\n",
              "        vertical-align: top;\n",
              "    }\n",
              "\n",
              "    .dataframe thead th {\n",
              "        text-align: right;\n",
              "    }\n",
              "</style>\n",
              "<table border=\"1\" class=\"dataframe\">\n",
              "  <thead>\n",
              "    <tr style=\"text-align: right;\">\n",
              "      <th></th>\n",
              "      <th>line_item_name</th>\n",
              "      <th>line_item_description</th>\n",
              "      <th>canonical_vendor_name</th>\n",
              "      <th>canonical_line_item_name</th>\n",
              "    </tr>\n",
              "  </thead>\n",
              "  <tbody>\n",
              "    <tr>\n",
              "      <th>0</th>\n",
              "      <td>Management Services</td>\n",
              "      <td>May 2019 Services</td>\n",
              "      <td>10 Minute Ventures</td>\n",
              "      <td>NaN</td>\n",
              "    </tr>\n",
              "    <tr>\n",
              "      <th>1</th>\n",
              "      <td>Acrobat Pro DC</td>\n",
              "      <td>NaN</td>\n",
              "      <td>Adobe</td>\n",
              "      <td>NaN</td>\n",
              "    </tr>\n",
              "    <tr>\n",
              "      <th>2</th>\n",
              "      <td>AIEX 96 Pieces Adhesive Poster Tacky Putty Sti...</td>\n",
              "      <td>NaN</td>\n",
              "      <td>Amazon Business</td>\n",
              "      <td>NaN</td>\n",
              "    </tr>\n",
              "    <tr>\n",
              "      <th>3</th>\n",
              "      <td>AmazonBasics AAA 1.5 Volt Performance Alkaline...</td>\n",
              "      <td>NaN</td>\n",
              "      <td>Amazon Business</td>\n",
              "      <td>NaN</td>\n",
              "    </tr>\n",
              "    <tr>\n",
              "      <th>4</th>\n",
              "      <td>AmazonBasics Mesh Trash Can Waste Basket</td>\n",
              "      <td>1</td>\n",
              "      <td>Amazon Business</td>\n",
              "      <td>NaN</td>\n",
              "    </tr>\n",
              "  </tbody>\n",
              "</table>\n",
              "</div>"
            ],
            "text/plain": [
              "                                      line_item_name line_item_description  \\\n",
              "0                                Management Services     May 2019 Services   \n",
              "1                                     Acrobat Pro DC                   NaN   \n",
              "2  AIEX 96 Pieces Adhesive Poster Tacky Putty Sti...                   NaN   \n",
              "3  AmazonBasics AAA 1.5 Volt Performance Alkaline...                   NaN   \n",
              "4           AmazonBasics Mesh Trash Can Waste Basket                     1   \n",
              "\n",
              "  canonical_vendor_name  canonical_line_item_name  \n",
              "0    10 Minute Ventures                       NaN  \n",
              "1                 Adobe                       NaN  \n",
              "2       Amazon Business                       NaN  \n",
              "3       Amazon Business                       NaN  \n",
              "4       Amazon Business                       NaN  "
            ]
          },
          "metadata": {
            "tags": []
          },
          "execution_count": 14
        }
      ]
    },
    {
      "cell_type": "code",
      "metadata": {
        "ExecuteTime": {
          "end_time": "2020-06-24T12:11:27.376100Z",
          "start_time": "2020-06-24T12:11:27.358905Z"
        },
        "id": "lbjYVj_7U785",
        "colab_type": "code",
        "colab": {},
        "outputId": "94f4ca0d-9173-4bc4-c8e7-fa23f324e85f"
      },
      "source": [
        "eval_df.info()"
      ],
      "execution_count": null,
      "outputs": [
        {
          "output_type": "stream",
          "text": [
            "<class 'pandas.core.frame.DataFrame'>\n",
            "RangeIndex: 337 entries, 0 to 336\n",
            "Data columns (total 4 columns):\n",
            " #   Column                    Non-Null Count  Dtype  \n",
            "---  ------                    --------------  -----  \n",
            " 0   line_item_name            337 non-null    object \n",
            " 1   line_item_description     239 non-null    object \n",
            " 2   canonical_vendor_name     337 non-null    object \n",
            " 3   canonical_line_item_name  0 non-null      float64\n",
            "dtypes: float64(1), object(3)\n",
            "memory usage: 10.7+ KB\n"
          ],
          "name": "stdout"
        }
      ]
    },
    {
      "cell_type": "code",
      "metadata": {
        "id": "VXAygtqvQqmU",
        "colab_type": "code",
        "colab": {
          "base_uri": "https://localhost:8080/",
          "height": 406
        },
        "outputId": "6b78a789-f144-47c3-ee45-6b1f273b6319"
      },
      "source": [
        "eval_df.drop_duplicates()"
      ],
      "execution_count": 207,
      "outputs": [
        {
          "output_type": "execute_result",
          "data": {
            "text/html": [
              "<div>\n",
              "<style scoped>\n",
              "    .dataframe tbody tr th:only-of-type {\n",
              "        vertical-align: middle;\n",
              "    }\n",
              "\n",
              "    .dataframe tbody tr th {\n",
              "        vertical-align: top;\n",
              "    }\n",
              "\n",
              "    .dataframe thead th {\n",
              "        text-align: right;\n",
              "    }\n",
              "</style>\n",
              "<table border=\"1\" class=\"dataframe\">\n",
              "  <thead>\n",
              "    <tr style=\"text-align: right;\">\n",
              "      <th></th>\n",
              "      <th>line_item_name</th>\n",
              "      <th>line_item_description</th>\n",
              "      <th>canonical_vendor_name</th>\n",
              "      <th>canonical_line_item_name</th>\n",
              "    </tr>\n",
              "  </thead>\n",
              "  <tbody>\n",
              "    <tr>\n",
              "      <th>0</th>\n",
              "      <td>Management Services</td>\n",
              "      <td>May 2019 Services</td>\n",
              "      <td>10 Minute Ventures</td>\n",
              "      <td>NaN</td>\n",
              "    </tr>\n",
              "    <tr>\n",
              "      <th>1</th>\n",
              "      <td>Acrobat Pro DC</td>\n",
              "      <td>NaN</td>\n",
              "      <td>Adobe</td>\n",
              "      <td>NaN</td>\n",
              "    </tr>\n",
              "    <tr>\n",
              "      <th>2</th>\n",
              "      <td>AIEX 96 Pieces Adhesive Poster Tacky Putty Sti...</td>\n",
              "      <td>NaN</td>\n",
              "      <td>Amazon Business</td>\n",
              "      <td>NaN</td>\n",
              "    </tr>\n",
              "    <tr>\n",
              "      <th>3</th>\n",
              "      <td>AmazonBasics AAA 1.5 Volt Performance Alkaline...</td>\n",
              "      <td>NaN</td>\n",
              "      <td>Amazon Business</td>\n",
              "      <td>NaN</td>\n",
              "    </tr>\n",
              "    <tr>\n",
              "      <th>4</th>\n",
              "      <td>AmazonBasics Mesh Trash Can Waste Basket</td>\n",
              "      <td>1</td>\n",
              "      <td>Amazon Business</td>\n",
              "      <td>NaN</td>\n",
              "    </tr>\n",
              "    <tr>\n",
              "      <th>...</th>\n",
              "      <td>...</td>\n",
              "      <td>...</td>\n",
              "      <td>...</td>\n",
              "      <td>...</td>\n",
              "    </tr>\n",
              "    <tr>\n",
              "      <th>332</th>\n",
              "      <td>Web</td>\n",
              "      <td>1. Thimble Monthly Webapp 2. Customer Referral...</td>\n",
              "      <td>Xiamen ZhiZhi Tech</td>\n",
              "      <td>NaN</td>\n",
              "    </tr>\n",
              "    <tr>\n",
              "      <th>333</th>\n",
              "      <td>Sam Web</td>\n",
              "      <td>1. Web app 2.0 mobile version  2. Purchase wid...</td>\n",
              "      <td>Xiamen ZhiZhi Tech</td>\n",
              "      <td>NaN</td>\n",
              "    </tr>\n",
              "    <tr>\n",
              "      <th>334</th>\n",
              "      <td>Sam Web</td>\n",
              "      <td>1. Segment Integration  2. Iterable Integration</td>\n",
              "      <td>Xiamen ZhiZhi Tech</td>\n",
              "      <td>NaN</td>\n",
              "    </tr>\n",
              "    <tr>\n",
              "      <th>335</th>\n",
              "      <td>Sam Web</td>\n",
              "      <td>1. Broker Purchase Project 2. New Insurance Pr...</td>\n",
              "      <td>Xiamen ZhiZhi Tech</td>\n",
              "      <td>NaN</td>\n",
              "    </tr>\n",
              "    <tr>\n",
              "      <th>336</th>\n",
              "      <td>Conducted a 10-15 minute email survey of up to...</td>\n",
              "      <td>NaN</td>\n",
              "      <td>Zogby Analytics</td>\n",
              "      <td>NaN</td>\n",
              "    </tr>\n",
              "  </tbody>\n",
              "</table>\n",
              "<p>337 rows × 4 columns</p>\n",
              "</div>"
            ],
            "text/plain": [
              "                                        line_item_name  ... canonical_line_item_name\n",
              "0                                  Management Services  ...                      NaN\n",
              "1                                       Acrobat Pro DC  ...                      NaN\n",
              "2    AIEX 96 Pieces Adhesive Poster Tacky Putty Sti...  ...                      NaN\n",
              "3    AmazonBasics AAA 1.5 Volt Performance Alkaline...  ...                      NaN\n",
              "4             AmazonBasics Mesh Trash Can Waste Basket  ...                      NaN\n",
              "..                                                 ...  ...                      ...\n",
              "332                                                Web  ...                      NaN\n",
              "333                                            Sam Web  ...                      NaN\n",
              "334                                            Sam Web  ...                      NaN\n",
              "335                                            Sam Web  ...                      NaN\n",
              "336  Conducted a 10-15 minute email survey of up to...  ...                      NaN\n",
              "\n",
              "[337 rows x 4 columns]"
            ]
          },
          "metadata": {
            "tags": []
          },
          "execution_count": 207
        }
      ]
    },
    {
      "cell_type": "code",
      "metadata": {
        "ExecuteTime": {
          "end_time": "2020-06-24T12:14:35.479414Z",
          "start_time": "2020-06-24T12:14:35.456403Z"
        },
        "id": "C0Jm8kunU787",
        "colab_type": "code",
        "colab": {},
        "outputId": "17c36c97-a68e-4e41-cb99-24b812b522a1"
      },
      "source": [
        "df_labels.canonical_line_item_name.value_counts()[:10]"
      ],
      "execution_count": null,
      "outputs": [
        {
          "output_type": "execute_result",
          "data": {
            "text/plain": [
              "Expenses                                                                                                                 4\n",
              "Hourly Services: BYH                                                                                                     2\n",
              "Filing Fees                                                                                                              2\n",
              "Marketing Services                                                                                                       2\n",
              "Blog Post                                                                                                                2\n",
              "Sales Tax                                                                                                                2\n",
              "Hourly Services                                                                                                          2\n",
              "Yealink CP960 Conference IP Phone, 5-Inch Color Touch Screen. 802.11ac Wi-Fi, 802.3af PoE, Power Adapter Not Included    1\n",
              "96\" Power Entry                                                                                                          1\n",
              "G Suite Basic                                                                                                            1\n",
              "Name: canonical_line_item_name, dtype: int64"
            ]
          },
          "metadata": {
            "tags": []
          },
          "execution_count": 21
        }
      ]
    },
    {
      "cell_type": "markdown",
      "metadata": {
        "id": "w-H84k8fnox8",
        "colab_type": "text"
      },
      "source": [
        "We see that there are a few labels that are duplicated, but this shouldn't matter since they will fall into different candidates"
      ]
    },
    {
      "cell_type": "code",
      "metadata": {
        "id": "CW3wog-IJ8yS",
        "colab_type": "code",
        "colab": {}
      },
      "source": [
        "df_labels = df_labels.drop_duplicates() #one row was fully duplicated"
      ],
      "execution_count": 132,
      "outputs": []
    },
    {
      "cell_type": "code",
      "metadata": {
        "ExecuteTime": {
          "end_time": "2020-06-24T19:06:03.672189Z",
          "start_time": "2020-06-24T19:06:02.955315Z"
        },
        "id": "_05iqxVTU79C",
        "colab_type": "code",
        "colab": {}
      },
      "source": [
        "# make sure that the target values in train all appear as candidates in canonical line item table\n",
        "\n",
        "for i,row in train_df.iterrows():\n",
        "    candidates = df_labels[df_labels.canonical_vendor_name == row.canonical_vendor_name]\n",
        "    assert (candidates.canonical_line_item_name.eq(row.canonical_line_item_name)).any()\n",
        "      \n",
        "for i,row in eval_df.iterrows():\n",
        "    assert((df_labels.canonical_vendor_name.eq(row.canonical_vendor_name)).any())"
      ],
      "execution_count": 7,
      "outputs": []
    },
    {
      "cell_type": "markdown",
      "metadata": {
        "id": "dOrwqxj6yzDh",
        "colab_type": "text"
      },
      "source": [
        "I notice that many of the canonical line item names are very similar to either the vendor or raw item name. This should be helpful during training.\n",
        "\n",
        "I also notice many null desciptions, but there's little to do about it in a small dataset"
      ]
    },
    {
      "cell_type": "markdown",
      "metadata": {
        "id": "uBNFVjSaU79J",
        "colab_type": "text"
      },
      "source": [
        "## Create Knowledge base"
      ]
    },
    {
      "cell_type": "code",
      "metadata": {
        "ExecuteTime": {
          "end_time": "2020-06-25T11:28:00.652198Z",
          "start_time": "2020-06-25T11:28:00.083552Z"
        },
        "id": "vIxI43JnU79N",
        "colab_type": "code",
        "colab": {}
      },
      "source": [
        "nlp = spacy.load('en_core_web_sm')\n",
        "from spacy.kb import KnowledgeBase\n",
        "kb = KnowledgeBase(vocab=nlp.vocab, entity_vector_length=96)"
      ],
      "execution_count": 133,
      "outputs": []
    },
    {
      "cell_type": "markdown",
      "metadata": {
        "id": "p7ltQSp-n7c1",
        "colab_type": "text"
      },
      "source": [
        "Right now as there is such small data, makes sense to train only on vendors that have more than one line items. And then manually predict vendors with just one."
      ]
    },
    {
      "cell_type": "code",
      "metadata": {
        "ExecuteTime": {
          "end_time": "2020-06-25T11:28:02.324769Z",
          "start_time": "2020-06-25T11:28:02.318421Z"
        },
        "id": "kOATFPlGU79T",
        "colab_type": "code",
        "colab": {}
      },
      "source": [
        "\n",
        "c = df_labels.canonical_vendor_name.value_counts() \n",
        "one_or_less = list(c[c <= 1].index)\n",
        "two_or_more = list(c[c > 1].index)\n",
        "NAME = two_or_more"
      ],
      "execution_count": 134,
      "outputs": []
    },
    {
      "cell_type": "markdown",
      "metadata": {
        "id": "IKcRkHEmzGx8",
        "colab_type": "text"
      },
      "source": [
        "The entities are all the `canonical_line_item_name`'s with the alias being the vendor name. So half the task is already done for us! We already have the entity(the vendor), and the goal of my task is to find out which candidate is the right one. "
      ]
    },
    {
      "cell_type": "code",
      "metadata": {
        "ExecuteTime": {
          "end_time": "2020-06-25T11:28:06.960874Z",
          "start_time": "2020-06-25T11:28:02.904408Z"
        },
        "id": "Q7jY7xkFU79W",
        "colab_type": "code",
        "colab": {}
      },
      "source": [
        "\n",
        "def add_ents_and_aliases():\n",
        "  \n",
        "  ids = []\n",
        "  for name in NAME:\n",
        "      ents = df_labels[df_labels.canonical_vendor_name == name]\n",
        "      for i, row in ents.iterrows():\n",
        "          doc = nlp(name + ' : ' +row.canonical_line_item_name)\n",
        "          #print(doc)\n",
        "          vec = doc.vector\n",
        "          kb.add_entity(entity=str(row.name), entity_vector=vec, freq=300)\n",
        "          ids.append(str(row.name))\n",
        "\n",
        "      kb.add_alias(alias=name, entities=ids, probabilities=np.full((len(ids),), 1/len(ids)))\n",
        "      ids.clear()\n",
        "add_ents_and_aliases()"
      ],
      "execution_count": 135,
      "outputs": []
    },
    {
      "cell_type": "markdown",
      "metadata": {
        "id": "KLdQGZcF2oTL",
        "colab_type": "text"
      },
      "source": [
        "## Generate training data"
      ]
    },
    {
      "cell_type": "markdown",
      "metadata": {
        "id": "4xEUkb0wzj4z",
        "colab_type": "text"
      },
      "source": [
        "Combine the title and description into one string and will later use spaCy's embedding model to embed them. The target variable is simply the row index of the `canonical_line_item_name`"
      ]
    },
    {
      "cell_type": "code",
      "metadata": {
        "ExecuteTime": {
          "end_time": "2020-06-25T11:28:13.608112Z",
          "start_time": "2020-06-25T11:28:13.598571Z"
        },
        "id": "apEEr0aRU79i",
        "colab_type": "code",
        "colab": {}
      },
      "source": [
        "def format_data(NAME, df):\n",
        "    data = []\n",
        "    for i, row in df[df.canonical_vendor_name.isin(NAME)].iterrows():\n",
        "        desc = str(row.line_item_description) if not row.line_item_description is np.nan else ''\n",
        "        text = row.canonical_vendor_name + ' : ' + str(row.line_item_name) + ' : '+ desc\n",
        "        cands = df_labels[df_labels.canonical_vendor_name == row.canonical_vendor_name]\n",
        "        name = cands[cands.canonical_line_item_name == row.canonical_line_item_name]\n",
        "        assert(name.shape[0] == 1)\n",
        "    \n",
        "        label = str(name.index[0])\n",
        "        offset = (0, len(row.canonical_vendor_name))\n",
        "        links_dict = {label: 1.0}\n",
        "        data.append((text, {\"links\": {offset: links_dict}}))\n",
        "        \n",
        "    return data"
      ],
      "execution_count": 211,
      "outputs": []
    },
    {
      "cell_type": "code",
      "metadata": {
        "id": "aIWivvX9U79n",
        "colab_type": "code",
        "colab": {}
      },
      "source": [
        "train_data = format_data(NAME, train_df)"
      ],
      "execution_count": 137,
      "outputs": []
    },
    {
      "cell_type": "code",
      "metadata": {
        "ExecuteTime": {
          "end_time": "2020-06-25T11:28:19.338576Z",
          "start_time": "2020-06-25T11:28:19.332651Z"
        },
        "id": "0gHi1E2tU79v",
        "colab_type": "code",
        "colab": {
          "base_uri": "https://localhost:8080/",
          "height": 34
        },
        "outputId": "37a763e3-1db5-4db3-9a61-bcfe189e3562"
      },
      "source": [
        "len(train_data)"
      ],
      "execution_count": 195,
      "outputs": [
        {
          "output_type": "execute_result",
          "data": {
            "text/plain": [
              "596"
            ]
          },
          "metadata": {
            "tags": []
          },
          "execution_count": 195
        }
      ]
    },
    {
      "cell_type": "code",
      "metadata": {
        "id": "8fLfluG5qVhm",
        "colab_type": "code",
        "colab": {
          "base_uri": "https://localhost:8080/",
          "height": 52
        },
        "outputId": "4a2ebca0-442b-4c30-fa68-dbea9151c923"
      },
      "source": [
        "train_data[0]"
      ],
      "execution_count": 15,
      "outputs": [
        {
          "output_type": "execute_result",
          "data": {
            "text/plain": [
              "('Amazon Business : [100 Pack] 10 oz. White Paper Hot Cups - Coffee Cups : ',\n",
              " {'links': {(0, 15): {'26': 1.0}}})"
            ]
          },
          "metadata": {
            "tags": []
          },
          "execution_count": 15
        }
      ]
    },
    {
      "cell_type": "code",
      "metadata": {
        "ExecuteTime": {
          "end_time": "2020-06-25T11:28:21.715797Z",
          "start_time": "2020-06-25T11:28:21.709531Z"
        },
        "id": "UPjKKZYwU79x",
        "colab_type": "code",
        "colab": {}
      },
      "source": [
        "def get_gold_ids(train_data):\n",
        "  gold_ids = []\n",
        "  for text, annot in train_data:\n",
        "      for span, links_dict in annot[\"links\"].items():\n",
        "          for link, value in links_dict.items():\n",
        "              if value:\n",
        "                  gold_ids.append(link)\n",
        "\n",
        "  from collections import Counter\n",
        "  print(Counter(gold_ids))\n",
        "  return gold_ids"
      ],
      "execution_count": 99,
      "outputs": []
    },
    {
      "cell_type": "code",
      "metadata": {
        "id": "WJsF0sEGzm-Q",
        "colab_type": "code",
        "colab": {}
      },
      "source": [
        "def train_test_split(train_data, gold_ids, SPLIT_NUM, shuffle=False):\n",
        "  train_dataset = []\n",
        "  test_dataset = []\n",
        "  for QID in [str(i) for i in range(544)]:\n",
        "      indices = [k for k, j in enumerate(gold_ids) if j == QID]\n",
        "      #if len(indices) > 0: print(QID,len(indices), indices)\n",
        "      if len(indices) > SPLIT_NUM:\n",
        "        if shuffle:\n",
        "          np.random.shuffle(indices)\n",
        "        train_dataset.extend(train_data[index] for index in indices[:SPLIT_NUM])  \n",
        "        test_dataset.extend(train_data[index] for index in indices[SPLIT_NUM:])  \n",
        "      else:\n",
        "        train_dataset.extend(train_data[index] for index in indices)\n",
        "\n",
        "  return train_dataset, test_dataset\n",
        "  "
      ],
      "execution_count": 197,
      "outputs": []
    },
    {
      "cell_type": "code",
      "metadata": {
        "ExecuteTime": {
          "end_time": "2020-06-25T11:28:39.373942Z",
          "start_time": "2020-06-25T11:28:39.281028Z"
        },
        "id": "oJ_KlDsMU79z",
        "colab_type": "code",
        "colab": {
          "base_uri": "https://localhost:8080/",
          "height": 54
        },
        "outputId": "c0098a6e-c8ec-47a3-a4f1-5f2f30b66239"
      },
      "source": [
        "gold_ids = get_gold_ids(train_data)\n",
        "train_dataset, test_dataset = train_test_split(train_data,gold_ids,6)"
      ],
      "execution_count": 198,
      "outputs": [
        {
          "output_type": "stream",
          "text": [
            "Counter({'4': 24, '411': 19, '5': 18, '3': 17, '243': 16, '429': 15, '406': 13, '6': 11, '246': 10, '248': 10, '281': 9, '470': 8, '244': 7, '478': 7, '290': 7, '365': 7, '228': 6, '272': 6, '469': 5, '405': 5, '431': 5, '220': 4, '301': 4, '306': 4, '392': 4, '366': 4, '42': 3, '477': 3, '484': 3, '491': 3, '168': 3, '175': 3, '247': 3, '250': 3, '302': 3, '513': 3, '320': 3, '315': 3, '341': 3, '409': 3, '420': 3, '434': 3, '440': 3, '435': 3, '432': 3, '449': 3, '444': 3, '104': 2, '20': 2, '505': 2, '488': 2, '502': 2, '152': 2, '154': 2, '200': 2, '7': 2, '209': 2, '212': 2, '219': 2, '224': 2, '479': 2, '270': 2, '273': 2, '276': 2, '294': 2, '303': 2, '507': 2, '509': 2, '309': 2, '308': 2, '310': 2, '319': 2, '316': 2, '352': 2, '364': 2, '367': 2, '408': 2, '417': 2, '436': 2, '437': 2, '438': 2, '448': 2, '445': 2, '452': 1, '454': 1, '456': 1, '26': 1, '45': 1, '46': 1, '47': 1, '49': 1, '51': 1, '53': 1, '27': 1, '55': 1, '56': 1, '57': 1, '59': 1, '61': 1, '14': 1, '62': 1, '64': 1, '30': 1, '31': 1, '65': 1, '32': 1, '66': 1, '71': 1, '73': 1, '74': 1, '36': 1, '76': 1, '78': 1, '79': 1, '80': 1, '81': 1, '82': 1, '84': 1, '85': 1, '86': 1, '87': 1, '88': 1, '90': 1, '92': 1, '38': 1, '93': 1, '94': 1, '96': 1, '100': 1, '101': 1, '18': 1, '103': 1, '105': 1, '41': 1, '109': 1, '110': 1, '21': 1, '119': 1, '43': 1, '122': 1, '124': 1, '22': 1, '459': 1, '464': 1, '460': 1, '466': 1, '461': 1, '468': 1, '473': 1, '474': 1, '487': 1, '489': 1, '126': 1, '128': 1, '129': 1, '132': 1, '133': 1, '134': 1, '135': 1, '140': 1, '141': 1, '142': 1, '144': 1, '145': 1, '147': 1, '395': 1, '159': 1, '161': 1, '163': 1, '166': 1, '165': 1, '169': 1, '170': 1, '171': 1, '174': 1, '176': 1, '177': 1, '186': 1, '187': 1, '188': 1, '189': 1, '191': 1, '192': 1, '193': 1, '196': 1, '197': 1, '199': 1, '201': 1, '202': 1, '230': 1, '10': 1, '13': 1, '11': 1, '8': 1, '9': 1, '205': 1, '210': 1, '211': 1, '496': 1, '500': 1, '501': 1, '217': 1, '222': 1, '233': 1, '234': 1, '238': 1, '239': 1, '249': 1, '245': 1, '251': 1, '252': 1, '254': 1, '257': 1, '260': 1, '481': 1, '263': 1, '264': 1, '265': 1, '269': 1, '325': 1, '277': 1, '279': 1, '280': 1, '278': 1, '287': 1, '288': 1, '291': 1, '292': 1, '296': 1, '298': 1, '299': 1, '300': 1, '540': 1, '510': 1, '511': 1, '512': 1, '539': 1, '514': 1, '515': 1, '517': 1, '519': 1, '524': 1, '525': 1, '526': 1, '527': 1, '520': 1, '521': 1, '324': 1, '242': 1, '307': 1, '321': 1, '322': 1, '323': 1, '318': 1, '347': 1, '348': 1, '326': 1, '327': 1, '328': 1, '329': 1, '336': 1, '337': 1, '389': 1, '390': 1, '342': 1, '345': 1, '543': 1, '359': 1, '353': 1, '360': 1, '356': 1, '361': 1, '355': 1, '541': 1, '368': 1, '372': 1, '378': 1, '381': 1, '382': 1, '383': 1, '384': 1, '385': 1, '401': 1, '402': 1, '537': 1, '532': 1, '529': 1, '530': 1, '535': 1, '410': 1, '419': 1, '421': 1, '422': 1, '427': 1, '439': 1, '443': 1, '430': 1, '446': 1, '433': 1})\n"
          ],
          "name": "stdout"
        }
      ]
    },
    {
      "cell_type": "markdown",
      "metadata": {
        "id": "3_w2bGHBtYkJ",
        "colab_type": "text"
      },
      "source": [
        "We see that because the data is so small there are many `canonical_line_item_name`'s that appear only once in the train set which will make good predictions difficult. So the plan will be to make the smallest test dataset possible while still maintaining good metrics. Afterwards, I will train on the entire dataset and use that to predict the eval set.\n"
      ]
    },
    {
      "cell_type": "code",
      "metadata": {
        "ExecuteTime": {
          "end_time": "2020-06-25T11:28:39.978654Z",
          "start_time": "2020-06-25T11:28:39.974090Z"
        },
        "id": "l2DnJcYUU791",
        "colab_type": "code",
        "colab": {
          "base_uri": "https://localhost:8080/",
          "height": 34
        },
        "outputId": "7884116a-beda-4219-d2cc-1f2e1ee3992f"
      },
      "source": [
        "len(train_dataset)\n"
      ],
      "execution_count": 199,
      "outputs": [
        {
          "output_type": "execute_result",
          "data": {
            "text/plain": [
              "494"
            ]
          },
          "metadata": {
            "tags": []
          },
          "execution_count": 199
        }
      ]
    },
    {
      "cell_type": "code",
      "metadata": {
        "ExecuteTime": {
          "end_time": "2020-06-25T11:28:41.037361Z",
          "start_time": "2020-06-25T11:28:41.033024Z"
        },
        "id": "LTXfI_SXU792",
        "colab_type": "code",
        "colab": {
          "base_uri": "https://localhost:8080/",
          "height": 34
        },
        "outputId": "dde329a4-beec-4b62-b9e7-9f0eaf97ebc4"
      },
      "source": [
        "len(test_dataset)"
      ],
      "execution_count": 182,
      "outputs": [
        {
          "output_type": "execute_result",
          "data": {
            "text/plain": [
              "102"
            ]
          },
          "metadata": {
            "tags": []
          },
          "execution_count": 182
        }
      ]
    },
    {
      "cell_type": "markdown",
      "metadata": {
        "id": "AUQu_5jVvRwK",
        "colab_type": "text"
      },
      "source": [
        "## Build a NEL Model"
      ]
    },
    {
      "cell_type": "markdown",
      "metadata": {
        "id": "SQ0xDk-M7vrF",
        "colab_type": "text"
      },
      "source": [
        "#### Some of the code below setting up the model was based off a spaCy tutorial"
      ]
    },
    {
      "cell_type": "code",
      "metadata": {
        "id": "mbEGjIKvytuY",
        "colab_type": "code",
        "colab": {
          "base_uri": "https://localhost:8080/",
          "height": 72
        },
        "outputId": "c45472d3-900f-40f8-ea13-7de95d96fe2e"
      },
      "source": [
        "print(f\"Entities in the KB: {kb.get_entity_strings()}\")\n",
        "print(f\"Aliases in the KB: {kb.get_alias_strings()}\")"
      ],
      "execution_count": 183,
      "outputs": [
        {
          "output_type": "stream",
          "text": [
            "Entities in the KB: ['507', '533', '263', '390', '357', '277', '101', '22', '30', '541', '75', '120', '91', '346', '26', '86', '429', '251', '37', '532', '294', '385', '19', '359', '38', '71', '167', '55', '529', '54', '177', '540', '326', '258', '280', '196', '437', '504', '257', '466', '209', '151', '534', '187', '488', '90', '383', '432', '72', '13', '441', '181', '502', '409', '449', '382', '406', '331', '62', '252', '152', '516', '415', '206', '118', '290', '329', '52', '132', '57', '381', '463', '287', '344', '373', '306', '111', '125', '364', '260', '391', '127', '452', '519', '237', '160', '349', '319', '351', '149', '520', '464', '494', '163', '471', '521', '462', '27', '425', '222', '246', '248', '482', '272', '121', '245', '46', '455', '215', '107', '414', '225', '525', '508', '438', '15', '134', '230', '403', '210', '303', '453', '424', '14', '479', '73', '362', '7', '486', '308', '60', '205', '324', '18', '259', '49', '241', '85', '58', '193', '211', '451', '501', '444', '94', '535', '169', '286', '61', '299', '439', '65', '59', '468', '16', '123', '126', '9', '159', '186', '285', '76', '310', '405', '461', '64', '116', '10', '227', '40', '531', '12', '358', '493', '446', '491', '170', '115', '145', '242', '386', '500', '368', '402', '48', '77', '74', '322', '97', '297', '234', '465', '487', '490', '34', '29', '460', '147', '495', '153', '158', '270', '70', '239', '84', '475', '180', '194', '45', '79', '328', '51', '92', '304', '69', '80', '102', '281', '377', '400', '542', '68', '389', '269', '467', '103', '110', '11', '164', '517', '197', '212', '233', '411', '56', '249', '191', '140', '39', '231', '454', '325', '195', '137', '278', '282', '104', '199', '148', '298', '200', '44', '276', '88', '416', '179', '165', '356', '341', '530', '229', '183', '485', '240', '128', '337', '28', '264', '171', '105', '410', '204', '352', '292', '378', '498', '166', '445', '375', '203', '366', '413', '133', '492', '426', '47', '23', '371', '138', '143', '89', '316', '43', '78', '430', '473', '146', '509', '348', '420', '435', '274', '470', '136', '228', '469', '67', '372', '173', '42', '279', '100', '367', '499', '174', '354', '83', '536', '513', '384', '232', '98', '35', '365', '476', '526', '412', '142', '192', '8', '396', '221', '238', '289', '273', '320', '82', '478', '417', '117', '376', '506', '219', '363', '291', '3', '336', '301', '307', '122', '113', '21', '353', '155', '345', '20', '514', '537', '189', '130', '458', '427', '131', '175', '496', '296', '6', '300', '407', '512', '323', '321', '96', '474', '217', '223', '524', '275', '448', '178', '202', '436', '112', '168', '93', '33', '81', '330', '108', '243', '255', '198', '539', '129', '50', '431', '538', '150', '172', '543', '489', '135', '250', '528', '527', '5', '342', '515', '188', '318', '523', '392', '347', '207', '288', '95', '182', '244', '360', '208', '190', '447', '434', '161', '442', '218', '220', '477', '4', '17', '53', '154', '139', '41', '418', '99', '114', '511', '401', '456', '66', '247', '338', '419', '63', '36', '109', '510', '443', '355', '315', '254', '119', '380', '422', '505', '408', '184', '144', '433', '379', '421', '224', '31', '361', '293', '24', '124', '87', '459', '185', '302', '481', '106', '440', '370', '317', '32', '141', '484', '327', '395', '265', '518', '201', '309', '25', '176']\n",
            "Aliases in the KB: ['SendGrid', 'Bird & Bird', 'Conklin Office Furniture', 'Intrequant', 'Maddie Shepherd', 'Carve Systems', 'DigiCert', 'Graphite Financial', 'Summit Facility Solutions', 'Apple Search Ads', 'STI Products', 'Google', 'Reed Words', 'Staples', 'iStock', 'Marsh & McLennan', 'KPMG', 'Xiamen ZhiZhi Tech', 'IN NYC IT', 'Matthew Buchwach & Chris Rogers', 'Red Antler', 'Amplitude', 'CSC', 'Cooper & Dunham', 'Wolfsdorf Rosenthal', 'Iterable', 'Chubb', 'Adobe', 'Workable', 'Dynamo Partners', 'Cleveland Scott York', 'STIGroup', 'Freshworks', 'Joseph W Russo', 'Microsoft', 'Perr&Knight', 'Waltz Media Group', 'Daversa Partners', 'Williamsburg Pizza LES', 'Amelia Willson', 'Clyde & Co', 'Target', 'Mess Ko', 'Duff & Phelps', 'GitHub', 'AWS', 'Andersen Tax', 'Barrett Associates', 'Microsoft Azure', 'Westmont Associates', 'Meister Seelig & Fein', 'Gallagher', 'Gunderson Dettmer', 'Snowflake', 'Segment', 'Hoola Hoop', 'Custom Ink', 'Pingdom', 'Wilson Stevens', 'Consider', 'Mongo DB', 'Slack', 'Stride', 'Apple', 'Looker', 'ClassPass', 'LaunchSquad', 'Adjust', 'Amazon Business', 'Columbus', 'Fairmount Recruiting', 'mLab', 'Amazon.com', 'Athorus', 'CT Corporation', 'AdLift']\n"
          ],
          "name": "stdout"
        }
      ]
    },
    {
      "cell_type": "code",
      "metadata": {
        "id": "aFBTsoFxwt-B",
        "colab_type": "code",
        "colab": {}
      },
      "source": [
        "def prepare_train(nlp_blank, train_dataset):\n",
        "  kb_ids = nlp_blank.get_pipe(\"entity_linker\").kb.get_entity_strings()\n",
        "  TRAIN_DOCS = []\n",
        "  for text, annotation in train_dataset:\n",
        "      with nlp_blank.disable_pipes(\"entity_linker\"):\n",
        "          doc = nlp_blank(text)\n",
        "      annotation_clean = annotation\n",
        "      for offset, kb_id_dict in annotation[\"links\"].items():\n",
        "          new_dict = {}\n",
        "          for kb_id, value in kb_id_dict.items():\n",
        "              if kb_id in kb_ids:\n",
        "                  new_dict[kb_id] = value\n",
        "              else:\n",
        "                  print(\n",
        "                      \"Removed\", kb_id, \"from training because it is not in the KB.\"\n",
        "                  )\n",
        "          annotation_clean[\"links\"][offset] = new_dict\n",
        "      TRAIN_DOCS.append((doc, annotation_clean))\n",
        "  return TRAIN_DOCS\n",
        "\n",
        "def build_model(kb, train_dataset, NAME):\n",
        "  nlp_blank = spacy.blank(\"en\", vocab=kb.vocab)\n",
        "  nlp_blank.vocab.vectors.name = \"spacy_pretrained_vectors\"\n",
        "  patterns = []\n",
        "  for name in NAME:\n",
        "    names = name.split(' ')\n",
        "    vend = {\"label\": \"VENDOR\", \"pattern\": [{\"LOWER\": n.lower()} for n in names]}\n",
        "    patterns.append(vend)\n",
        "  \n",
        "  ruler = EntityRuler(nlp_blank)\n",
        "  ruler.add_patterns(patterns)\n",
        "  nlp_blank.add_pipe(ruler)\n",
        "\n",
        "  nlp_blank.add_pipe(nlp_blank.create_pipe('sentencizer'))\n",
        "  if \"entity_linker\" not in nlp_blank.pipe_names:\n",
        "      print('setting up')\n",
        "      entity_linker = nlp_blank.create_pipe(\"entity_linker\", config={\"incl_prior\": False})\n",
        "      entity_linker.set_kb(kb)\n",
        "      nlp_blank.add_pipe(entity_linker, last=True)\n",
        "  train_dataset = prepare_train(nlp_blank, train_dataset)\n",
        "  return nlp_blank, train_dataset\n"
      ],
      "execution_count": 22,
      "outputs": []
    },
    {
      "cell_type": "code",
      "metadata": {
        "ExecuteTime": {
          "end_time": "2020-06-25T11:28:44.306541Z",
          "start_time": "2020-06-25T11:28:44.302532Z"
        },
        "id": "ZTv6myTqU796",
        "colab_type": "code",
        "colab": {
          "base_uri": "https://localhost:8080/",
          "height": 34
        },
        "outputId": "e4205319-fd33-448f-a41b-2b8d24ffdd16"
      },
      "source": [
        "\n",
        "nlp_blank, train_dataset = build_model(kb, train_dataset, NAME)"
      ],
      "execution_count": 184,
      "outputs": [
        {
          "output_type": "stream",
          "text": [
            "setting up\n"
          ],
          "name": "stdout"
        }
      ]
    },
    {
      "cell_type": "code",
      "metadata": {
        "ExecuteTime": {
          "end_time": "2020-06-25T11:44:26.048423Z",
          "start_time": "2020-06-25T11:30:23.165447Z"
        },
        "id": "d9mrWb2ZU7-K",
        "colab_type": "code",
        "colab": {}
      },
      "source": [
        "def train(nlp_blank, TRAIN_DOCS, epochs, verbose=True):\n",
        "  other_pipes = [pipe for pipe in nlp_blank.pipe_names if pipe != \"entity_linker\"]\n",
        "  with nlp_blank.disable_pipes(*other_pipes):   # train only the entity_linker\n",
        "      optimizer = nlp_blank.begin_training()\n",
        "      for itn in range(epochs):   # 500 iterations takes about a minute to train\n",
        "          np.random.shuffle(TRAIN_DOCS)\n",
        "          batches = minibatch(TRAIN_DOCS, size=compounding(4.0, 32.0, 1.001))  # increasing batch sizes\n",
        "          losses = {}\n",
        "          for batch in batches:\n",
        "              texts, annotations = zip(*batch)\n",
        "              nlp_blank.update(\n",
        "                  texts,  \n",
        "                  annotations,   \n",
        "                  drop=0.2,      # prevent overfitting\n",
        "                  losses=losses,\n",
        "                  sgd=optimizer,\n",
        "              )\n",
        "          #if itn % 1 == 0:\n",
        "          if verbose:\n",
        "            print(itn, \"Losses\", losses)   # print the training loss\n",
        "          elif itn % 100 == 0:\n",
        "            print(itn, \"Losses\", losses)   # print the training loss\n",
        "  print(itn, \"Losses\", losses)"
      ],
      "execution_count": 177,
      "outputs": []
    },
    {
      "cell_type": "code",
      "metadata": {
        "id": "CUchREOxyfu0",
        "colab_type": "code",
        "colab": {
          "base_uri": "https://localhost:8080/",
          "height": 513
        },
        "outputId": "db5afcce-b386-44f1-e923-5be0cbd7f1bc"
      },
      "source": [
        "train(nlp_blank, train_dataset, epochs=600)"
      ],
      "execution_count": 185,
      "outputs": [
        {
          "output_type": "stream",
          "text": [
            "0 Losses {'entity_linker': 31.701195552945137}\n",
            "1 Losses {'entity_linker': 21.304295271635056}\n",
            "2 Losses {'entity_linker': 17.402195155620575}\n",
            "3 Losses {'entity_linker': 14.864536583423615}\n",
            "4 Losses {'entity_linker': 13.068447098135948}\n",
            "5 Losses {'entity_linker': 11.634586438536644}\n",
            "6 Losses {'entity_linker': 10.872650370001793}\n"
          ],
          "name": "stdout"
        },
        {
          "output_type": "error",
          "ename": "KeyboardInterrupt",
          "evalue": "ignored",
          "traceback": [
            "\u001b[0;31m---------------------------------------------------------------------------\u001b[0m",
            "\u001b[0;31mKeyboardInterrupt\u001b[0m                         Traceback (most recent call last)",
            "\u001b[0;32m<ipython-input-185-7f3fb657c1b8>\u001b[0m in \u001b[0;36m<module>\u001b[0;34m()\u001b[0m\n\u001b[0;32m----> 1\u001b[0;31m \u001b[0mtrain\u001b[0m\u001b[0;34m(\u001b[0m\u001b[0mnlp_blank\u001b[0m\u001b[0;34m,\u001b[0m \u001b[0mtrain_dataset\u001b[0m\u001b[0;34m,\u001b[0m \u001b[0mepochs\u001b[0m\u001b[0;34m=\u001b[0m\u001b[0;36m600\u001b[0m\u001b[0;34m)\u001b[0m\u001b[0;34m\u001b[0m\u001b[0;34m\u001b[0m\u001b[0m\n\u001b[0m",
            "\u001b[0;32m<ipython-input-177-60dfe2f36217>\u001b[0m in \u001b[0;36mtrain\u001b[0;34m(nlp_blank, TRAIN_DOCS, epochs, verbose)\u001b[0m\n\u001b[1;32m     14\u001b[0m                   \u001b[0mdrop\u001b[0m\u001b[0;34m=\u001b[0m\u001b[0;36m0.2\u001b[0m\u001b[0;34m,\u001b[0m      \u001b[0;31m# prevent overfitting\u001b[0m\u001b[0;34m\u001b[0m\u001b[0;34m\u001b[0m\u001b[0m\n\u001b[1;32m     15\u001b[0m                   \u001b[0mlosses\u001b[0m\u001b[0;34m=\u001b[0m\u001b[0mlosses\u001b[0m\u001b[0;34m,\u001b[0m\u001b[0;34m\u001b[0m\u001b[0;34m\u001b[0m\u001b[0m\n\u001b[0;32m---> 16\u001b[0;31m                   \u001b[0msgd\u001b[0m\u001b[0;34m=\u001b[0m\u001b[0moptimizer\u001b[0m\u001b[0;34m,\u001b[0m\u001b[0;34m\u001b[0m\u001b[0;34m\u001b[0m\u001b[0m\n\u001b[0m\u001b[1;32m     17\u001b[0m               )\n\u001b[1;32m     18\u001b[0m           \u001b[0;31m#if itn % 1 == 0:\u001b[0m\u001b[0;34m\u001b[0m\u001b[0;34m\u001b[0m\u001b[0;34m\u001b[0m\u001b[0m\n",
            "\u001b[0;32m/usr/local/lib/python3.6/dist-packages/spacy/language.py\u001b[0m in \u001b[0;36mupdate\u001b[0;34m(self, docs, golds, drop, sgd, losses, component_cfg)\u001b[0m\n\u001b[1;32m    517\u001b[0m             \u001b[0mkwargs\u001b[0m \u001b[0;34m=\u001b[0m \u001b[0mcomponent_cfg\u001b[0m\u001b[0;34m.\u001b[0m\u001b[0mget\u001b[0m\u001b[0;34m(\u001b[0m\u001b[0mname\u001b[0m\u001b[0;34m,\u001b[0m \u001b[0;34m{\u001b[0m\u001b[0;34m}\u001b[0m\u001b[0;34m)\u001b[0m\u001b[0;34m\u001b[0m\u001b[0;34m\u001b[0m\u001b[0m\n\u001b[1;32m    518\u001b[0m             \u001b[0mkwargs\u001b[0m\u001b[0;34m.\u001b[0m\u001b[0msetdefault\u001b[0m\u001b[0;34m(\u001b[0m\u001b[0;34m\"drop\"\u001b[0m\u001b[0;34m,\u001b[0m \u001b[0mdrop\u001b[0m\u001b[0;34m)\u001b[0m\u001b[0;34m\u001b[0m\u001b[0;34m\u001b[0m\u001b[0m\n\u001b[0;32m--> 519\u001b[0;31m             \u001b[0mproc\u001b[0m\u001b[0;34m.\u001b[0m\u001b[0mupdate\u001b[0m\u001b[0;34m(\u001b[0m\u001b[0mdocs\u001b[0m\u001b[0;34m,\u001b[0m \u001b[0mgolds\u001b[0m\u001b[0;34m,\u001b[0m \u001b[0msgd\u001b[0m\u001b[0;34m=\u001b[0m\u001b[0mget_grads\u001b[0m\u001b[0;34m,\u001b[0m \u001b[0mlosses\u001b[0m\u001b[0;34m=\u001b[0m\u001b[0mlosses\u001b[0m\u001b[0;34m,\u001b[0m \u001b[0;34m**\u001b[0m\u001b[0mkwargs\u001b[0m\u001b[0;34m)\u001b[0m\u001b[0;34m\u001b[0m\u001b[0;34m\u001b[0m\u001b[0m\n\u001b[0m\u001b[1;32m    520\u001b[0m             \u001b[0;32mfor\u001b[0m \u001b[0mkey\u001b[0m\u001b[0;34m,\u001b[0m \u001b[0;34m(\u001b[0m\u001b[0mW\u001b[0m\u001b[0;34m,\u001b[0m \u001b[0mdW\u001b[0m\u001b[0;34m)\u001b[0m \u001b[0;32min\u001b[0m \u001b[0mgrads\u001b[0m\u001b[0;34m.\u001b[0m\u001b[0mitems\u001b[0m\u001b[0;34m(\u001b[0m\u001b[0;34m)\u001b[0m\u001b[0;34m:\u001b[0m\u001b[0;34m\u001b[0m\u001b[0;34m\u001b[0m\u001b[0m\n\u001b[1;32m    521\u001b[0m                 \u001b[0msgd\u001b[0m\u001b[0;34m(\u001b[0m\u001b[0mW\u001b[0m\u001b[0;34m,\u001b[0m \u001b[0mdW\u001b[0m\u001b[0;34m,\u001b[0m \u001b[0mkey\u001b[0m\u001b[0;34m=\u001b[0m\u001b[0mkey\u001b[0m\u001b[0;34m)\u001b[0m\u001b[0;34m\u001b[0m\u001b[0;34m\u001b[0m\u001b[0m\n",
            "\u001b[0;32mpipes.pyx\u001b[0m in \u001b[0;36mspacy.pipeline.pipes.EntityLinker.update\u001b[0;34m()\u001b[0m\n",
            "\u001b[0;32m/usr/local/lib/python3.6/dist-packages/thinc/neural/_classes/feed_forward.py\u001b[0m in \u001b[0;36mcontinue_update\u001b[0;34m(gradient, sgd)\u001b[0m\n\u001b[1;32m     51\u001b[0m                 \u001b[0;32mif\u001b[0m \u001b[0mgradient\u001b[0m \u001b[0;32mis\u001b[0m \u001b[0;32mNone\u001b[0m \u001b[0;32mor\u001b[0m \u001b[0mcallback\u001b[0m \u001b[0;32mis\u001b[0m \u001b[0;32mNone\u001b[0m\u001b[0;34m:\u001b[0m\u001b[0;34m\u001b[0m\u001b[0;34m\u001b[0m\u001b[0m\n\u001b[1;32m     52\u001b[0m                     \u001b[0;32mbreak\u001b[0m\u001b[0;34m\u001b[0m\u001b[0;34m\u001b[0m\u001b[0m\n\u001b[0;32m---> 53\u001b[0;31m                 \u001b[0mgradient\u001b[0m \u001b[0;34m=\u001b[0m \u001b[0mcallback\u001b[0m\u001b[0;34m(\u001b[0m\u001b[0mgradient\u001b[0m\u001b[0;34m,\u001b[0m \u001b[0msgd\u001b[0m\u001b[0;34m)\u001b[0m\u001b[0;34m\u001b[0m\u001b[0;34m\u001b[0m\u001b[0m\n\u001b[0m\u001b[1;32m     54\u001b[0m             \u001b[0;32mreturn\u001b[0m \u001b[0mgradient\u001b[0m\u001b[0;34m\u001b[0m\u001b[0;34m\u001b[0m\u001b[0m\n\u001b[1;32m     55\u001b[0m \u001b[0;34m\u001b[0m\u001b[0m\n",
            "\u001b[0;32m/usr/local/lib/python3.6/dist-packages/thinc/api.py\u001b[0m in \u001b[0;36mfinish_update\u001b[0;34m(d_seqs_out, sgd)\u001b[0m\n\u001b[1;32m    298\u001b[0m \u001b[0;34m\u001b[0m\u001b[0m\n\u001b[1;32m    299\u001b[0m         \u001b[0;32mdef\u001b[0m \u001b[0mfinish_update\u001b[0m\u001b[0;34m(\u001b[0m\u001b[0md_seqs_out\u001b[0m\u001b[0;34m,\u001b[0m \u001b[0msgd\u001b[0m\u001b[0;34m=\u001b[0m\u001b[0;32mNone\u001b[0m\u001b[0;34m)\u001b[0m\u001b[0;34m:\u001b[0m\u001b[0;34m\u001b[0m\u001b[0;34m\u001b[0m\u001b[0m\n\u001b[0;32m--> 300\u001b[0;31m             \u001b[0md_X\u001b[0m \u001b[0;34m=\u001b[0m \u001b[0mbp_layer\u001b[0m\u001b[0;34m(\u001b[0m\u001b[0mlayer\u001b[0m\u001b[0;34m.\u001b[0m\u001b[0mops\u001b[0m\u001b[0;34m.\u001b[0m\u001b[0mflatten\u001b[0m\u001b[0;34m(\u001b[0m\u001b[0md_seqs_out\u001b[0m\u001b[0;34m,\u001b[0m \u001b[0mpad\u001b[0m\u001b[0;34m=\u001b[0m\u001b[0mpad\u001b[0m\u001b[0;34m)\u001b[0m\u001b[0;34m,\u001b[0m \u001b[0msgd\u001b[0m\u001b[0;34m=\u001b[0m\u001b[0msgd\u001b[0m\u001b[0;34m)\u001b[0m\u001b[0;34m\u001b[0m\u001b[0;34m\u001b[0m\u001b[0m\n\u001b[0m\u001b[1;32m    301\u001b[0m             \u001b[0;32mif\u001b[0m \u001b[0md_X\u001b[0m \u001b[0;32mis\u001b[0m \u001b[0;32mNone\u001b[0m\u001b[0;34m:\u001b[0m\u001b[0;34m\u001b[0m\u001b[0;34m\u001b[0m\u001b[0m\n\u001b[1;32m    302\u001b[0m                 \u001b[0;32mreturn\u001b[0m \u001b[0;32mNone\u001b[0m\u001b[0;34m\u001b[0m\u001b[0;34m\u001b[0m\u001b[0m\n",
            "\u001b[0;32m/usr/local/lib/python3.6/dist-packages/thinc/neural/_classes/feed_forward.py\u001b[0m in \u001b[0;36mcontinue_update\u001b[0;34m(gradient, sgd)\u001b[0m\n\u001b[1;32m     51\u001b[0m                 \u001b[0;32mif\u001b[0m \u001b[0mgradient\u001b[0m \u001b[0;32mis\u001b[0m \u001b[0;32mNone\u001b[0m \u001b[0;32mor\u001b[0m \u001b[0mcallback\u001b[0m \u001b[0;32mis\u001b[0m \u001b[0;32mNone\u001b[0m\u001b[0;34m:\u001b[0m\u001b[0;34m\u001b[0m\u001b[0;34m\u001b[0m\u001b[0m\n\u001b[1;32m     52\u001b[0m                     \u001b[0;32mbreak\u001b[0m\u001b[0;34m\u001b[0m\u001b[0;34m\u001b[0m\u001b[0m\n\u001b[0;32m---> 53\u001b[0;31m                 \u001b[0mgradient\u001b[0m \u001b[0;34m=\u001b[0m \u001b[0mcallback\u001b[0m\u001b[0;34m(\u001b[0m\u001b[0mgradient\u001b[0m\u001b[0;34m,\u001b[0m \u001b[0msgd\u001b[0m\u001b[0;34m)\u001b[0m\u001b[0;34m\u001b[0m\u001b[0;34m\u001b[0m\u001b[0m\n\u001b[0m\u001b[1;32m     54\u001b[0m             \u001b[0;32mreturn\u001b[0m \u001b[0mgradient\u001b[0m\u001b[0;34m\u001b[0m\u001b[0;34m\u001b[0m\u001b[0m\n\u001b[1;32m     55\u001b[0m \u001b[0;34m\u001b[0m\u001b[0m\n",
            "\u001b[0;32m/usr/local/lib/python3.6/dist-packages/thinc/neural/_classes/resnet.py\u001b[0m in \u001b[0;36mresidual_bwd\u001b[0;34m(d_output, sgd)\u001b[0m\n\u001b[1;32m     39\u001b[0m \u001b[0;34m\u001b[0m\u001b[0m\n\u001b[1;32m     40\u001b[0m         \u001b[0;32mdef\u001b[0m \u001b[0mresidual_bwd\u001b[0m\u001b[0;34m(\u001b[0m\u001b[0md_output\u001b[0m\u001b[0;34m,\u001b[0m \u001b[0msgd\u001b[0m\u001b[0;34m=\u001b[0m\u001b[0;32mNone\u001b[0m\u001b[0;34m)\u001b[0m\u001b[0;34m:\u001b[0m\u001b[0;34m\u001b[0m\u001b[0;34m\u001b[0m\u001b[0m\n\u001b[0;32m---> 41\u001b[0;31m             \u001b[0mdX\u001b[0m \u001b[0;34m=\u001b[0m \u001b[0mbp_y\u001b[0m\u001b[0;34m(\u001b[0m\u001b[0md_output\u001b[0m\u001b[0;34m,\u001b[0m \u001b[0msgd\u001b[0m\u001b[0;34m)\u001b[0m\u001b[0;34m\u001b[0m\u001b[0;34m\u001b[0m\u001b[0m\n\u001b[0m\u001b[1;32m     42\u001b[0m             \u001b[0;32mif\u001b[0m \u001b[0misinstance\u001b[0m\u001b[0;34m(\u001b[0m\u001b[0md_output\u001b[0m\u001b[0;34m,\u001b[0m \u001b[0mlist\u001b[0m\u001b[0;34m)\u001b[0m \u001b[0;32mor\u001b[0m \u001b[0misinstance\u001b[0m\u001b[0;34m(\u001b[0m\u001b[0md_output\u001b[0m\u001b[0;34m,\u001b[0m \u001b[0mtuple\u001b[0m\u001b[0;34m)\u001b[0m\u001b[0;34m:\u001b[0m\u001b[0;34m\u001b[0m\u001b[0;34m\u001b[0m\u001b[0m\n\u001b[1;32m     43\u001b[0m                 \u001b[0;32mreturn\u001b[0m \u001b[0;34m[\u001b[0m\u001b[0md_output\u001b[0m\u001b[0;34m[\u001b[0m\u001b[0mi\u001b[0m\u001b[0;34m]\u001b[0m \u001b[0;34m+\u001b[0m \u001b[0mdX\u001b[0m\u001b[0;34m[\u001b[0m\u001b[0mi\u001b[0m\u001b[0;34m]\u001b[0m \u001b[0;32mfor\u001b[0m \u001b[0mi\u001b[0m \u001b[0;32min\u001b[0m \u001b[0mrange\u001b[0m\u001b[0;34m(\u001b[0m\u001b[0mlen\u001b[0m\u001b[0;34m(\u001b[0m\u001b[0md_output\u001b[0m\u001b[0;34m)\u001b[0m\u001b[0;34m)\u001b[0m\u001b[0;34m]\u001b[0m\u001b[0;34m\u001b[0m\u001b[0;34m\u001b[0m\u001b[0m\n",
            "\u001b[0;32m/usr/local/lib/python3.6/dist-packages/thinc/neural/_classes/feed_forward.py\u001b[0m in \u001b[0;36mcontinue_update\u001b[0;34m(gradient, sgd)\u001b[0m\n\u001b[1;32m     51\u001b[0m                 \u001b[0;32mif\u001b[0m \u001b[0mgradient\u001b[0m \u001b[0;32mis\u001b[0m \u001b[0;32mNone\u001b[0m \u001b[0;32mor\u001b[0m \u001b[0mcallback\u001b[0m \u001b[0;32mis\u001b[0m \u001b[0;32mNone\u001b[0m\u001b[0;34m:\u001b[0m\u001b[0;34m\u001b[0m\u001b[0;34m\u001b[0m\u001b[0m\n\u001b[1;32m     52\u001b[0m                     \u001b[0;32mbreak\u001b[0m\u001b[0;34m\u001b[0m\u001b[0;34m\u001b[0m\u001b[0m\n\u001b[0;32m---> 53\u001b[0;31m                 \u001b[0mgradient\u001b[0m \u001b[0;34m=\u001b[0m \u001b[0mcallback\u001b[0m\u001b[0;34m(\u001b[0m\u001b[0mgradient\u001b[0m\u001b[0;34m,\u001b[0m \u001b[0msgd\u001b[0m\u001b[0;34m)\u001b[0m\u001b[0;34m\u001b[0m\u001b[0;34m\u001b[0m\u001b[0m\n\u001b[0m\u001b[1;32m     54\u001b[0m             \u001b[0;32mreturn\u001b[0m \u001b[0mgradient\u001b[0m\u001b[0;34m\u001b[0m\u001b[0;34m\u001b[0m\u001b[0m\n\u001b[1;32m     55\u001b[0m \u001b[0;34m\u001b[0m\u001b[0m\n",
            "\u001b[0;32mops.pyx\u001b[0m in \u001b[0;36mthinc.neural.ops.Ops.dropout.wrap_backprop.finish_update\u001b[0;34m()\u001b[0m\n",
            "\u001b[0;32m/usr/local/lib/python3.6/dist-packages/thinc/neural/_classes/layernorm.py\u001b[0m in \u001b[0;36mfinish_update\u001b[0;34m(dy, sgd)\u001b[0m\n\u001b[1;32m     76\u001b[0m             \u001b[0md_xhat\u001b[0m \u001b[0;34m/=\u001b[0m \u001b[0mN\u001b[0m\u001b[0;34m\u001b[0m\u001b[0;34m\u001b[0m\u001b[0m\n\u001b[1;32m     77\u001b[0m             \u001b[0;32mif\u001b[0m \u001b[0mbackprop_child\u001b[0m \u001b[0;32mis\u001b[0m \u001b[0;32mnot\u001b[0m \u001b[0;32mNone\u001b[0m\u001b[0;34m:\u001b[0m\u001b[0;34m\u001b[0m\u001b[0;34m\u001b[0m\u001b[0m\n\u001b[0;32m---> 78\u001b[0;31m                 \u001b[0;32mreturn\u001b[0m \u001b[0mbackprop_child\u001b[0m\u001b[0;34m(\u001b[0m\u001b[0md_xhat\u001b[0m\u001b[0;34m,\u001b[0m \u001b[0msgd\u001b[0m\u001b[0;34m)\u001b[0m\u001b[0;34m\u001b[0m\u001b[0;34m\u001b[0m\u001b[0m\n\u001b[0m\u001b[1;32m     79\u001b[0m             \u001b[0;32melse\u001b[0m\u001b[0;34m:\u001b[0m\u001b[0;34m\u001b[0m\u001b[0;34m\u001b[0m\u001b[0m\n\u001b[1;32m     80\u001b[0m                 \u001b[0;32mreturn\u001b[0m \u001b[0md_xhat\u001b[0m\u001b[0;34m\u001b[0m\u001b[0;34m\u001b[0m\u001b[0m\n",
            "\u001b[0;32m/usr/local/lib/python3.6/dist-packages/thinc/neural/_classes/maxout.py\u001b[0m in \u001b[0;36mfinish_update\u001b[0;34m(dX__bo, sgd)\u001b[0m\n\u001b[1;32m     88\u001b[0m             \u001b[0;31m# Bop,opi->Bi\u001b[0m\u001b[0;34m\u001b[0m\u001b[0;34m\u001b[0m\u001b[0;34m\u001b[0m\u001b[0m\n\u001b[1;32m     89\u001b[0m             dX__bi = self.ops.gemm(\n\u001b[0;32m---> 90\u001b[0;31m                 \u001b[0mdX__bop\u001b[0m\u001b[0;34m,\u001b[0m \u001b[0mself\u001b[0m\u001b[0;34m.\u001b[0m\u001b[0mW\u001b[0m\u001b[0;34m.\u001b[0m\u001b[0mreshape\u001b[0m\u001b[0;34m(\u001b[0m\u001b[0;34m(\u001b[0m\u001b[0mself\u001b[0m\u001b[0;34m.\u001b[0m\u001b[0mnO\u001b[0m \u001b[0;34m*\u001b[0m \u001b[0mself\u001b[0m\u001b[0;34m.\u001b[0m\u001b[0mnP\u001b[0m\u001b[0;34m,\u001b[0m \u001b[0mself\u001b[0m\u001b[0;34m.\u001b[0m\u001b[0mnI\u001b[0m\u001b[0;34m)\u001b[0m\u001b[0;34m)\u001b[0m\u001b[0;34m\u001b[0m\u001b[0;34m\u001b[0m\u001b[0m\n\u001b[0m\u001b[1;32m     91\u001b[0m             )\n\u001b[1;32m     92\u001b[0m             \u001b[0;32mif\u001b[0m \u001b[0msgd\u001b[0m \u001b[0;32mis\u001b[0m \u001b[0;32mnot\u001b[0m \u001b[0;32mNone\u001b[0m\u001b[0;34m:\u001b[0m\u001b[0;34m\u001b[0m\u001b[0;34m\u001b[0m\u001b[0m\n",
            "\u001b[0;31mKeyboardInterrupt\u001b[0m: "
          ]
        }
      ]
    },
    {
      "cell_type": "markdown",
      "metadata": {
        "id": "CSWaY9kkvNy5",
        "colab_type": "text"
      },
      "source": [
        "## Evaluate"
      ]
    },
    {
      "cell_type": "code",
      "metadata": {
        "id": "J-wN8Unik5M0",
        "colab_type": "code",
        "colab": {}
      },
      "source": [
        "from sklearn.metrics import confusion_matrix, accuracy_score,average_precision_score, f1_score, classification_report"
      ],
      "execution_count": 150,
      "outputs": []
    },
    {
      "cell_type": "code",
      "metadata": {
        "id": "E0KoollM9vHI",
        "colab_type": "code",
        "colab": {}
      },
      "source": [
        "def one_or_less_map(one_or_less):\n",
        "  map_ = {}\n",
        "  df = df_labels[df_labels.canonical_vendor_name.isin(one_or_less)]\n",
        "  for i, row in df.iterrows():\n",
        "    map_[row.canonical_vendor_name] = row.name\n",
        "  return map_\n",
        "  "
      ],
      "execution_count": 106,
      "outputs": []
    },
    {
      "cell_type": "code",
      "metadata": {
        "id": "XEamRklP3Mm0",
        "colab_type": "code",
        "colab": {}
      },
      "source": [
        "def predict(model, test_dataset, df_orig=None, actual_exists=True):\n",
        "  y_actual, y_pred, y_actual_ones, y_pred_ones = [], [], [], []\n",
        "  if df_orig is not None: #as described before, this bit of code manually\n",
        "                          #predicts any vendor that has just one canonical name\n",
        "    ones = df_orig[df_orig.canonical_vendor_name.isin(one_or_less)]\n",
        "    map_ = one_or_less_map(one_or_less)\n",
        "    for i, row in ones.iterrows():\n",
        "      pred = map_[row.canonical_vendor_name]\n",
        "      if actual_exists:\n",
        "        another = df_labels[(df_labels.canonical_vendor_name == \n",
        "        row.canonical_vendor_name) & (df_labels.canonical_line_item_name == \n",
        "                                      row.canonical_line_item_name)]         \n",
        "        actual = another.index[0]\n",
        "        y_actual_ones.append(actual)\n",
        "      y_pred_ones.append(pred)\n",
        "    \n",
        "\n",
        "  for text, true_annot in test_dataset:\n",
        "    doc = model(text) \n",
        "    for ent in doc.ents:\n",
        "        if actual_exists:\n",
        "          y_actual.append(list(list(true_annot['links'].values())[0].keys())[0])\n",
        "        y_pred.append(ent.kb_id_)\n",
        "  return y_actual, y_pred, y_actual_ones, y_pred_ones\n"
      ],
      "execution_count": 188,
      "outputs": []
    },
    {
      "cell_type": "code",
      "metadata": {
        "id": "07HEM17wk-oT",
        "colab_type": "code",
        "colab": {}
      },
      "source": [
        "y_actual, y_pred, y_actual_ones, y_pred_ones= predict(nlp_blank, test_dataset, train_df)\n",
        "labes = list(set(y_actual+ y_pred))\n"
      ],
      "execution_count": 95,
      "outputs": []
    },
    {
      "cell_type": "code",
      "metadata": {
        "id": "8CI1gtjXlBgO",
        "colab_type": "code",
        "colab": {
          "base_uri": "https://localhost:8080/",
          "height": 105
        },
        "outputId": "e7518d44-bda2-4b50-b421-b6cb08053938"
      },
      "source": [
        "def get_metrics(y_actual, y_pred):\n",
        "  acc = accuracy_score(y_actual, y_pred)\n",
        "  f1 = f1_score(y_actual, y_pred, average='macro')\n",
        "  print('Accuracy:',acc)\n",
        "  print('F1_Score:',f1)\n",
        "  return acc, f1\n",
        "get_metrics(y_actual, y_pred), get_metrics(y_actual_ones, y_pred_ones)"
      ],
      "execution_count": 107,
      "outputs": [
        {
          "output_type": "stream",
          "text": [
            "Accuracy: 0.9066666666666666\n",
            "F1_Score: 0.7189384689384689\n",
            "Accuracy: 1.0\n",
            "F1_Score: 1.0\n"
          ],
          "name": "stdout"
        },
        {
          "output_type": "execute_result",
          "data": {
            "text/plain": [
              "((0.9066666666666666, 0.7189384689384689), (1.0, 1.0))"
            ]
          },
          "metadata": {
            "tags": []
          },
          "execution_count": 107
        }
      ]
    },
    {
      "cell_type": "code",
      "metadata": {
        "id": "yf8I8m064irj",
        "colab_type": "code",
        "colab": {}
      },
      "source": [
        "def confusion_matrix_heatmap(y_actual, y_pred, labels, figsize = (15,10)):\n",
        "  matrix = confusion_matrix(y_actual, y_pred, labels = labels)\n",
        "  plt.figure(figsize = figsize)\n",
        "  ax= plt.subplot()\n",
        "  sns.heatmap(matrix, annot=True, ax = ax); #annot=True to annotate cells\n",
        "\n",
        "  # labels, title and ticks\n",
        "  ax.set_xlabel('Predicted labels');ax.set_ylabel('True labels'); \n",
        "  ax.set_title('Confusion Matrix'); \n",
        "  ax.xaxis.set_ticklabels(labels); ax.yaxis.set_ticklabels(labels)\n",
        "  plt.show()\n",
        "#confusion_matrix_heatmap(y_actual, y_pred, labes)"
      ],
      "execution_count": 171,
      "outputs": []
    },
    {
      "cell_type": "markdown",
      "metadata": {
        "id": "ypcWL2TN2P7Z",
        "colab_type": "text"
      },
      "source": [
        "Results don't look bad! will now cross validate to make sure these are legit"
      ]
    },
    {
      "cell_type": "markdown",
      "metadata": {
        "id": "tVoRNnUx2CV4",
        "colab_type": "text"
      },
      "source": [
        "## Cross Validation"
      ]
    },
    {
      "cell_type": "code",
      "metadata": {
        "id": "7rfJo9Ty2EM6",
        "colab_type": "code",
        "colab": {}
      },
      "source": [
        "accs, f1s = [], []\n",
        "pred = []\n",
        "\n",
        "def cross_validate(train_data, num_validations):\n",
        "  for _ in range(num_validations):\n",
        "    print('validation:', _)\n",
        "    gold_ids = get_gold_ids(train_data)\n",
        "    print('shuffling train...')\n",
        "    train_dataset, test_dataset = train_test_split(train_data,gold_ids,6,shuffle=True)\n",
        "    print('building model...')\n",
        "    nlp_blank, train_dataset = build_model(kb, train_dataset, NAME)\n",
        "    print('training...')\n",
        "    train(nlp_blank, train_dataset, epochs=201, verbose=False)\n",
        "    print('getting metrics...')\n",
        "    y_actual, y_pred, y_actual_ones, y_pred_ones= predict(nlp_blank, test_dataset)\n",
        "    labes = list(set(y_actual+ y_pred)) \n",
        "    acc, f1 = get_metrics(y_actual, y_pred)\n",
        "    accs.append(acc)\n",
        "    f1s.append(f1)\n",
        "    pred.append((y_actual, y_pred))\n"
      ],
      "execution_count": 144,
      "outputs": []
    },
    {
      "cell_type": "code",
      "metadata": {
        "id": "AQAjNnmk2EP6",
        "colab_type": "code",
        "colab": {
          "base_uri": "https://localhost:8080/",
          "height": 1000
        },
        "outputId": "1115dccb-ca8b-4665-9957-e9e0b2f7a08a"
      },
      "source": [
        "cross_validate(train_data, 10)"
      ],
      "execution_count": 145,
      "outputs": [
        {
          "output_type": "stream",
          "text": [
            "validation: 10\n",
            "Counter({'4': 24, '411': 19, '5': 18, '3': 17, '243': 16, '429': 15, '406': 13, '6': 11, '246': 10, '248': 10, '281': 9, '470': 8, '244': 7, '478': 7, '290': 7, '365': 7, '228': 6, '272': 6, '469': 5, '405': 5, '431': 5, '220': 4, '301': 4, '306': 4, '392': 4, '366': 4, '42': 3, '477': 3, '484': 3, '491': 3, '168': 3, '175': 3, '247': 3, '250': 3, '302': 3, '513': 3, '320': 3, '315': 3, '341': 3, '409': 3, '420': 3, '434': 3, '440': 3, '435': 3, '432': 3, '449': 3, '444': 3, '104': 2, '20': 2, '505': 2, '488': 2, '502': 2, '152': 2, '154': 2, '200': 2, '7': 2, '209': 2, '212': 2, '219': 2, '224': 2, '479': 2, '270': 2, '273': 2, '276': 2, '294': 2, '303': 2, '507': 2, '509': 2, '309': 2, '308': 2, '310': 2, '319': 2, '316': 2, '352': 2, '364': 2, '367': 2, '408': 2, '417': 2, '436': 2, '437': 2, '438': 2, '448': 2, '445': 2, '452': 1, '454': 1, '456': 1, '26': 1, '45': 1, '46': 1, '47': 1, '49': 1, '51': 1, '53': 1, '27': 1, '55': 1, '56': 1, '57': 1, '59': 1, '61': 1, '14': 1, '62': 1, '64': 1, '30': 1, '31': 1, '65': 1, '32': 1, '66': 1, '71': 1, '73': 1, '74': 1, '36': 1, '76': 1, '78': 1, '79': 1, '80': 1, '81': 1, '82': 1, '84': 1, '85': 1, '86': 1, '87': 1, '88': 1, '90': 1, '92': 1, '38': 1, '93': 1, '94': 1, '96': 1, '100': 1, '101': 1, '18': 1, '103': 1, '105': 1, '41': 1, '109': 1, '110': 1, '21': 1, '119': 1, '43': 1, '122': 1, '124': 1, '22': 1, '459': 1, '464': 1, '460': 1, '466': 1, '461': 1, '468': 1, '473': 1, '474': 1, '487': 1, '489': 1, '126': 1, '128': 1, '129': 1, '132': 1, '133': 1, '134': 1, '135': 1, '140': 1, '141': 1, '142': 1, '144': 1, '145': 1, '147': 1, '395': 1, '159': 1, '161': 1, '163': 1, '166': 1, '165': 1, '169': 1, '170': 1, '171': 1, '174': 1, '176': 1, '177': 1, '186': 1, '187': 1, '188': 1, '189': 1, '191': 1, '192': 1, '193': 1, '196': 1, '197': 1, '199': 1, '201': 1, '202': 1, '230': 1, '10': 1, '13': 1, '11': 1, '8': 1, '9': 1, '205': 1, '210': 1, '211': 1, '496': 1, '500': 1, '501': 1, '217': 1, '222': 1, '233': 1, '234': 1, '238': 1, '239': 1, '249': 1, '245': 1, '251': 1, '252': 1, '254': 1, '257': 1, '260': 1, '481': 1, '263': 1, '264': 1, '265': 1, '269': 1, '325': 1, '277': 1, '279': 1, '280': 1, '278': 1, '287': 1, '288': 1, '291': 1, '292': 1, '296': 1, '298': 1, '299': 1, '300': 1, '540': 1, '510': 1, '511': 1, '512': 1, '539': 1, '514': 1, '515': 1, '517': 1, '519': 1, '524': 1, '525': 1, '526': 1, '527': 1, '520': 1, '521': 1, '324': 1, '242': 1, '307': 1, '321': 1, '322': 1, '323': 1, '318': 1, '347': 1, '348': 1, '326': 1, '327': 1, '328': 1, '329': 1, '336': 1, '337': 1, '389': 1, '390': 1, '342': 1, '345': 1, '543': 1, '359': 1, '353': 1, '360': 1, '356': 1, '361': 1, '355': 1, '541': 1, '368': 1, '372': 1, '378': 1, '381': 1, '382': 1, '383': 1, '384': 1, '385': 1, '401': 1, '402': 1, '537': 1, '532': 1, '529': 1, '530': 1, '535': 1, '410': 1, '419': 1, '421': 1, '422': 1, '427': 1, '439': 1, '443': 1, '430': 1, '446': 1, '433': 1})\n",
            "shuffling train...\n",
            "building model...\n",
            "setting up\n",
            "training...\n",
            "0 Losses {'entity_linker': 31.67812515795231}\n",
            "100 Losses {'entity_linker': 3.975003704428673}\n",
            "200 Losses {'entity_linker': 3.2877109050750732}\n",
            "200 Losses {'entity_linker': 3.2877109050750732}\n",
            "getting metrics...\n",
            "Accuracy: 0.9313725490196079\n",
            "F1_Score: 0.8403253666411561\n",
            "validation: 10\n",
            "Counter({'4': 24, '411': 19, '5': 18, '3': 17, '243': 16, '429': 15, '406': 13, '6': 11, '246': 10, '248': 10, '281': 9, '470': 8, '244': 7, '478': 7, '290': 7, '365': 7, '228': 6, '272': 6, '469': 5, '405': 5, '431': 5, '220': 4, '301': 4, '306': 4, '392': 4, '366': 4, '42': 3, '477': 3, '484': 3, '491': 3, '168': 3, '175': 3, '247': 3, '250': 3, '302': 3, '513': 3, '320': 3, '315': 3, '341': 3, '409': 3, '420': 3, '434': 3, '440': 3, '435': 3, '432': 3, '449': 3, '444': 3, '104': 2, '20': 2, '505': 2, '488': 2, '502': 2, '152': 2, '154': 2, '200': 2, '7': 2, '209': 2, '212': 2, '219': 2, '224': 2, '479': 2, '270': 2, '273': 2, '276': 2, '294': 2, '303': 2, '507': 2, '509': 2, '309': 2, '308': 2, '310': 2, '319': 2, '316': 2, '352': 2, '364': 2, '367': 2, '408': 2, '417': 2, '436': 2, '437': 2, '438': 2, '448': 2, '445': 2, '452': 1, '454': 1, '456': 1, '26': 1, '45': 1, '46': 1, '47': 1, '49': 1, '51': 1, '53': 1, '27': 1, '55': 1, '56': 1, '57': 1, '59': 1, '61': 1, '14': 1, '62': 1, '64': 1, '30': 1, '31': 1, '65': 1, '32': 1, '66': 1, '71': 1, '73': 1, '74': 1, '36': 1, '76': 1, '78': 1, '79': 1, '80': 1, '81': 1, '82': 1, '84': 1, '85': 1, '86': 1, '87': 1, '88': 1, '90': 1, '92': 1, '38': 1, '93': 1, '94': 1, '96': 1, '100': 1, '101': 1, '18': 1, '103': 1, '105': 1, '41': 1, '109': 1, '110': 1, '21': 1, '119': 1, '43': 1, '122': 1, '124': 1, '22': 1, '459': 1, '464': 1, '460': 1, '466': 1, '461': 1, '468': 1, '473': 1, '474': 1, '487': 1, '489': 1, '126': 1, '128': 1, '129': 1, '132': 1, '133': 1, '134': 1, '135': 1, '140': 1, '141': 1, '142': 1, '144': 1, '145': 1, '147': 1, '395': 1, '159': 1, '161': 1, '163': 1, '166': 1, '165': 1, '169': 1, '170': 1, '171': 1, '174': 1, '176': 1, '177': 1, '186': 1, '187': 1, '188': 1, '189': 1, '191': 1, '192': 1, '193': 1, '196': 1, '197': 1, '199': 1, '201': 1, '202': 1, '230': 1, '10': 1, '13': 1, '11': 1, '8': 1, '9': 1, '205': 1, '210': 1, '211': 1, '496': 1, '500': 1, '501': 1, '217': 1, '222': 1, '233': 1, '234': 1, '238': 1, '239': 1, '249': 1, '245': 1, '251': 1, '252': 1, '254': 1, '257': 1, '260': 1, '481': 1, '263': 1, '264': 1, '265': 1, '269': 1, '325': 1, '277': 1, '279': 1, '280': 1, '278': 1, '287': 1, '288': 1, '291': 1, '292': 1, '296': 1, '298': 1, '299': 1, '300': 1, '540': 1, '510': 1, '511': 1, '512': 1, '539': 1, '514': 1, '515': 1, '517': 1, '519': 1, '524': 1, '525': 1, '526': 1, '527': 1, '520': 1, '521': 1, '324': 1, '242': 1, '307': 1, '321': 1, '322': 1, '323': 1, '318': 1, '347': 1, '348': 1, '326': 1, '327': 1, '328': 1, '329': 1, '336': 1, '337': 1, '389': 1, '390': 1, '342': 1, '345': 1, '543': 1, '359': 1, '353': 1, '360': 1, '356': 1, '361': 1, '355': 1, '541': 1, '368': 1, '372': 1, '378': 1, '381': 1, '382': 1, '383': 1, '384': 1, '385': 1, '401': 1, '402': 1, '537': 1, '532': 1, '529': 1, '530': 1, '535': 1, '410': 1, '419': 1, '421': 1, '422': 1, '427': 1, '439': 1, '443': 1, '430': 1, '446': 1, '433': 1})\n",
            "shuffling train...\n",
            "building model...\n",
            "setting up\n",
            "training...\n",
            "0 Losses {'entity_linker': 30.440534204244614}\n",
            "100 Losses {'entity_linker': 4.025720506906509}\n",
            "200 Losses {'entity_linker': 3.311070203781128}\n",
            "200 Losses {'entity_linker': 3.311070203781128}\n",
            "getting metrics...\n",
            "Accuracy: 0.9313725490196079\n",
            "F1_Score: 0.7666207853730436\n",
            "validation: 10\n",
            "Counter({'4': 24, '411': 19, '5': 18, '3': 17, '243': 16, '429': 15, '406': 13, '6': 11, '246': 10, '248': 10, '281': 9, '470': 8, '244': 7, '478': 7, '290': 7, '365': 7, '228': 6, '272': 6, '469': 5, '405': 5, '431': 5, '220': 4, '301': 4, '306': 4, '392': 4, '366': 4, '42': 3, '477': 3, '484': 3, '491': 3, '168': 3, '175': 3, '247': 3, '250': 3, '302': 3, '513': 3, '320': 3, '315': 3, '341': 3, '409': 3, '420': 3, '434': 3, '440': 3, '435': 3, '432': 3, '449': 3, '444': 3, '104': 2, '20': 2, '505': 2, '488': 2, '502': 2, '152': 2, '154': 2, '200': 2, '7': 2, '209': 2, '212': 2, '219': 2, '224': 2, '479': 2, '270': 2, '273': 2, '276': 2, '294': 2, '303': 2, '507': 2, '509': 2, '309': 2, '308': 2, '310': 2, '319': 2, '316': 2, '352': 2, '364': 2, '367': 2, '408': 2, '417': 2, '436': 2, '437': 2, '438': 2, '448': 2, '445': 2, '452': 1, '454': 1, '456': 1, '26': 1, '45': 1, '46': 1, '47': 1, '49': 1, '51': 1, '53': 1, '27': 1, '55': 1, '56': 1, '57': 1, '59': 1, '61': 1, '14': 1, '62': 1, '64': 1, '30': 1, '31': 1, '65': 1, '32': 1, '66': 1, '71': 1, '73': 1, '74': 1, '36': 1, '76': 1, '78': 1, '79': 1, '80': 1, '81': 1, '82': 1, '84': 1, '85': 1, '86': 1, '87': 1, '88': 1, '90': 1, '92': 1, '38': 1, '93': 1, '94': 1, '96': 1, '100': 1, '101': 1, '18': 1, '103': 1, '105': 1, '41': 1, '109': 1, '110': 1, '21': 1, '119': 1, '43': 1, '122': 1, '124': 1, '22': 1, '459': 1, '464': 1, '460': 1, '466': 1, '461': 1, '468': 1, '473': 1, '474': 1, '487': 1, '489': 1, '126': 1, '128': 1, '129': 1, '132': 1, '133': 1, '134': 1, '135': 1, '140': 1, '141': 1, '142': 1, '144': 1, '145': 1, '147': 1, '395': 1, '159': 1, '161': 1, '163': 1, '166': 1, '165': 1, '169': 1, '170': 1, '171': 1, '174': 1, '176': 1, '177': 1, '186': 1, '187': 1, '188': 1, '189': 1, '191': 1, '192': 1, '193': 1, '196': 1, '197': 1, '199': 1, '201': 1, '202': 1, '230': 1, '10': 1, '13': 1, '11': 1, '8': 1, '9': 1, '205': 1, '210': 1, '211': 1, '496': 1, '500': 1, '501': 1, '217': 1, '222': 1, '233': 1, '234': 1, '238': 1, '239': 1, '249': 1, '245': 1, '251': 1, '252': 1, '254': 1, '257': 1, '260': 1, '481': 1, '263': 1, '264': 1, '265': 1, '269': 1, '325': 1, '277': 1, '279': 1, '280': 1, '278': 1, '287': 1, '288': 1, '291': 1, '292': 1, '296': 1, '298': 1, '299': 1, '300': 1, '540': 1, '510': 1, '511': 1, '512': 1, '539': 1, '514': 1, '515': 1, '517': 1, '519': 1, '524': 1, '525': 1, '526': 1, '527': 1, '520': 1, '521': 1, '324': 1, '242': 1, '307': 1, '321': 1, '322': 1, '323': 1, '318': 1, '347': 1, '348': 1, '326': 1, '327': 1, '328': 1, '329': 1, '336': 1, '337': 1, '389': 1, '390': 1, '342': 1, '345': 1, '543': 1, '359': 1, '353': 1, '360': 1, '356': 1, '361': 1, '355': 1, '541': 1, '368': 1, '372': 1, '378': 1, '381': 1, '382': 1, '383': 1, '384': 1, '385': 1, '401': 1, '402': 1, '537': 1, '532': 1, '529': 1, '530': 1, '535': 1, '410': 1, '419': 1, '421': 1, '422': 1, '427': 1, '439': 1, '443': 1, '430': 1, '446': 1, '433': 1})\n",
            "shuffling train...\n",
            "building model...\n",
            "setting up\n",
            "training...\n",
            "0 Losses {'entity_linker': 30.66966089606285}\n",
            "100 Losses {'entity_linker': 3.9888787269592285}\n",
            "200 Losses {'entity_linker': 3.2692705392837524}\n",
            "200 Losses {'entity_linker': 3.2692705392837524}\n",
            "getting metrics...\n",
            "Accuracy: 0.9019607843137255\n",
            "F1_Score: 0.7740460226744419\n",
            "validation: 10\n",
            "Counter({'4': 24, '411': 19, '5': 18, '3': 17, '243': 16, '429': 15, '406': 13, '6': 11, '246': 10, '248': 10, '281': 9, '470': 8, '244': 7, '478': 7, '290': 7, '365': 7, '228': 6, '272': 6, '469': 5, '405': 5, '431': 5, '220': 4, '301': 4, '306': 4, '392': 4, '366': 4, '42': 3, '477': 3, '484': 3, '491': 3, '168': 3, '175': 3, '247': 3, '250': 3, '302': 3, '513': 3, '320': 3, '315': 3, '341': 3, '409': 3, '420': 3, '434': 3, '440': 3, '435': 3, '432': 3, '449': 3, '444': 3, '104': 2, '20': 2, '505': 2, '488': 2, '502': 2, '152': 2, '154': 2, '200': 2, '7': 2, '209': 2, '212': 2, '219': 2, '224': 2, '479': 2, '270': 2, '273': 2, '276': 2, '294': 2, '303': 2, '507': 2, '509': 2, '309': 2, '308': 2, '310': 2, '319': 2, '316': 2, '352': 2, '364': 2, '367': 2, '408': 2, '417': 2, '436': 2, '437': 2, '438': 2, '448': 2, '445': 2, '452': 1, '454': 1, '456': 1, '26': 1, '45': 1, '46': 1, '47': 1, '49': 1, '51': 1, '53': 1, '27': 1, '55': 1, '56': 1, '57': 1, '59': 1, '61': 1, '14': 1, '62': 1, '64': 1, '30': 1, '31': 1, '65': 1, '32': 1, '66': 1, '71': 1, '73': 1, '74': 1, '36': 1, '76': 1, '78': 1, '79': 1, '80': 1, '81': 1, '82': 1, '84': 1, '85': 1, '86': 1, '87': 1, '88': 1, '90': 1, '92': 1, '38': 1, '93': 1, '94': 1, '96': 1, '100': 1, '101': 1, '18': 1, '103': 1, '105': 1, '41': 1, '109': 1, '110': 1, '21': 1, '119': 1, '43': 1, '122': 1, '124': 1, '22': 1, '459': 1, '464': 1, '460': 1, '466': 1, '461': 1, '468': 1, '473': 1, '474': 1, '487': 1, '489': 1, '126': 1, '128': 1, '129': 1, '132': 1, '133': 1, '134': 1, '135': 1, '140': 1, '141': 1, '142': 1, '144': 1, '145': 1, '147': 1, '395': 1, '159': 1, '161': 1, '163': 1, '166': 1, '165': 1, '169': 1, '170': 1, '171': 1, '174': 1, '176': 1, '177': 1, '186': 1, '187': 1, '188': 1, '189': 1, '191': 1, '192': 1, '193': 1, '196': 1, '197': 1, '199': 1, '201': 1, '202': 1, '230': 1, '10': 1, '13': 1, '11': 1, '8': 1, '9': 1, '205': 1, '210': 1, '211': 1, '496': 1, '500': 1, '501': 1, '217': 1, '222': 1, '233': 1, '234': 1, '238': 1, '239': 1, '249': 1, '245': 1, '251': 1, '252': 1, '254': 1, '257': 1, '260': 1, '481': 1, '263': 1, '264': 1, '265': 1, '269': 1, '325': 1, '277': 1, '279': 1, '280': 1, '278': 1, '287': 1, '288': 1, '291': 1, '292': 1, '296': 1, '298': 1, '299': 1, '300': 1, '540': 1, '510': 1, '511': 1, '512': 1, '539': 1, '514': 1, '515': 1, '517': 1, '519': 1, '524': 1, '525': 1, '526': 1, '527': 1, '520': 1, '521': 1, '324': 1, '242': 1, '307': 1, '321': 1, '322': 1, '323': 1, '318': 1, '347': 1, '348': 1, '326': 1, '327': 1, '328': 1, '329': 1, '336': 1, '337': 1, '389': 1, '390': 1, '342': 1, '345': 1, '543': 1, '359': 1, '353': 1, '360': 1, '356': 1, '361': 1, '355': 1, '541': 1, '368': 1, '372': 1, '378': 1, '381': 1, '382': 1, '383': 1, '384': 1, '385': 1, '401': 1, '402': 1, '537': 1, '532': 1, '529': 1, '530': 1, '535': 1, '410': 1, '419': 1, '421': 1, '422': 1, '427': 1, '439': 1, '443': 1, '430': 1, '446': 1, '433': 1})\n",
            "shuffling train...\n",
            "building model...\n",
            "setting up\n",
            "training...\n",
            "0 Losses {'entity_linker': 31.017982751131058}\n",
            "100 Losses {'entity_linker': 3.922480195760727}\n",
            "200 Losses {'entity_linker': 3.2932498306035995}\n",
            "200 Losses {'entity_linker': 3.2932498306035995}\n",
            "getting metrics...\n",
            "Accuracy: 0.9019607843137255\n",
            "F1_Score: 0.7281672888514993\n",
            "validation: 10\n",
            "Counter({'4': 24, '411': 19, '5': 18, '3': 17, '243': 16, '429': 15, '406': 13, '6': 11, '246': 10, '248': 10, '281': 9, '470': 8, '244': 7, '478': 7, '290': 7, '365': 7, '228': 6, '272': 6, '469': 5, '405': 5, '431': 5, '220': 4, '301': 4, '306': 4, '392': 4, '366': 4, '42': 3, '477': 3, '484': 3, '491': 3, '168': 3, '175': 3, '247': 3, '250': 3, '302': 3, '513': 3, '320': 3, '315': 3, '341': 3, '409': 3, '420': 3, '434': 3, '440': 3, '435': 3, '432': 3, '449': 3, '444': 3, '104': 2, '20': 2, '505': 2, '488': 2, '502': 2, '152': 2, '154': 2, '200': 2, '7': 2, '209': 2, '212': 2, '219': 2, '224': 2, '479': 2, '270': 2, '273': 2, '276': 2, '294': 2, '303': 2, '507': 2, '509': 2, '309': 2, '308': 2, '310': 2, '319': 2, '316': 2, '352': 2, '364': 2, '367': 2, '408': 2, '417': 2, '436': 2, '437': 2, '438': 2, '448': 2, '445': 2, '452': 1, '454': 1, '456': 1, '26': 1, '45': 1, '46': 1, '47': 1, '49': 1, '51': 1, '53': 1, '27': 1, '55': 1, '56': 1, '57': 1, '59': 1, '61': 1, '14': 1, '62': 1, '64': 1, '30': 1, '31': 1, '65': 1, '32': 1, '66': 1, '71': 1, '73': 1, '74': 1, '36': 1, '76': 1, '78': 1, '79': 1, '80': 1, '81': 1, '82': 1, '84': 1, '85': 1, '86': 1, '87': 1, '88': 1, '90': 1, '92': 1, '38': 1, '93': 1, '94': 1, '96': 1, '100': 1, '101': 1, '18': 1, '103': 1, '105': 1, '41': 1, '109': 1, '110': 1, '21': 1, '119': 1, '43': 1, '122': 1, '124': 1, '22': 1, '459': 1, '464': 1, '460': 1, '466': 1, '461': 1, '468': 1, '473': 1, '474': 1, '487': 1, '489': 1, '126': 1, '128': 1, '129': 1, '132': 1, '133': 1, '134': 1, '135': 1, '140': 1, '141': 1, '142': 1, '144': 1, '145': 1, '147': 1, '395': 1, '159': 1, '161': 1, '163': 1, '166': 1, '165': 1, '169': 1, '170': 1, '171': 1, '174': 1, '176': 1, '177': 1, '186': 1, '187': 1, '188': 1, '189': 1, '191': 1, '192': 1, '193': 1, '196': 1, '197': 1, '199': 1, '201': 1, '202': 1, '230': 1, '10': 1, '13': 1, '11': 1, '8': 1, '9': 1, '205': 1, '210': 1, '211': 1, '496': 1, '500': 1, '501': 1, '217': 1, '222': 1, '233': 1, '234': 1, '238': 1, '239': 1, '249': 1, '245': 1, '251': 1, '252': 1, '254': 1, '257': 1, '260': 1, '481': 1, '263': 1, '264': 1, '265': 1, '269': 1, '325': 1, '277': 1, '279': 1, '280': 1, '278': 1, '287': 1, '288': 1, '291': 1, '292': 1, '296': 1, '298': 1, '299': 1, '300': 1, '540': 1, '510': 1, '511': 1, '512': 1, '539': 1, '514': 1, '515': 1, '517': 1, '519': 1, '524': 1, '525': 1, '526': 1, '527': 1, '520': 1, '521': 1, '324': 1, '242': 1, '307': 1, '321': 1, '322': 1, '323': 1, '318': 1, '347': 1, '348': 1, '326': 1, '327': 1, '328': 1, '329': 1, '336': 1, '337': 1, '389': 1, '390': 1, '342': 1, '345': 1, '543': 1, '359': 1, '353': 1, '360': 1, '356': 1, '361': 1, '355': 1, '541': 1, '368': 1, '372': 1, '378': 1, '381': 1, '382': 1, '383': 1, '384': 1, '385': 1, '401': 1, '402': 1, '537': 1, '532': 1, '529': 1, '530': 1, '535': 1, '410': 1, '419': 1, '421': 1, '422': 1, '427': 1, '439': 1, '443': 1, '430': 1, '446': 1, '433': 1})\n",
            "shuffling train...\n",
            "building model...\n",
            "setting up\n",
            "training...\n",
            "0 Losses {'entity_linker': 30.85134917497635}\n",
            "100 Losses {'entity_linker': 3.880384087562561}\n",
            "200 Losses {'entity_linker': 3.281560257077217}\n",
            "200 Losses {'entity_linker': 3.281560257077217}\n",
            "getting metrics...\n",
            "Accuracy: 0.9607843137254902\n",
            "F1_Score: 0.9261499285028696\n",
            "validation: 10\n",
            "Counter({'4': 24, '411': 19, '5': 18, '3': 17, '243': 16, '429': 15, '406': 13, '6': 11, '246': 10, '248': 10, '281': 9, '470': 8, '244': 7, '478': 7, '290': 7, '365': 7, '228': 6, '272': 6, '469': 5, '405': 5, '431': 5, '220': 4, '301': 4, '306': 4, '392': 4, '366': 4, '42': 3, '477': 3, '484': 3, '491': 3, '168': 3, '175': 3, '247': 3, '250': 3, '302': 3, '513': 3, '320': 3, '315': 3, '341': 3, '409': 3, '420': 3, '434': 3, '440': 3, '435': 3, '432': 3, '449': 3, '444': 3, '104': 2, '20': 2, '505': 2, '488': 2, '502': 2, '152': 2, '154': 2, '200': 2, '7': 2, '209': 2, '212': 2, '219': 2, '224': 2, '479': 2, '270': 2, '273': 2, '276': 2, '294': 2, '303': 2, '507': 2, '509': 2, '309': 2, '308': 2, '310': 2, '319': 2, '316': 2, '352': 2, '364': 2, '367': 2, '408': 2, '417': 2, '436': 2, '437': 2, '438': 2, '448': 2, '445': 2, '452': 1, '454': 1, '456': 1, '26': 1, '45': 1, '46': 1, '47': 1, '49': 1, '51': 1, '53': 1, '27': 1, '55': 1, '56': 1, '57': 1, '59': 1, '61': 1, '14': 1, '62': 1, '64': 1, '30': 1, '31': 1, '65': 1, '32': 1, '66': 1, '71': 1, '73': 1, '74': 1, '36': 1, '76': 1, '78': 1, '79': 1, '80': 1, '81': 1, '82': 1, '84': 1, '85': 1, '86': 1, '87': 1, '88': 1, '90': 1, '92': 1, '38': 1, '93': 1, '94': 1, '96': 1, '100': 1, '101': 1, '18': 1, '103': 1, '105': 1, '41': 1, '109': 1, '110': 1, '21': 1, '119': 1, '43': 1, '122': 1, '124': 1, '22': 1, '459': 1, '464': 1, '460': 1, '466': 1, '461': 1, '468': 1, '473': 1, '474': 1, '487': 1, '489': 1, '126': 1, '128': 1, '129': 1, '132': 1, '133': 1, '134': 1, '135': 1, '140': 1, '141': 1, '142': 1, '144': 1, '145': 1, '147': 1, '395': 1, '159': 1, '161': 1, '163': 1, '166': 1, '165': 1, '169': 1, '170': 1, '171': 1, '174': 1, '176': 1, '177': 1, '186': 1, '187': 1, '188': 1, '189': 1, '191': 1, '192': 1, '193': 1, '196': 1, '197': 1, '199': 1, '201': 1, '202': 1, '230': 1, '10': 1, '13': 1, '11': 1, '8': 1, '9': 1, '205': 1, '210': 1, '211': 1, '496': 1, '500': 1, '501': 1, '217': 1, '222': 1, '233': 1, '234': 1, '238': 1, '239': 1, '249': 1, '245': 1, '251': 1, '252': 1, '254': 1, '257': 1, '260': 1, '481': 1, '263': 1, '264': 1, '265': 1, '269': 1, '325': 1, '277': 1, '279': 1, '280': 1, '278': 1, '287': 1, '288': 1, '291': 1, '292': 1, '296': 1, '298': 1, '299': 1, '300': 1, '540': 1, '510': 1, '511': 1, '512': 1, '539': 1, '514': 1, '515': 1, '517': 1, '519': 1, '524': 1, '525': 1, '526': 1, '527': 1, '520': 1, '521': 1, '324': 1, '242': 1, '307': 1, '321': 1, '322': 1, '323': 1, '318': 1, '347': 1, '348': 1, '326': 1, '327': 1, '328': 1, '329': 1, '336': 1, '337': 1, '389': 1, '390': 1, '342': 1, '345': 1, '543': 1, '359': 1, '353': 1, '360': 1, '356': 1, '361': 1, '355': 1, '541': 1, '368': 1, '372': 1, '378': 1, '381': 1, '382': 1, '383': 1, '384': 1, '385': 1, '401': 1, '402': 1, '537': 1, '532': 1, '529': 1, '530': 1, '535': 1, '410': 1, '419': 1, '421': 1, '422': 1, '427': 1, '439': 1, '443': 1, '430': 1, '446': 1, '433': 1})\n",
            "shuffling train...\n",
            "building model...\n",
            "setting up\n",
            "training...\n",
            "0 Losses {'entity_linker': 31.4531442373991}\n",
            "100 Losses {'entity_linker': 3.9867811799049377}\n",
            "200 Losses {'entity_linker': 3.269262045621872}\n",
            "200 Losses {'entity_linker': 3.269262045621872}\n",
            "getting metrics...\n",
            "Accuracy: 0.9313725490196079\n",
            "F1_Score: 0.8055143617991914\n",
            "validation: 10\n",
            "Counter({'4': 24, '411': 19, '5': 18, '3': 17, '243': 16, '429': 15, '406': 13, '6': 11, '246': 10, '248': 10, '281': 9, '470': 8, '244': 7, '478': 7, '290': 7, '365': 7, '228': 6, '272': 6, '469': 5, '405': 5, '431': 5, '220': 4, '301': 4, '306': 4, '392': 4, '366': 4, '42': 3, '477': 3, '484': 3, '491': 3, '168': 3, '175': 3, '247': 3, '250': 3, '302': 3, '513': 3, '320': 3, '315': 3, '341': 3, '409': 3, '420': 3, '434': 3, '440': 3, '435': 3, '432': 3, '449': 3, '444': 3, '104': 2, '20': 2, '505': 2, '488': 2, '502': 2, '152': 2, '154': 2, '200': 2, '7': 2, '209': 2, '212': 2, '219': 2, '224': 2, '479': 2, '270': 2, '273': 2, '276': 2, '294': 2, '303': 2, '507': 2, '509': 2, '309': 2, '308': 2, '310': 2, '319': 2, '316': 2, '352': 2, '364': 2, '367': 2, '408': 2, '417': 2, '436': 2, '437': 2, '438': 2, '448': 2, '445': 2, '452': 1, '454': 1, '456': 1, '26': 1, '45': 1, '46': 1, '47': 1, '49': 1, '51': 1, '53': 1, '27': 1, '55': 1, '56': 1, '57': 1, '59': 1, '61': 1, '14': 1, '62': 1, '64': 1, '30': 1, '31': 1, '65': 1, '32': 1, '66': 1, '71': 1, '73': 1, '74': 1, '36': 1, '76': 1, '78': 1, '79': 1, '80': 1, '81': 1, '82': 1, '84': 1, '85': 1, '86': 1, '87': 1, '88': 1, '90': 1, '92': 1, '38': 1, '93': 1, '94': 1, '96': 1, '100': 1, '101': 1, '18': 1, '103': 1, '105': 1, '41': 1, '109': 1, '110': 1, '21': 1, '119': 1, '43': 1, '122': 1, '124': 1, '22': 1, '459': 1, '464': 1, '460': 1, '466': 1, '461': 1, '468': 1, '473': 1, '474': 1, '487': 1, '489': 1, '126': 1, '128': 1, '129': 1, '132': 1, '133': 1, '134': 1, '135': 1, '140': 1, '141': 1, '142': 1, '144': 1, '145': 1, '147': 1, '395': 1, '159': 1, '161': 1, '163': 1, '166': 1, '165': 1, '169': 1, '170': 1, '171': 1, '174': 1, '176': 1, '177': 1, '186': 1, '187': 1, '188': 1, '189': 1, '191': 1, '192': 1, '193': 1, '196': 1, '197': 1, '199': 1, '201': 1, '202': 1, '230': 1, '10': 1, '13': 1, '11': 1, '8': 1, '9': 1, '205': 1, '210': 1, '211': 1, '496': 1, '500': 1, '501': 1, '217': 1, '222': 1, '233': 1, '234': 1, '238': 1, '239': 1, '249': 1, '245': 1, '251': 1, '252': 1, '254': 1, '257': 1, '260': 1, '481': 1, '263': 1, '264': 1, '265': 1, '269': 1, '325': 1, '277': 1, '279': 1, '280': 1, '278': 1, '287': 1, '288': 1, '291': 1, '292': 1, '296': 1, '298': 1, '299': 1, '300': 1, '540': 1, '510': 1, '511': 1, '512': 1, '539': 1, '514': 1, '515': 1, '517': 1, '519': 1, '524': 1, '525': 1, '526': 1, '527': 1, '520': 1, '521': 1, '324': 1, '242': 1, '307': 1, '321': 1, '322': 1, '323': 1, '318': 1, '347': 1, '348': 1, '326': 1, '327': 1, '328': 1, '329': 1, '336': 1, '337': 1, '389': 1, '390': 1, '342': 1, '345': 1, '543': 1, '359': 1, '353': 1, '360': 1, '356': 1, '361': 1, '355': 1, '541': 1, '368': 1, '372': 1, '378': 1, '381': 1, '382': 1, '383': 1, '384': 1, '385': 1, '401': 1, '402': 1, '537': 1, '532': 1, '529': 1, '530': 1, '535': 1, '410': 1, '419': 1, '421': 1, '422': 1, '427': 1, '439': 1, '443': 1, '430': 1, '446': 1, '433': 1})\n",
            "shuffling train...\n",
            "building model...\n",
            "setting up\n",
            "training...\n",
            "0 Losses {'entity_linker': 31.00782509148121}\n",
            "100 Losses {'entity_linker': 3.9921006858348846}\n",
            "200 Losses {'entity_linker': 3.3012367486953735}\n",
            "200 Losses {'entity_linker': 3.3012367486953735}\n",
            "getting metrics...\n",
            "Accuracy: 0.9607843137254902\n",
            "F1_Score: 0.9212799902569724\n",
            "validation: 10\n",
            "Counter({'4': 24, '411': 19, '5': 18, '3': 17, '243': 16, '429': 15, '406': 13, '6': 11, '246': 10, '248': 10, '281': 9, '470': 8, '244': 7, '478': 7, '290': 7, '365': 7, '228': 6, '272': 6, '469': 5, '405': 5, '431': 5, '220': 4, '301': 4, '306': 4, '392': 4, '366': 4, '42': 3, '477': 3, '484': 3, '491': 3, '168': 3, '175': 3, '247': 3, '250': 3, '302': 3, '513': 3, '320': 3, '315': 3, '341': 3, '409': 3, '420': 3, '434': 3, '440': 3, '435': 3, '432': 3, '449': 3, '444': 3, '104': 2, '20': 2, '505': 2, '488': 2, '502': 2, '152': 2, '154': 2, '200': 2, '7': 2, '209': 2, '212': 2, '219': 2, '224': 2, '479': 2, '270': 2, '273': 2, '276': 2, '294': 2, '303': 2, '507': 2, '509': 2, '309': 2, '308': 2, '310': 2, '319': 2, '316': 2, '352': 2, '364': 2, '367': 2, '408': 2, '417': 2, '436': 2, '437': 2, '438': 2, '448': 2, '445': 2, '452': 1, '454': 1, '456': 1, '26': 1, '45': 1, '46': 1, '47': 1, '49': 1, '51': 1, '53': 1, '27': 1, '55': 1, '56': 1, '57': 1, '59': 1, '61': 1, '14': 1, '62': 1, '64': 1, '30': 1, '31': 1, '65': 1, '32': 1, '66': 1, '71': 1, '73': 1, '74': 1, '36': 1, '76': 1, '78': 1, '79': 1, '80': 1, '81': 1, '82': 1, '84': 1, '85': 1, '86': 1, '87': 1, '88': 1, '90': 1, '92': 1, '38': 1, '93': 1, '94': 1, '96': 1, '100': 1, '101': 1, '18': 1, '103': 1, '105': 1, '41': 1, '109': 1, '110': 1, '21': 1, '119': 1, '43': 1, '122': 1, '124': 1, '22': 1, '459': 1, '464': 1, '460': 1, '466': 1, '461': 1, '468': 1, '473': 1, '474': 1, '487': 1, '489': 1, '126': 1, '128': 1, '129': 1, '132': 1, '133': 1, '134': 1, '135': 1, '140': 1, '141': 1, '142': 1, '144': 1, '145': 1, '147': 1, '395': 1, '159': 1, '161': 1, '163': 1, '166': 1, '165': 1, '169': 1, '170': 1, '171': 1, '174': 1, '176': 1, '177': 1, '186': 1, '187': 1, '188': 1, '189': 1, '191': 1, '192': 1, '193': 1, '196': 1, '197': 1, '199': 1, '201': 1, '202': 1, '230': 1, '10': 1, '13': 1, '11': 1, '8': 1, '9': 1, '205': 1, '210': 1, '211': 1, '496': 1, '500': 1, '501': 1, '217': 1, '222': 1, '233': 1, '234': 1, '238': 1, '239': 1, '249': 1, '245': 1, '251': 1, '252': 1, '254': 1, '257': 1, '260': 1, '481': 1, '263': 1, '264': 1, '265': 1, '269': 1, '325': 1, '277': 1, '279': 1, '280': 1, '278': 1, '287': 1, '288': 1, '291': 1, '292': 1, '296': 1, '298': 1, '299': 1, '300': 1, '540': 1, '510': 1, '511': 1, '512': 1, '539': 1, '514': 1, '515': 1, '517': 1, '519': 1, '524': 1, '525': 1, '526': 1, '527': 1, '520': 1, '521': 1, '324': 1, '242': 1, '307': 1, '321': 1, '322': 1, '323': 1, '318': 1, '347': 1, '348': 1, '326': 1, '327': 1, '328': 1, '329': 1, '336': 1, '337': 1, '389': 1, '390': 1, '342': 1, '345': 1, '543': 1, '359': 1, '353': 1, '360': 1, '356': 1, '361': 1, '355': 1, '541': 1, '368': 1, '372': 1, '378': 1, '381': 1, '382': 1, '383': 1, '384': 1, '385': 1, '401': 1, '402': 1, '537': 1, '532': 1, '529': 1, '530': 1, '535': 1, '410': 1, '419': 1, '421': 1, '422': 1, '427': 1, '439': 1, '443': 1, '430': 1, '446': 1, '433': 1})\n",
            "shuffling train...\n",
            "building model...\n",
            "setting up\n",
            "training...\n",
            "0 Losses {'entity_linker': 31.983217507600784}\n",
            "100 Losses {'entity_linker': 3.9369826316833496}\n",
            "200 Losses {'entity_linker': 3.3766608834266663}\n",
            "200 Losses {'entity_linker': 3.3766608834266663}\n",
            "getting metrics...\n",
            "Accuracy: 0.9117647058823529\n",
            "F1_Score: 0.6292221236320615\n",
            "validation: 10\n",
            "Counter({'4': 24, '411': 19, '5': 18, '3': 17, '243': 16, '429': 15, '406': 13, '6': 11, '246': 10, '248': 10, '281': 9, '470': 8, '244': 7, '478': 7, '290': 7, '365': 7, '228': 6, '272': 6, '469': 5, '405': 5, '431': 5, '220': 4, '301': 4, '306': 4, '392': 4, '366': 4, '42': 3, '477': 3, '484': 3, '491': 3, '168': 3, '175': 3, '247': 3, '250': 3, '302': 3, '513': 3, '320': 3, '315': 3, '341': 3, '409': 3, '420': 3, '434': 3, '440': 3, '435': 3, '432': 3, '449': 3, '444': 3, '104': 2, '20': 2, '505': 2, '488': 2, '502': 2, '152': 2, '154': 2, '200': 2, '7': 2, '209': 2, '212': 2, '219': 2, '224': 2, '479': 2, '270': 2, '273': 2, '276': 2, '294': 2, '303': 2, '507': 2, '509': 2, '309': 2, '308': 2, '310': 2, '319': 2, '316': 2, '352': 2, '364': 2, '367': 2, '408': 2, '417': 2, '436': 2, '437': 2, '438': 2, '448': 2, '445': 2, '452': 1, '454': 1, '456': 1, '26': 1, '45': 1, '46': 1, '47': 1, '49': 1, '51': 1, '53': 1, '27': 1, '55': 1, '56': 1, '57': 1, '59': 1, '61': 1, '14': 1, '62': 1, '64': 1, '30': 1, '31': 1, '65': 1, '32': 1, '66': 1, '71': 1, '73': 1, '74': 1, '36': 1, '76': 1, '78': 1, '79': 1, '80': 1, '81': 1, '82': 1, '84': 1, '85': 1, '86': 1, '87': 1, '88': 1, '90': 1, '92': 1, '38': 1, '93': 1, '94': 1, '96': 1, '100': 1, '101': 1, '18': 1, '103': 1, '105': 1, '41': 1, '109': 1, '110': 1, '21': 1, '119': 1, '43': 1, '122': 1, '124': 1, '22': 1, '459': 1, '464': 1, '460': 1, '466': 1, '461': 1, '468': 1, '473': 1, '474': 1, '487': 1, '489': 1, '126': 1, '128': 1, '129': 1, '132': 1, '133': 1, '134': 1, '135': 1, '140': 1, '141': 1, '142': 1, '144': 1, '145': 1, '147': 1, '395': 1, '159': 1, '161': 1, '163': 1, '166': 1, '165': 1, '169': 1, '170': 1, '171': 1, '174': 1, '176': 1, '177': 1, '186': 1, '187': 1, '188': 1, '189': 1, '191': 1, '192': 1, '193': 1, '196': 1, '197': 1, '199': 1, '201': 1, '202': 1, '230': 1, '10': 1, '13': 1, '11': 1, '8': 1, '9': 1, '205': 1, '210': 1, '211': 1, '496': 1, '500': 1, '501': 1, '217': 1, '222': 1, '233': 1, '234': 1, '238': 1, '239': 1, '249': 1, '245': 1, '251': 1, '252': 1, '254': 1, '257': 1, '260': 1, '481': 1, '263': 1, '264': 1, '265': 1, '269': 1, '325': 1, '277': 1, '279': 1, '280': 1, '278': 1, '287': 1, '288': 1, '291': 1, '292': 1, '296': 1, '298': 1, '299': 1, '300': 1, '540': 1, '510': 1, '511': 1, '512': 1, '539': 1, '514': 1, '515': 1, '517': 1, '519': 1, '524': 1, '525': 1, '526': 1, '527': 1, '520': 1, '521': 1, '324': 1, '242': 1, '307': 1, '321': 1, '322': 1, '323': 1, '318': 1, '347': 1, '348': 1, '326': 1, '327': 1, '328': 1, '329': 1, '336': 1, '337': 1, '389': 1, '390': 1, '342': 1, '345': 1, '543': 1, '359': 1, '353': 1, '360': 1, '356': 1, '361': 1, '355': 1, '541': 1, '368': 1, '372': 1, '378': 1, '381': 1, '382': 1, '383': 1, '384': 1, '385': 1, '401': 1, '402': 1, '537': 1, '532': 1, '529': 1, '530': 1, '535': 1, '410': 1, '419': 1, '421': 1, '422': 1, '427': 1, '439': 1, '443': 1, '430': 1, '446': 1, '433': 1})\n",
            "shuffling train...\n",
            "building model...\n",
            "setting up\n",
            "training...\n",
            "0 Losses {'entity_linker': 31.393968105316162}\n",
            "100 Losses {'entity_linker': 3.9854973554611206}\n",
            "200 Losses {'entity_linker': 3.35722978413105}\n",
            "200 Losses {'entity_linker': 3.35722978413105}\n",
            "getting metrics...\n",
            "Accuracy: 0.9411764705882353\n",
            "F1_Score: 0.7762952836637047\n",
            "validation: 10\n",
            "Counter({'4': 24, '411': 19, '5': 18, '3': 17, '243': 16, '429': 15, '406': 13, '6': 11, '246': 10, '248': 10, '281': 9, '470': 8, '244': 7, '478': 7, '290': 7, '365': 7, '228': 6, '272': 6, '469': 5, '405': 5, '431': 5, '220': 4, '301': 4, '306': 4, '392': 4, '366': 4, '42': 3, '477': 3, '484': 3, '491': 3, '168': 3, '175': 3, '247': 3, '250': 3, '302': 3, '513': 3, '320': 3, '315': 3, '341': 3, '409': 3, '420': 3, '434': 3, '440': 3, '435': 3, '432': 3, '449': 3, '444': 3, '104': 2, '20': 2, '505': 2, '488': 2, '502': 2, '152': 2, '154': 2, '200': 2, '7': 2, '209': 2, '212': 2, '219': 2, '224': 2, '479': 2, '270': 2, '273': 2, '276': 2, '294': 2, '303': 2, '507': 2, '509': 2, '309': 2, '308': 2, '310': 2, '319': 2, '316': 2, '352': 2, '364': 2, '367': 2, '408': 2, '417': 2, '436': 2, '437': 2, '438': 2, '448': 2, '445': 2, '452': 1, '454': 1, '456': 1, '26': 1, '45': 1, '46': 1, '47': 1, '49': 1, '51': 1, '53': 1, '27': 1, '55': 1, '56': 1, '57': 1, '59': 1, '61': 1, '14': 1, '62': 1, '64': 1, '30': 1, '31': 1, '65': 1, '32': 1, '66': 1, '71': 1, '73': 1, '74': 1, '36': 1, '76': 1, '78': 1, '79': 1, '80': 1, '81': 1, '82': 1, '84': 1, '85': 1, '86': 1, '87': 1, '88': 1, '90': 1, '92': 1, '38': 1, '93': 1, '94': 1, '96': 1, '100': 1, '101': 1, '18': 1, '103': 1, '105': 1, '41': 1, '109': 1, '110': 1, '21': 1, '119': 1, '43': 1, '122': 1, '124': 1, '22': 1, '459': 1, '464': 1, '460': 1, '466': 1, '461': 1, '468': 1, '473': 1, '474': 1, '487': 1, '489': 1, '126': 1, '128': 1, '129': 1, '132': 1, '133': 1, '134': 1, '135': 1, '140': 1, '141': 1, '142': 1, '144': 1, '145': 1, '147': 1, '395': 1, '159': 1, '161': 1, '163': 1, '166': 1, '165': 1, '169': 1, '170': 1, '171': 1, '174': 1, '176': 1, '177': 1, '186': 1, '187': 1, '188': 1, '189': 1, '191': 1, '192': 1, '193': 1, '196': 1, '197': 1, '199': 1, '201': 1, '202': 1, '230': 1, '10': 1, '13': 1, '11': 1, '8': 1, '9': 1, '205': 1, '210': 1, '211': 1, '496': 1, '500': 1, '501': 1, '217': 1, '222': 1, '233': 1, '234': 1, '238': 1, '239': 1, '249': 1, '245': 1, '251': 1, '252': 1, '254': 1, '257': 1, '260': 1, '481': 1, '263': 1, '264': 1, '265': 1, '269': 1, '325': 1, '277': 1, '279': 1, '280': 1, '278': 1, '287': 1, '288': 1, '291': 1, '292': 1, '296': 1, '298': 1, '299': 1, '300': 1, '540': 1, '510': 1, '511': 1, '512': 1, '539': 1, '514': 1, '515': 1, '517': 1, '519': 1, '524': 1, '525': 1, '526': 1, '527': 1, '520': 1, '521': 1, '324': 1, '242': 1, '307': 1, '321': 1, '322': 1, '323': 1, '318': 1, '347': 1, '348': 1, '326': 1, '327': 1, '328': 1, '329': 1, '336': 1, '337': 1, '389': 1, '390': 1, '342': 1, '345': 1, '543': 1, '359': 1, '353': 1, '360': 1, '356': 1, '361': 1, '355': 1, '541': 1, '368': 1, '372': 1, '378': 1, '381': 1, '382': 1, '383': 1, '384': 1, '385': 1, '401': 1, '402': 1, '537': 1, '532': 1, '529': 1, '530': 1, '535': 1, '410': 1, '419': 1, '421': 1, '422': 1, '427': 1, '439': 1, '443': 1, '430': 1, '446': 1, '433': 1})\n",
            "shuffling train...\n",
            "building model...\n",
            "setting up\n",
            "training...\n",
            "0 Losses {'entity_linker': 31.019099295139313}\n",
            "100 Losses {'entity_linker': 4.097222849726677}\n",
            "200 Losses {'entity_linker': 3.341110572218895}\n",
            "200 Losses {'entity_linker': 3.341110572218895}\n",
            "getting metrics...\n",
            "Accuracy: 0.9509803921568627\n",
            "F1_Score: 0.898584356819651\n"
          ],
          "name": "stdout"
        }
      ]
    },
    {
      "cell_type": "code",
      "metadata": {
        "id": "fNXmLZ1ftFEq",
        "colab_type": "code",
        "colab": {
          "base_uri": "https://localhost:8080/",
          "height": 52
        },
        "outputId": "0f832aa6-955d-4252-8f54-e8274e2b7ed8"
      },
      "source": [
        "print('Average accuracy', np.mean(accs))\n",
        "print('Average f1_score', np.mean(f1s))"
      ],
      "execution_count": 147,
      "outputs": [
        {
          "output_type": "stream",
          "text": [
            "Average accuracy 0.9323529411764706\n",
            "Average f1_score 0.8066205508214592\n"
          ],
          "name": "stdout"
        }
      ]
    },
    {
      "cell_type": "code",
      "metadata": {
        "id": "HhyZawQbtOki",
        "colab_type": "code",
        "colab": {
          "base_uri": "https://localhost:8080/",
          "height": 1000
        },
        "outputId": "fcfa3ff1-d964-4cf2-a11c-2e16a806e070"
      },
      "source": [
        "for i,p in enumerate(pred):\n",
        "  print('fold', i + 1)\n",
        "  print(classification_report(p[0],p[1], digits = 2,labels=list(set(p[0] +p[1] ))))\n",
        "  confusion_matrix_heatmap(p[0],p[1], labels = list(set(p[0] +p[1])))\n",
        "  print('\\n-----------------------------------------------------------------------\\n')"
      ],
      "execution_count": 192,
      "outputs": [
        {
          "output_type": "stream",
          "text": [
            "fold 1\n",
            "              precision    recall  f1-score   support\n",
            "\n",
            "         365       1.00      1.00      1.00         1\n",
            "         290       1.00      1.00      1.00         1\n",
            "         243       1.00      0.90      0.95        10\n",
            "           5       1.00      0.83      0.91        12\n",
            "         244       0.50      1.00      0.67         1\n",
            "         429       1.00      1.00      1.00         9\n",
            "         478       1.00      1.00      1.00         1\n",
            "         534       0.00      0.00      0.00         0\n",
            "         246       1.00      1.00      1.00         4\n",
            "         470       1.00      1.00      1.00         2\n",
            "           3       1.00      0.91      0.95        11\n",
            "           4       0.86      1.00      0.92        18\n",
            "           6       1.00      1.00      1.00         5\n",
            "         281       1.00      1.00      1.00         3\n",
            "         411       1.00      1.00      1.00        13\n",
            "         529       0.00      0.00      0.00         0\n",
            "         406       1.00      0.57      0.73         7\n",
            "         248       1.00      1.00      1.00         4\n",
            "\n",
            "    accuracy                           0.93       102\n",
            "   macro avg       0.85      0.85      0.84       102\n",
            "weighted avg       0.97      0.93      0.94       102\n",
            "\n"
          ],
          "name": "stdout"
        },
        {
          "output_type": "stream",
          "text": [
            "/usr/local/lib/python3.6/dist-packages/sklearn/metrics/_classification.py:1272: UndefinedMetricWarning: Recall and F-score are ill-defined and being set to 0.0 in labels with no true samples. Use `zero_division` parameter to control this behavior.\n",
            "  _warn_prf(average, modifier, msg_start, len(result))\n"
          ],
          "name": "stderr"
        },
        {
          "output_type": "display_data",
          "data": {
            "image/png": "[encoded data removed]",
            "text/plain": [
              "<Figure size 1080x720 with 2 Axes>"
            ]
          },
          "metadata": {
            "tags": [],
            "needs_background": "light"
          }
        },
        {
          "output_type": "stream",
          "text": [
            "\n",
            "-----------------------------------------------------------------------\n",
            "\n",
            "fold 2\n",
            "              precision    recall  f1-score   support\n",
            "\n",
            "         365       1.00      1.00      1.00         1\n",
            "         290       1.00      1.00      1.00         1\n",
            "         243       1.00      0.90      0.95        10\n",
            "           5       1.00      0.92      0.96        12\n",
            "         244       0.00      0.00      0.00         1\n",
            "         429       1.00      1.00      1.00         9\n",
            "         478       1.00      1.00      1.00         1\n",
            "         250       0.00      0.00      0.00         0\n",
            "         246       1.00      1.00      1.00         4\n",
            "         470       1.00      1.00      1.00         2\n",
            "           3       0.85      1.00      0.92        11\n",
            "         408       0.00      0.00      0.00         0\n",
            "           4       1.00      0.94      0.97        18\n",
            "           6       1.00      1.00      1.00         5\n",
            "         281       1.00      1.00      1.00         3\n",
            "         411       1.00      0.85      0.92        13\n",
            "         407       0.00      0.00      0.00         0\n",
            "         406       0.86      0.86      0.86         7\n",
            "         248       1.00      1.00      1.00         4\n",
            "\n",
            "    accuracy                           0.93       102\n",
            "   macro avg       0.77      0.76      0.77       102\n",
            "weighted avg       0.96      0.93      0.95       102\n",
            "\n"
          ],
          "name": "stdout"
        },
        {
          "output_type": "display_data",
          "data": {
            "image/png": "[encoded data removed]",
            "text/plain": [
              "<Figure size 1080x720 with 2 Axes>"
            ]
          },
          "metadata": {
            "tags": [],
            "needs_background": "light"
          }
        },
        {
          "output_type": "stream",
          "text": [
            "\n",
            "-----------------------------------------------------------------------\n",
            "\n",
            "fold 3\n",
            "              precision    recall  f1-score   support\n",
            "\n",
            "         365       1.00      1.00      1.00         1\n",
            "         290       1.00      1.00      1.00         1\n",
            "         243       1.00      0.70      0.82        10\n",
            "           5       1.00      0.92      0.96        12\n",
            "         244       0.25      1.00      0.40         1\n",
            "         429       1.00      0.89      0.94         9\n",
            "         478       1.00      1.00      1.00         1\n",
            "         449       0.00      0.00      0.00         0\n",
            "         246       1.00      1.00      1.00         4\n",
            "         470       1.00      1.00      1.00         2\n",
            "           3       1.00      0.91      0.95        11\n",
            "           4       0.90      1.00      0.95        18\n",
            "           6       1.00      1.00      1.00         5\n",
            "         281       1.00      1.00      1.00         3\n",
            "         411       1.00      0.85      0.92        13\n",
            "         407       0.00      0.00      0.00         0\n",
            "         529       0.00      0.00      0.00         0\n",
            "         406       0.83      0.71      0.77         7\n",
            "         248       1.00      1.00      1.00         4\n",
            "\n",
            "    accuracy                           0.90       102\n",
            "   macro avg       0.79      0.79      0.77       102\n",
            "weighted avg       0.96      0.90      0.93       102\n",
            "\n"
          ],
          "name": "stdout"
        },
        {
          "output_type": "display_data",
          "data": {
            "image/png": "[encoded data removed]",
            "text/plain": [
              "<Figure size 1080x720 with 2 Axes>"
            ]
          },
          "metadata": {
            "tags": [],
            "needs_background": "light"
          }
        },
        {
          "output_type": "stream",
          "text": [
            "\n",
            "-----------------------------------------------------------------------\n",
            "\n",
            "fold 4\n",
            "              precision    recall  f1-score   support\n",
            "\n",
            "         365       1.00      1.00      1.00         1\n",
            "         290       1.00      1.00      1.00         1\n",
            "         243       1.00      0.90      0.95        10\n",
            "           5       1.00      0.83      0.91        12\n",
            "         244       0.33      1.00      0.50         1\n",
            "         429       1.00      1.00      1.00         9\n",
            "         478       1.00      1.00      1.00         1\n",
            "         250       0.00      0.00      0.00         0\n",
            "         409       0.00      0.00      0.00         0\n",
            "         534       0.00      0.00      0.00         0\n",
            "         246       1.00      0.25      0.40         4\n",
            "         470       1.00      1.00      1.00         2\n",
            "           3       1.00      0.91      0.95        11\n",
            "           4       1.00      0.94      0.97        18\n",
            "           6       1.00      1.00      1.00         5\n",
            "         281       1.00      1.00      1.00         3\n",
            "         411       1.00      0.92      0.96        13\n",
            "          10       0.00      0.00      0.00         0\n",
            "         406       1.00      0.86      0.92         7\n",
            "         248       1.00      1.00      1.00         4\n",
            "\n",
            "    accuracy                           0.90       102\n",
            "   macro avg       0.77      0.73      0.73       102\n",
            "weighted avg       0.99      0.90      0.94       102\n",
            "\n"
          ],
          "name": "stdout"
        },
        {
          "output_type": "display_data",
          "data": {
            "image/png": "[encoded data removed]",
            "text/plain": [
              "<Figure size 1080x720 with 2 Axes>"
            ]
          },
          "metadata": {
            "tags": [],
            "needs_background": "light"
          }
        },
        {
          "output_type": "stream",
          "text": [
            "\n",
            "-----------------------------------------------------------------------\n",
            "\n",
            "fold 5\n",
            "              precision    recall  f1-score   support\n",
            "\n",
            "         365       1.00      1.00      1.00         1\n",
            "         290       1.00      1.00      1.00         1\n",
            "         243       1.00      1.00      1.00        10\n",
            "           5       1.00      0.83      0.91        12\n",
            "         244       1.00      1.00      1.00         1\n",
            "         429       1.00      1.00      1.00         9\n",
            "         478       1.00      1.00      1.00         1\n",
            "         530       0.00      0.00      0.00         0\n",
            "         246       1.00      1.00      1.00         4\n",
            "         470       1.00      1.00      1.00         2\n",
            "           3       1.00      0.91      0.95        11\n",
            "           4       0.86      1.00      0.92        18\n",
            "           6       1.00      1.00      1.00         5\n",
            "         281       1.00      1.00      1.00         3\n",
            "         411       1.00      0.92      0.96        13\n",
            "         406       1.00      1.00      1.00         7\n",
            "         248       1.00      1.00      1.00         4\n",
            "\n",
            "    accuracy                           0.96       102\n",
            "   macro avg       0.93      0.92      0.93       102\n",
            "weighted avg       0.97      0.96      0.97       102\n",
            "\n"
          ],
          "name": "stdout"
        },
        {
          "output_type": "display_data",
          "data": {
            "image/png": "[encoded data removed]",
            "text/plain": [
              "<Figure size 1080x720 with 2 Axes>"
            ]
          },
          "metadata": {
            "tags": [],
            "needs_background": "light"
          }
        },
        {
          "output_type": "stream",
          "text": [
            "\n",
            "-----------------------------------------------------------------------\n",
            "\n",
            "fold 6\n",
            "              precision    recall  f1-score   support\n",
            "\n",
            "         365       1.00      1.00      1.00         1\n",
            "         290       1.00      1.00      1.00         1\n",
            "         243       0.91      1.00      0.95        10\n",
            "           5       1.00      0.83      0.91        12\n",
            "         244       1.00      1.00      1.00         1\n",
            "         429       1.00      0.89      0.94         9\n",
            "         478       1.00      1.00      1.00         1\n",
            "         250       0.00      0.00      0.00         0\n",
            "         246       1.00      0.50      0.67         4\n",
            "         470       1.00      1.00      1.00         2\n",
            "           3       1.00      0.91      0.95        11\n",
            "           4       0.86      1.00      0.92        18\n",
            "           6       1.00      1.00      1.00         5\n",
            "         281       1.00      1.00      1.00         3\n",
            "         411       1.00      0.92      0.96        13\n",
            "         407       0.00      0.00      0.00         0\n",
            "         435       0.00      0.00      0.00         0\n",
            "         406       1.00      1.00      1.00         7\n",
            "         248       1.00      1.00      1.00         4\n",
            "\n",
            "    accuracy                           0.93       102\n",
            "   macro avg       0.83      0.79      0.81       102\n",
            "weighted avg       0.97      0.93      0.94       102\n",
            "\n"
          ],
          "name": "stdout"
        },
        {
          "output_type": "display_data",
          "data": {
            "image/png": "[encoded data removed]",
            "text/plain": [
              "<Figure size 1080x720 with 2 Axes>"
            ]
          },
          "metadata": {
            "tags": [],
            "needs_background": "light"
          }
        },
        {
          "output_type": "stream",
          "text": [
            "\n",
            "-----------------------------------------------------------------------\n",
            "\n",
            "fold 7\n",
            "              precision    recall  f1-score   support\n",
            "\n",
            "         365       1.00      1.00      1.00         1\n",
            "         290       1.00      1.00      1.00         1\n",
            "         243       1.00      1.00      1.00        10\n",
            "           5       1.00      0.92      0.96        12\n",
            "         244       1.00      1.00      1.00         1\n",
            "         429       1.00      1.00      1.00         9\n",
            "         478       1.00      1.00      1.00         1\n",
            "         534       0.00      0.00      0.00         0\n",
            "         246       1.00      1.00      1.00         4\n",
            "         470       1.00      1.00      1.00         2\n",
            "           3       0.85      1.00      0.92        11\n",
            "           4       1.00      0.94      0.97        18\n",
            "           6       1.00      1.00      1.00         5\n",
            "         281       1.00      1.00      1.00         3\n",
            "         411       1.00      0.92      0.96        13\n",
            "         406       0.86      0.86      0.86         7\n",
            "         248       1.00      1.00      1.00         4\n",
            "\n",
            "    accuracy                           0.96       102\n",
            "   macro avg       0.92      0.92      0.92       102\n",
            "weighted avg       0.97      0.96      0.97       102\n",
            "\n"
          ],
          "name": "stdout"
        },
        {
          "output_type": "display_data",
          "data": {
            "image/png": "[encoded data removed]",
            "text/plain": [
              "<Figure size 1080x720 with 2 Axes>"
            ]
          },
          "metadata": {
            "tags": [],
            "needs_background": "light"
          }
        },
        {
          "output_type": "stream",
          "text": [
            "\n",
            "-----------------------------------------------------------------------\n",
            "\n",
            "fold 8\n",
            "              precision    recall  f1-score   support\n",
            "\n",
            "         243       0.91      1.00      0.95        10\n",
            "         246       1.00      1.00      1.00         4\n",
            "         408       0.00      0.00      0.00         0\n",
            "         406       1.00      0.71      0.83         7\n",
            "           5       1.00      0.92      0.96        12\n",
            "         244       0.00      0.00      0.00         1\n",
            "         367       0.00      0.00      0.00         0\n",
            "           4       1.00      0.94      0.97        18\n",
            "         411       1.00      0.85      0.92        13\n",
            "         365       0.00      0.00      0.00         1\n",
            "         429       1.00      1.00      1.00         9\n",
            "           3       0.85      1.00      0.92        11\n",
            "         469       0.00      0.00      0.00         0\n",
            "         529       0.00      0.00      0.00         0\n",
            "         537       0.00      0.00      0.00         0\n",
            "         290       1.00      1.00      1.00         1\n",
            "         478       1.00      1.00      1.00         1\n",
            "         470       1.00      0.50      0.67         2\n",
            "           6       1.00      1.00      1.00         5\n",
            "         281       1.00      1.00      1.00         3\n",
            "         248       1.00      1.00      1.00         4\n",
            "\n",
            "    accuracy                           0.91       102\n",
            "   macro avg       0.66      0.62      0.63       102\n",
            "weighted avg       0.95      0.91      0.93       102\n",
            "\n"
          ],
          "name": "stdout"
        },
        {
          "output_type": "stream",
          "text": [
            "/usr/local/lib/python3.6/dist-packages/sklearn/metrics/_classification.py:1272: UndefinedMetricWarning: Precision and F-score are ill-defined and being set to 0.0 in labels with no predicted samples. Use `zero_division` parameter to control this behavior.\n",
            "  _warn_prf(average, modifier, msg_start, len(result))\n"
          ],
          "name": "stderr"
        },
        {
          "output_type": "display_data",
          "data": {
            "image/png": "[encoded data removed]",
            "text/plain": [
              "<Figure size 1080x720 with 2 Axes>"
            ]
          },
          "metadata": {
            "tags": [],
            "needs_background": "light"
          }
        },
        {
          "output_type": "stream",
          "text": [
            "\n",
            "-----------------------------------------------------------------------\n",
            "\n",
            "fold 9\n",
            "              precision    recall  f1-score   support\n",
            "\n",
            "         365       0.00      0.00      0.00         1\n",
            "         290       1.00      1.00      1.00         1\n",
            "         243       1.00      1.00      1.00        10\n",
            "           5       0.92      1.00      0.96        12\n",
            "         244       1.00      1.00      1.00         1\n",
            "         429       1.00      1.00      1.00         9\n",
            "         478       1.00      1.00      1.00         1\n",
            "         534       0.00      0.00      0.00         0\n",
            "         246       1.00      1.00      1.00         4\n",
            "         470       1.00      1.00      1.00         2\n",
            "           3       1.00      1.00      1.00        11\n",
            "         367       0.00      0.00      0.00         0\n",
            "           4       1.00      0.94      0.97        18\n",
            "           6       1.00      1.00      1.00         5\n",
            "         281       1.00      1.00      1.00         3\n",
            "         411       1.00      0.69      0.82        13\n",
            "         537       0.00      0.00      0.00         0\n",
            "         406       1.00      1.00      1.00         7\n",
            "         248       1.00      1.00      1.00         4\n",
            "\n",
            "    accuracy                           0.94       102\n",
            "   macro avg       0.79      0.77      0.78       102\n",
            "weighted avg       0.98      0.94      0.96       102\n",
            "\n"
          ],
          "name": "stdout"
        },
        {
          "output_type": "display_data",
          "data": {
            "image/png": "[encoded data removed]",
            "text/plain": [
              "<Figure size 1080x720 with 2 Axes>"
            ]
          },
          "metadata": {
            "tags": [],
            "needs_background": "light"
          }
        },
        {
          "output_type": "stream",
          "text": [
            "\n",
            "-----------------------------------------------------------------------\n",
            "\n",
            "fold 10\n",
            "              precision    recall  f1-score   support\n",
            "\n",
            "         365       1.00      1.00      1.00         1\n",
            "         290       1.00      1.00      1.00         1\n",
            "         243       1.00      1.00      1.00        10\n",
            "           5       0.92      1.00      0.96        12\n",
            "         244       0.50      1.00      0.67         1\n",
            "         429       1.00      1.00      1.00         9\n",
            "         478       1.00      1.00      1.00         1\n",
            "         246       1.00      0.75      0.86         4\n",
            "         470       1.00      1.00      1.00         2\n",
            "           3       1.00      0.91      0.95        11\n",
            "           4       1.00      1.00      1.00        18\n",
            "           6       1.00      1.00      1.00         5\n",
            "         281       1.00      1.00      1.00         3\n",
            "         411       1.00      0.85      0.92        13\n",
            "         407       0.00      0.00      0.00         0\n",
            "         406       1.00      0.86      0.92         7\n",
            "         248       1.00      1.00      1.00         4\n",
            "\n",
            "    accuracy                           0.95       102\n",
            "   macro avg       0.91      0.90      0.90       102\n",
            "weighted avg       0.99      0.95      0.97       102\n",
            "\n"
          ],
          "name": "stdout"
        },
        {
          "output_type": "display_data",
          "data": {
            "image/png": "[encoded data removed]",
            "text/plain": [
              "<Figure size 1080x720 with 2 Axes>"
            ]
          },
          "metadata": {
            "tags": [],
            "needs_background": "light"
          }
        },
        {
          "output_type": "stream",
          "text": [
            "\n",
            "-----------------------------------------------------------------------\n",
            "\n"
          ],
          "name": "stdout"
        }
      ]
    },
    {
      "cell_type": "code",
      "metadata": {
        "id": "3BXEYUTG5LGB",
        "colab_type": "code",
        "colab": {
          "base_uri": "https://localhost:8080/",
          "height": 257
        },
        "outputId": "b2051167-0d28-46f1-b40d-ad992e36f8e0"
      },
      "source": [
        "df_labels.loc[406:412]"
      ],
      "execution_count": 194,
      "outputs": [
        {
          "output_type": "execute_result",
          "data": {
            "text/html": [
              "<div>\n",
              "<style scoped>\n",
              "    .dataframe tbody tr th:only-of-type {\n",
              "        vertical-align: middle;\n",
              "    }\n",
              "\n",
              "    .dataframe tbody tr th {\n",
              "        vertical-align: top;\n",
              "    }\n",
              "\n",
              "    .dataframe thead th {\n",
              "        text-align: right;\n",
              "    }\n",
              "</style>\n",
              "<table border=\"1\" class=\"dataframe\">\n",
              "  <thead>\n",
              "    <tr style=\"text-align: right;\">\n",
              "      <th></th>\n",
              "      <th>canonical_vendor_name</th>\n",
              "      <th>canonical_line_item_name</th>\n",
              "    </tr>\n",
              "  </thead>\n",
              "  <tbody>\n",
              "    <tr>\n",
              "      <th>406</th>\n",
              "      <td>Westmont Associates</td>\n",
              "      <td>Hourly Services: LM</td>\n",
              "    </tr>\n",
              "    <tr>\n",
              "      <th>407</th>\n",
              "      <td>Westmont Associates</td>\n",
              "      <td>Hourly Services: KM</td>\n",
              "    </tr>\n",
              "    <tr>\n",
              "      <th>408</th>\n",
              "      <td>Westmont Associates</td>\n",
              "      <td>Hourly Services: CC</td>\n",
              "    </tr>\n",
              "    <tr>\n",
              "      <th>409</th>\n",
              "      <td>Westmont Associates</td>\n",
              "      <td>Hourly Services: SR</td>\n",
              "    </tr>\n",
              "    <tr>\n",
              "      <th>410</th>\n",
              "      <td>Westmont Associates</td>\n",
              "      <td>Hourly Services: KGL</td>\n",
              "    </tr>\n",
              "    <tr>\n",
              "      <th>411</th>\n",
              "      <td>Westmont Associates</td>\n",
              "      <td>Expenses: Filing Fees</td>\n",
              "    </tr>\n",
              "    <tr>\n",
              "      <th>412</th>\n",
              "      <td>Westmont Associates</td>\n",
              "      <td>Expenses: UPS Fees</td>\n",
              "    </tr>\n",
              "  </tbody>\n",
              "</table>\n",
              "</div>"
            ],
            "text/plain": [
              "    canonical_vendor_name canonical_line_item_name\n",
              "406   Westmont Associates      Hourly Services: LM\n",
              "407   Westmont Associates      Hourly Services: KM\n",
              "408   Westmont Associates      Hourly Services: CC\n",
              "409   Westmont Associates      Hourly Services: SR\n",
              "410   Westmont Associates     Hourly Services: KGL\n",
              "411   Westmont Associates    Expenses: Filing Fees\n",
              "412   Westmont Associates       Expenses: UPS Fees"
            ]
          },
          "metadata": {
            "tags": []
          },
          "execution_count": 194
        }
      ]
    },
    {
      "cell_type": "markdown",
      "metadata": {
        "id": "bXZO14Gd5COH",
        "colab_type": "text"
      },
      "source": [
        "We can see from the report and graphs above that overall, the model has done very well on the test set. Especially with the weighted averages, where we see that some data only has one or two values for a class and others have a frequency of 10-15. \n",
        "The parts where the model struggles I notice is when the `canonical_line_item_name` is very similar. An example is in the dataframe above where it must choose between 'Hourly Services: LM' and 'Hourly Services: KM' which is pretty difficult. \n",
        "\n",
        "Of course, the good looking graphs does not mean that the model actually performs well on *all* the classes, because each test set only consists of ~19 classes when there are over 70 to choose from. But due to the very small dataset, we can't really test on all of them. But we do know that the ones we do test do a descent job.\n",
        "\n",
        "\n"
      ]
    },
    {
      "cell_type": "markdown",
      "metadata": {
        "id": "1uTR3OIS2L3b",
        "colab_type": "text"
      },
      "source": [
        "## Predict for Eval Set"
      ]
    },
    {
      "cell_type": "markdown",
      "metadata": {
        "id": "OMSKZUHHCzqW",
        "colab_type": "text"
      },
      "source": [
        "this time we train on the entire dataset as we need every sample we can get"
      ]
    },
    {
      "cell_type": "code",
      "metadata": {
        "id": "BuRytqVqCjFE",
        "colab_type": "code",
        "colab": {
          "base_uri": "https://localhost:8080/",
          "height": 1000
        },
        "outputId": "77d628fb-99e6-4ee8-8072-2a4e6a5e6070"
      },
      "source": [
        "print('building model...')\n",
        "nlp_blank, train_dataset = build_model(kb, train_data, NAME)\n",
        "print('training...')\n",
        "train(nlp_blank, train_dataset, epochs=600, verbose=True)\n"
      ],
      "execution_count": 204,
      "outputs": [
        {
          "output_type": "stream",
          "text": [
            "building model...\n",
            "setting up\n",
            "training...\n",
            "0 Losses {'entity_linker': 35.18077535927296}\n",
            "1 Losses {'entity_linker': 22.61160258948803}\n",
            "2 Losses {'entity_linker': 18.179152965545654}\n",
            "3 Losses {'entity_linker': 15.435793548822403}\n",
            "4 Losses {'entity_linker': 13.709032863378525}\n",
            "5 Losses {'entity_linker': 12.335747435688972}\n",
            "6 Losses {'entity_linker': 11.630701318383217}\n",
            "7 Losses {'entity_linker': 10.828714743256569}\n",
            "8 Losses {'entity_linker': 10.138054355978966}\n",
            "9 Losses {'entity_linker': 9.637061133980751}\n",
            "10 Losses {'entity_linker': 9.091612711548805}\n",
            "11 Losses {'entity_linker': 8.797158196568489}\n",
            "12 Losses {'entity_linker': 8.448209524154663}\n",
            "13 Losses {'entity_linker': 8.329036086797714}\n",
            "14 Losses {'entity_linker': 8.110786154866219}\n",
            "15 Losses {'entity_linker': 7.760155811905861}\n",
            "16 Losses {'entity_linker': 7.789368361234665}\n",
            "17 Losses {'entity_linker': 7.434273287653923}\n",
            "18 Losses {'entity_linker': 7.167432188987732}\n",
            "19 Losses {'entity_linker': 7.129140987992287}\n",
            "20 Losses {'entity_linker': 6.942172735929489}\n",
            "21 Losses {'entity_linker': 6.787287220358849}\n",
            "22 Losses {'entity_linker': 6.848413988947868}\n",
            "23 Losses {'entity_linker': 6.595839664340019}\n",
            "24 Losses {'entity_linker': 6.582183077931404}\n",
            "25 Losses {'entity_linker': 6.487017586827278}\n",
            "26 Losses {'entity_linker': 6.349760055541992}\n",
            "27 Losses {'entity_linker': 6.262486577033997}\n",
            "28 Losses {'entity_linker': 6.260720074176788}\n",
            "29 Losses {'entity_linker': 6.225200831890106}\n",
            "30 Losses {'entity_linker': 6.031543329358101}\n",
            "31 Losses {'entity_linker': 6.0145681500434875}\n",
            "32 Losses {'entity_linker': 6.104643687605858}\n",
            "33 Losses {'entity_linker': 5.871417343616486}\n",
            "34 Losses {'entity_linker': 5.89844386279583}\n",
            "35 Losses {'entity_linker': 5.913415491580963}\n",
            "36 Losses {'entity_linker': 5.786553382873535}\n",
            "37 Losses {'entity_linker': 5.764399692416191}\n",
            "38 Losses {'entity_linker': 5.750585585832596}\n",
            "39 Losses {'entity_linker': 5.678316906094551}\n",
            "40 Losses {'entity_linker': 5.668667316436768}\n",
            "41 Losses {'entity_linker': 5.6340102404356}\n",
            "42 Losses {'entity_linker': 5.562008753418922}\n",
            "43 Losses {'entity_linker': 5.393494874238968}\n",
            "44 Losses {'entity_linker': 5.5201883018016815}\n",
            "45 Losses {'entity_linker': 5.4528137892484665}\n",
            "46 Losses {'entity_linker': 5.377197772264481}\n",
            "47 Losses {'entity_linker': 5.407029792666435}\n",
            "48 Losses {'entity_linker': 5.395249858498573}\n",
            "49 Losses {'entity_linker': 5.31204691529274}\n",
            "50 Losses {'entity_linker': 5.278598830103874}\n",
            "51 Losses {'entity_linker': 5.1974282413721085}\n",
            "52 Losses {'entity_linker': 5.219666957855225}\n",
            "53 Losses {'entity_linker': 5.163900166749954}\n",
            "54 Losses {'entity_linker': 5.124957874417305}\n",
            "55 Losses {'entity_linker': 5.111044988036156}\n",
            "56 Losses {'entity_linker': 5.157726168632507}\n",
            "57 Losses {'entity_linker': 5.058230951428413}\n",
            "58 Losses {'entity_linker': 5.112666964530945}\n",
            "59 Losses {'entity_linker': 5.073722317814827}\n",
            "60 Losses {'entity_linker': 5.0447438806295395}\n",
            "61 Losses {'entity_linker': 4.965048536658287}\n",
            "62 Losses {'entity_linker': 4.974382653832436}\n",
            "63 Losses {'entity_linker': 5.013058736920357}\n",
            "64 Losses {'entity_linker': 4.949114099144936}\n",
            "65 Losses {'entity_linker': 4.911400243639946}\n",
            "66 Losses {'entity_linker': 4.926497712731361}\n",
            "67 Losses {'entity_linker': 4.843812584877014}\n",
            "68 Losses {'entity_linker': 4.8127670884132385}\n",
            "69 Losses {'entity_linker': 4.839102432131767}\n",
            "70 Losses {'entity_linker': 4.867140024900436}\n",
            "71 Losses {'entity_linker': 4.72343136370182}\n",
            "72 Losses {'entity_linker': 4.86549636721611}\n",
            "73 Losses {'entity_linker': 4.801809802651405}\n",
            "74 Losses {'entity_linker': 4.757199868559837}\n",
            "75 Losses {'entity_linker': 4.654860556125641}\n",
            "76 Losses {'entity_linker': 4.78610272705555}\n",
            "77 Losses {'entity_linker': 4.646082937717438}\n",
            "78 Losses {'entity_linker': 4.671309143304825}\n",
            "79 Losses {'entity_linker': 4.571573510766029}\n",
            "80 Losses {'entity_linker': 4.592691481113434}\n",
            "81 Losses {'entity_linker': 4.580814480781555}\n",
            "82 Losses {'entity_linker': 4.623489394783974}\n",
            "83 Losses {'entity_linker': 4.5087448209524155}\n",
            "84 Losses {'entity_linker': 4.551896080374718}\n",
            "85 Losses {'entity_linker': 4.5767118483781815}\n",
            "86 Losses {'entity_linker': 4.601817026734352}\n",
            "87 Losses {'entity_linker': 4.499704048037529}\n",
            "88 Losses {'entity_linker': 4.466076076030731}\n",
            "89 Losses {'entity_linker': 4.464890718460083}\n",
            "90 Losses {'entity_linker': 4.483119919896126}\n",
            "91 Losses {'entity_linker': 4.537990763783455}\n",
            "92 Losses {'entity_linker': 4.4557944387197495}\n",
            "93 Losses {'entity_linker': 4.414507791399956}\n",
            "94 Losses {'entity_linker': 4.355578511953354}\n",
            "95 Losses {'entity_linker': 4.449031695723534}\n",
            "96 Losses {'entity_linker': 4.425172761082649}\n",
            "97 Losses {'entity_linker': 4.292039647698402}\n",
            "98 Losses {'entity_linker': 4.372314989566803}\n",
            "99 Losses {'entity_linker': 4.396010771393776}\n",
            "100 Losses {'entity_linker': 4.363697648048401}\n",
            "101 Losses {'entity_linker': 4.285046875476837}\n",
            "102 Losses {'entity_linker': 4.3346385806798935}\n",
            "103 Losses {'entity_linker': 4.2861008644104}\n",
            "104 Losses {'entity_linker': 4.30622324347496}\n",
            "105 Losses {'entity_linker': 4.291285365819931}\n",
            "106 Losses {'entity_linker': 4.318349659442902}\n",
            "107 Losses {'entity_linker': 4.26253442466259}\n",
            "108 Losses {'entity_linker': 4.263745591044426}\n",
            "109 Losses {'entity_linker': 4.23136842250824}\n",
            "110 Losses {'entity_linker': 4.189638435840607}\n",
            "111 Losses {'entity_linker': 4.150325790047646}\n",
            "112 Losses {'entity_linker': 4.099097549915314}\n",
            "113 Losses {'entity_linker': 4.1402022540569305}\n",
            "114 Losses {'entity_linker': 4.199501812458038}\n",
            "115 Losses {'entity_linker': 4.193899407982826}\n",
            "116 Losses {'entity_linker': 4.19286248087883}\n",
            "117 Losses {'entity_linker': 4.156869858503342}\n",
            "118 Losses {'entity_linker': 4.136921942234039}\n",
            "119 Losses {'entity_linker': 4.21467849612236}\n",
            "120 Losses {'entity_linker': 4.212389245629311}\n",
            "121 Losses {'entity_linker': 4.140126705169678}\n",
            "122 Losses {'entity_linker': 4.07635734975338}\n",
            "123 Losses {'entity_linker': 4.1057416051626205}\n",
            "124 Losses {'entity_linker': 4.044457226991653}\n",
            "125 Losses {'entity_linker': 4.121653705835342}\n",
            "126 Losses {'entity_linker': 4.029670551419258}\n",
            "127 Losses {'entity_linker': 4.109916254878044}\n",
            "128 Losses {'entity_linker': 4.095901146531105}\n",
            "129 Losses {'entity_linker': 4.072850465774536}\n",
            "130 Losses {'entity_linker': 4.016212701797485}\n",
            "131 Losses {'entity_linker': 4.030713051557541}\n",
            "132 Losses {'entity_linker': 4.017044022679329}\n",
            "133 Losses {'entity_linker': 3.9325915724039078}\n",
            "134 Losses {'entity_linker': 4.04934087395668}\n",
            "135 Losses {'entity_linker': 4.007218554615974}\n",
            "136 Losses {'entity_linker': 4.092494249343872}\n",
            "137 Losses {'entity_linker': 3.993637576699257}\n",
            "138 Losses {'entity_linker': 3.9860011488199234}\n",
            "139 Losses {'entity_linker': 3.9418059438467026}\n",
            "140 Losses {'entity_linker': 3.982604682445526}\n",
            "141 Losses {'entity_linker': 4.070183649659157}\n",
            "142 Losses {'entity_linker': 4.012854665517807}\n",
            "143 Losses {'entity_linker': 3.8600389063358307}\n",
            "144 Losses {'entity_linker': 3.9505225718021393}\n",
            "145 Losses {'entity_linker': 3.9018072932958603}\n",
            "146 Losses {'entity_linker': 3.8581507205963135}\n",
            "147 Losses {'entity_linker': 3.8732591718435287}\n",
            "148 Losses {'entity_linker': 3.9330054372549057}\n",
            "149 Losses {'entity_linker': 3.9276012033224106}\n",
            "150 Losses {'entity_linker': 3.866610735654831}\n",
            "151 Losses {'entity_linker': 3.850628048181534}\n",
            "152 Losses {'entity_linker': 3.8638809621334076}\n",
            "153 Losses {'entity_linker': 3.867127478122711}\n",
            "154 Losses {'entity_linker': 3.7760512977838516}\n",
            "155 Losses {'entity_linker': 3.9345471262931824}\n",
            "156 Losses {'entity_linker': 3.889172777533531}\n",
            "157 Losses {'entity_linker': 3.793112024664879}\n",
            "158 Losses {'entity_linker': 3.8286397457122803}\n",
            "159 Losses {'entity_linker': 3.8232162296772003}\n",
            "160 Losses {'entity_linker': 3.739901915192604}\n",
            "161 Losses {'entity_linker': 3.8096893429756165}\n",
            "162 Losses {'entity_linker': 3.73212730884552}\n",
            "163 Losses {'entity_linker': 3.776885375380516}\n",
            "164 Losses {'entity_linker': 3.679804891347885}\n",
            "165 Losses {'entity_linker': 3.8068312406539917}\n",
            "166 Losses {'entity_linker': 3.759929597377777}\n",
            "167 Losses {'entity_linker': 3.741226449608803}\n",
            "168 Losses {'entity_linker': 3.7406505942344666}\n",
            "169 Losses {'entity_linker': 3.7844149619340897}\n",
            "170 Losses {'entity_linker': 3.6746079176664352}\n",
            "171 Losses {'entity_linker': 3.7855776846408844}\n",
            "172 Losses {'entity_linker': 3.7520271241664886}\n",
            "173 Losses {'entity_linker': 3.6869977414608}\n",
            "174 Losses {'entity_linker': 3.755107417702675}\n",
            "175 Losses {'entity_linker': 3.6969196051359177}\n",
            "176 Losses {'entity_linker': 3.6867474764585495}\n",
            "177 Losses {'entity_linker': 3.668997138738632}\n",
            "178 Losses {'entity_linker': 3.7420071810483932}\n",
            "179 Losses {'entity_linker': 3.7293691188097}\n",
            "180 Losses {'entity_linker': 3.6276517510414124}\n",
            "181 Losses {'entity_linker': 3.6665633469820023}\n",
            "182 Losses {'entity_linker': 3.796258866786957}\n",
            "183 Losses {'entity_linker': 3.6865985691547394}\n",
            "184 Losses {'entity_linker': 3.731783002614975}\n",
            "185 Losses {'entity_linker': 3.606961667537689}\n",
            "186 Losses {'entity_linker': 3.725468158721924}\n",
            "187 Losses {'entity_linker': 3.6774738281965256}\n",
            "188 Losses {'entity_linker': 3.6651098877191544}\n",
            "189 Losses {'entity_linker': 3.5752540230751038}\n",
            "190 Losses {'entity_linker': 3.632116287946701}\n",
            "191 Losses {'entity_linker': 3.6605665534734726}\n",
            "192 Losses {'entity_linker': 3.6551438122987747}\n",
            "193 Losses {'entity_linker': 3.6582042574882507}\n",
            "194 Losses {'entity_linker': 3.655552953481674}\n",
            "195 Losses {'entity_linker': 3.593827560544014}\n",
            "196 Losses {'entity_linker': 3.5439789295196533}\n",
            "197 Losses {'entity_linker': 3.678765296936035}\n",
            "198 Losses {'entity_linker': 3.5956354290246964}\n",
            "199 Losses {'entity_linker': 3.5760102421045303}\n",
            "200 Losses {'entity_linker': 3.5825312584638596}\n",
            "201 Losses {'entity_linker': 3.5603254586458206}\n",
            "202 Losses {'entity_linker': 3.507679060101509}\n",
            "203 Losses {'entity_linker': 3.494711309671402}\n",
            "204 Losses {'entity_linker': 3.5378439128398895}\n",
            "205 Losses {'entity_linker': 3.5281732827425003}\n",
            "206 Losses {'entity_linker': 3.552758499979973}\n",
            "207 Losses {'entity_linker': 3.5620798617601395}\n",
            "208 Losses {'entity_linker': 3.4673628360033035}\n",
            "209 Losses {'entity_linker': 3.63394995033741}\n",
            "210 Losses {'entity_linker': 3.542121008038521}\n",
            "211 Losses {'entity_linker': 3.4833405166864395}\n",
            "212 Losses {'entity_linker': 3.5681008845567703}\n",
            "213 Losses {'entity_linker': 3.5618264973163605}\n",
            "214 Losses {'entity_linker': 3.598064213991165}\n",
            "215 Losses {'entity_linker': 3.5423873960971832}\n",
            "216 Losses {'entity_linker': 3.6242021024227142}\n",
            "217 Losses {'entity_linker': 3.4724420309066772}\n",
            "218 Losses {'entity_linker': 3.494023323059082}\n",
            "219 Losses {'entity_linker': 3.5680187046527863}\n",
            "220 Losses {'entity_linker': 3.457194373011589}\n",
            "221 Losses {'entity_linker': 3.5580106377601624}\n",
            "222 Losses {'entity_linker': 3.6213118880987167}\n",
            "223 Losses {'entity_linker': 3.489607736468315}\n",
            "224 Losses {'entity_linker': 3.478341832756996}\n",
            "225 Losses {'entity_linker': 3.541386753320694}\n",
            "226 Losses {'entity_linker': 3.46038618683815}\n",
            "227 Losses {'entity_linker': 3.47499418258667}\n",
            "228 Losses {'entity_linker': 3.4440507292747498}\n",
            "229 Losses {'entity_linker': 3.5970804393291473}\n",
            "230 Losses {'entity_linker': 3.54040390253067}\n",
            "231 Losses {'entity_linker': 3.4939782172441483}\n",
            "232 Losses {'entity_linker': 3.568798676133156}\n",
            "233 Losses {'entity_linker': 3.4241846203804016}\n",
            "234 Losses {'entity_linker': 3.5549408346414566}\n",
            "235 Losses {'entity_linker': 3.5099399238824844}\n",
            "236 Losses {'entity_linker': 3.5419391840696335}\n",
            "237 Losses {'entity_linker': 3.4751791208982468}\n",
            "238 Losses {'entity_linker': 3.517931804060936}\n",
            "239 Losses {'entity_linker': 3.361713871359825}\n",
            "240 Losses {'entity_linker': 3.483510196208954}\n",
            "241 Losses {'entity_linker': 3.372448354959488}\n",
            "242 Losses {'entity_linker': 3.375456064939499}\n",
            "243 Losses {'entity_linker': 3.39471997320652}\n",
            "244 Losses {'entity_linker': 3.4373117685317993}\n",
            "245 Losses {'entity_linker': 3.3971222788095474}\n",
            "246 Losses {'entity_linker': 3.39071686565876}\n",
            "247 Losses {'entity_linker': 3.3901714384555817}\n",
            "248 Losses {'entity_linker': 3.4928842782974243}\n",
            "249 Losses {'entity_linker': 3.4475080519914627}\n",
            "250 Losses {'entity_linker': 3.420566827058792}\n",
            "251 Losses {'entity_linker': 3.414802923798561}\n",
            "252 Losses {'entity_linker': 3.5263636112213135}\n",
            "253 Losses {'entity_linker': 3.4081544280052185}\n",
            "254 Losses {'entity_linker': 3.4035265296697617}\n",
            "255 Losses {'entity_linker': 3.441604122519493}\n",
            "256 Losses {'entity_linker': 3.3943815529346466}\n",
            "257 Losses {'entity_linker': 3.3271642923355103}\n",
            "258 Losses {'entity_linker': 3.4052331149578094}\n",
            "259 Losses {'entity_linker': 3.353125721216202}\n",
            "260 Losses {'entity_linker': 3.371875122189522}\n",
            "261 Losses {'entity_linker': 3.3590497225522995}\n",
            "262 Losses {'entity_linker': 3.395425006747246}\n",
            "263 Losses {'entity_linker': 3.366901680827141}\n",
            "264 Losses {'entity_linker': 3.261285424232483}\n",
            "265 Losses {'entity_linker': 3.3511377573013306}\n",
            "266 Losses {'entity_linker': 3.3085099905729294}\n",
            "267 Losses {'entity_linker': 3.413828745484352}\n",
            "268 Losses {'entity_linker': 3.356230929493904}\n",
            "269 Losses {'entity_linker': 3.3705772906541824}\n",
            "270 Losses {'entity_linker': 3.345120668411255}\n",
            "271 Losses {'entity_linker': 3.264506384730339}\n",
            "272 Losses {'entity_linker': 3.342972829937935}\n",
            "273 Losses {'entity_linker': 3.401917278766632}\n",
            "274 Losses {'entity_linker': 3.276540756225586}\n",
            "275 Losses {'entity_linker': 3.483190432190895}\n",
            "276 Losses {'entity_linker': 3.341682478785515}\n",
            "277 Losses {'entity_linker': 3.317675992846489}\n",
            "278 Losses {'entity_linker': 3.338767483830452}\n",
            "279 Losses {'entity_linker': 3.315094694495201}\n",
            "280 Losses {'entity_linker': 3.3540525436401367}\n",
            "281 Losses {'entity_linker': 3.353005141019821}\n",
            "282 Losses {'entity_linker': 3.3270380049943924}\n",
            "283 Losses {'entity_linker': 3.283765599131584}\n",
            "284 Losses {'entity_linker': 3.3138797730207443}\n",
            "285 Losses {'entity_linker': 3.308150038123131}\n",
            "286 Losses {'entity_linker': 3.3086286038160324}\n",
            "287 Losses {'entity_linker': 3.2864152938127518}\n",
            "288 Losses {'entity_linker': 3.291461154818535}\n",
            "289 Losses {'entity_linker': 3.4268145859241486}\n",
            "290 Losses {'entity_linker': 3.3022703677415848}\n",
            "291 Losses {'entity_linker': 3.285270616412163}\n",
            "292 Losses {'entity_linker': 3.310561791062355}\n",
            "293 Losses {'entity_linker': 3.2745093256235123}\n",
            "294 Losses {'entity_linker': 3.359475716948509}\n",
            "295 Losses {'entity_linker': 3.2569451183080673}\n",
            "296 Losses {'entity_linker': 3.3311973214149475}\n",
            "297 Losses {'entity_linker': 3.3328438252210617}\n",
            "298 Losses {'entity_linker': 3.3339297473430634}\n",
            "299 Losses {'entity_linker': 3.255160868167877}\n",
            "300 Losses {'entity_linker': 3.203980967402458}\n",
            "301 Losses {'entity_linker': 3.2084477096796036}\n",
            "302 Losses {'entity_linker': 3.2266702502965927}\n",
            "303 Losses {'entity_linker': 3.271981582045555}\n",
            "304 Losses {'entity_linker': 3.266832187771797}\n",
            "305 Losses {'entity_linker': 3.286748021841049}\n",
            "306 Losses {'entity_linker': 3.271728217601776}\n",
            "307 Losses {'entity_linker': 3.200682058930397}\n",
            "308 Losses {'entity_linker': 3.2526336312294006}\n",
            "309 Losses {'entity_linker': 3.209305375814438}\n",
            "310 Losses {'entity_linker': 3.214273437857628}\n",
            "311 Losses {'entity_linker': 3.23821884393692}\n",
            "312 Losses {'entity_linker': 3.194478377699852}\n",
            "313 Losses {'entity_linker': 3.254711776971817}\n",
            "314 Losses {'entity_linker': 3.2020236253738403}\n",
            "315 Losses {'entity_linker': 3.215202897787094}\n",
            "316 Losses {'entity_linker': 3.1905168145895004}\n",
            "317 Losses {'entity_linker': 3.2219986766576767}\n",
            "318 Losses {'entity_linker': 3.203814297914505}\n",
            "319 Losses {'entity_linker': 3.1631441563367844}\n",
            "320 Losses {'entity_linker': 3.2293191850185394}\n",
            "321 Losses {'entity_linker': 3.173772558569908}\n",
            "322 Losses {'entity_linker': 3.2182047963142395}\n",
            "323 Losses {'entity_linker': 3.3047212809324265}\n",
            "324 Losses {'entity_linker': 3.139946222305298}\n",
            "325 Losses {'entity_linker': 3.2522137612104416}\n",
            "326 Losses {'entity_linker': 3.1779793202877045}\n",
            "327 Losses {'entity_linker': 3.2252694219350815}\n",
            "328 Losses {'entity_linker': 3.2281899601221085}\n",
            "329 Losses {'entity_linker': 3.153959706425667}\n",
            "330 Losses {'entity_linker': 3.290007084608078}\n",
            "331 Losses {'entity_linker': 3.138949289917946}\n",
            "332 Losses {'entity_linker': 3.176070600748062}\n",
            "333 Losses {'entity_linker': 3.199396014213562}\n",
            "334 Losses {'entity_linker': 3.200105234980583}\n",
            "335 Losses {'entity_linker': 3.1950551569461823}\n",
            "336 Losses {'entity_linker': 3.1130213141441345}\n",
            "337 Losses {'entity_linker': 3.109614461660385}\n",
            "338 Losses {'entity_linker': 3.1666297018527985}\n",
            "339 Losses {'entity_linker': 3.108575478196144}\n",
            "340 Losses {'entity_linker': 3.1884869188070297}\n",
            "341 Losses {'entity_linker': 3.1867207139730453}\n",
            "342 Losses {'entity_linker': 3.1491035521030426}\n",
            "343 Losses {'entity_linker': 3.1001832634210587}\n",
            "344 Losses {'entity_linker': 3.1545178294181824}\n",
            "345 Losses {'entity_linker': 3.21435584127903}\n",
            "346 Losses {'entity_linker': 3.272870883345604}\n",
            "347 Losses {'entity_linker': 3.206552341580391}\n",
            "348 Losses {'entity_linker': 3.1865161657333374}\n",
            "349 Losses {'entity_linker': 3.164231702685356}\n",
            "350 Losses {'entity_linker': 3.142980173230171}\n",
            "351 Losses {'entity_linker': 3.081901505589485}\n",
            "352 Losses {'entity_linker': 3.1354676634073257}\n",
            "353 Losses {'entity_linker': 3.1261580884456635}\n",
            "354 Losses {'entity_linker': 3.0777047723531723}\n",
            "355 Losses {'entity_linker': 3.1651509553194046}\n",
            "356 Losses {'entity_linker': 3.1116671711206436}\n",
            "357 Losses {'entity_linker': 3.197354331612587}\n",
            "358 Losses {'entity_linker': 3.219287618994713}\n",
            "359 Losses {'entity_linker': 3.1837868243455887}\n",
            "360 Losses {'entity_linker': 3.123867630958557}\n",
            "361 Losses {'entity_linker': 3.1245429515838623}\n",
            "362 Losses {'entity_linker': 3.114326313138008}\n",
            "363 Losses {'entity_linker': 3.0899200290441513}\n",
            "364 Losses {'entity_linker': 3.218762919306755}\n",
            "365 Losses {'entity_linker': 3.099980890750885}\n",
            "366 Losses {'entity_linker': 3.057432785630226}\n",
            "367 Losses {'entity_linker': 3.1404009014368057}\n",
            "368 Losses {'entity_linker': 3.107359007000923}\n",
            "369 Losses {'entity_linker': 3.127089887857437}\n",
            "370 Losses {'entity_linker': 3.119072377681732}\n",
            "371 Losses {'entity_linker': 3.1082686483860016}\n",
            "372 Losses {'entity_linker': 3.1545505970716476}\n",
            "373 Losses {'entity_linker': 3.108946144580841}\n",
            "374 Losses {'entity_linker': 3.1247597485780716}\n",
            "375 Losses {'entity_linker': 3.133651316165924}\n",
            "376 Losses {'entity_linker': 2.99409419298172}\n",
            "377 Losses {'entity_linker': 3.0481012612581253}\n",
            "378 Losses {'entity_linker': 3.043467193841934}\n",
            "379 Losses {'entity_linker': 3.0318828970193863}\n",
            "380 Losses {'entity_linker': 3.082701086997986}\n",
            "381 Losses {'entity_linker': 3.0282572209835052}\n",
            "382 Losses {'entity_linker': 3.0529814809560776}\n",
            "383 Losses {'entity_linker': 3.07012902200222}\n",
            "384 Losses {'entity_linker': 3.0632315278053284}\n",
            "385 Losses {'entity_linker': 3.0057218223810196}\n",
            "386 Losses {'entity_linker': 3.050797015428543}\n",
            "387 Losses {'entity_linker': 3.1133837401866913}\n",
            "388 Losses {'entity_linker': 2.998521074652672}\n",
            "389 Losses {'entity_linker': 2.9977601915597916}\n",
            "390 Losses {'entity_linker': 3.043545499444008}\n",
            "391 Losses {'entity_linker': 3.1669817566871643}\n",
            "392 Losses {'entity_linker': 3.0667554289102554}\n",
            "393 Losses {'entity_linker': 3.084714576601982}\n",
            "394 Losses {'entity_linker': 3.1286389231681824}\n",
            "395 Losses {'entity_linker': 3.136126846075058}\n",
            "396 Losses {'entity_linker': 3.182295471429825}\n",
            "397 Losses {'entity_linker': 3.099677473306656}\n",
            "398 Losses {'entity_linker': 3.138614147901535}\n",
            "399 Losses {'entity_linker': 3.1159812808036804}\n",
            "400 Losses {'entity_linker': 3.028894007205963}\n",
            "401 Losses {'entity_linker': 3.069028452038765}\n",
            "402 Losses {'entity_linker': 3.0944706350564957}\n",
            "403 Losses {'entity_linker': 3.0890346318483353}\n",
            "404 Losses {'entity_linker': 3.0159047096967697}\n",
            "405 Losses {'entity_linker': 3.005542889237404}\n",
            "406 Losses {'entity_linker': 3.1408069878816605}\n",
            "407 Losses {'entity_linker': 3.0943087190389633}\n",
            "408 Losses {'entity_linker': 3.080313593149185}\n",
            "409 Losses {'entity_linker': 3.1390687972307205}\n",
            "410 Losses {'entity_linker': 3.022164151072502}\n",
            "411 Losses {'entity_linker': 3.0413893312215805}\n",
            "412 Losses {'entity_linker': 2.965925708413124}\n",
            "413 Losses {'entity_linker': 2.9983537048101425}\n",
            "414 Losses {'entity_linker': 3.0443980246782303}\n",
            "415 Losses {'entity_linker': 3.051025480031967}\n",
            "416 Losses {'entity_linker': 2.9937604516744614}\n",
            "417 Losses {'entity_linker': 3.0560079365968704}\n",
            "418 Losses {'entity_linker': 3.0316353291273117}\n",
            "419 Losses {'entity_linker': 3.0184260308742523}\n",
            "420 Losses {'entity_linker': 3.0474545657634735}\n",
            "421 Losses {'entity_linker': 2.9803983122110367}\n",
            "422 Losses {'entity_linker': 3.0346620827913284}\n",
            "423 Losses {'entity_linker': 2.998966723680496}\n",
            "424 Losses {'entity_linker': 3.019861727952957}\n",
            "425 Losses {'entity_linker': 2.9913337230682373}\n",
            "426 Losses {'entity_linker': 2.971999928355217}\n",
            "427 Losses {'entity_linker': 3.0348818451166153}\n",
            "428 Losses {'entity_linker': 2.9738254249095917}\n",
            "429 Losses {'entity_linker': 2.9308844208717346}\n",
            "430 Losses {'entity_linker': 2.975485220551491}\n",
            "431 Losses {'entity_linker': 3.0808264315128326}\n",
            "432 Losses {'entity_linker': 2.965857982635498}\n",
            "433 Losses {'entity_linker': 3.0617220401763916}\n",
            "434 Losses {'entity_linker': 2.930899813771248}\n",
            "435 Losses {'entity_linker': 3.0458212345838547}\n",
            "436 Losses {'entity_linker': 3.0138116478919983}\n",
            "437 Losses {'entity_linker': 2.9303150475025177}\n",
            "438 Losses {'entity_linker': 2.9780738055706024}\n",
            "439 Losses {'entity_linker': 2.927469864487648}\n",
            "440 Losses {'entity_linker': 2.9576283544301987}\n",
            "441 Losses {'entity_linker': 2.9756985306739807}\n",
            "442 Losses {'entity_linker': 2.975522130727768}\n",
            "443 Losses {'entity_linker': 2.9504534155130386}\n",
            "444 Losses {'entity_linker': 3.0194061547517776}\n",
            "445 Losses {'entity_linker': 3.034774288535118}\n",
            "446 Losses {'entity_linker': 3.079749882221222}\n",
            "447 Losses {'entity_linker': 3.0151246935129166}\n",
            "448 Losses {'entity_linker': 3.0890137255191803}\n",
            "449 Losses {'entity_linker': 2.906686544418335}\n",
            "450 Losses {'entity_linker': 3.077576369047165}\n",
            "451 Losses {'entity_linker': 3.0132947862148285}\n",
            "452 Losses {'entity_linker': 3.036535695195198}\n",
            "453 Losses {'entity_linker': 3.0230022072792053}\n",
            "454 Losses {'entity_linker': 2.9691364467144012}\n",
            "455 Losses {'entity_linker': 2.92744742333889}\n",
            "456 Losses {'entity_linker': 2.994535729289055}\n",
            "457 Losses {'entity_linker': 2.910428136587143}\n",
            "458 Losses {'entity_linker': 2.954147845506668}\n",
            "459 Losses {'entity_linker': 2.9446457475423813}\n",
            "460 Losses {'entity_linker': 3.0187332332134247}\n",
            "461 Losses {'entity_linker': 2.967519983649254}\n",
            "462 Losses {'entity_linker': 3.002104088664055}\n",
            "463 Losses {'entity_linker': 3.027774915099144}\n",
            "464 Losses {'entity_linker': 2.934806540608406}\n",
            "465 Losses {'entity_linker': 2.990851417183876}\n",
            "466 Losses {'entity_linker': 3.019670680165291}\n",
            "467 Losses {'entity_linker': 2.9632010012865067}\n",
            "468 Losses {'entity_linker': 2.975264146924019}\n",
            "469 Losses {'entity_linker': 2.9177856892347336}\n",
            "470 Losses {'entity_linker': 3.0497589260339737}\n",
            "471 Losses {'entity_linker': 2.8550486713647842}\n",
            "472 Losses {'entity_linker': 2.8968813866376877}\n",
            "473 Losses {'entity_linker': 2.9760064482688904}\n",
            "474 Losses {'entity_linker': 3.024639442563057}\n",
            "475 Losses {'entity_linker': 3.028150886297226}\n",
            "476 Losses {'entity_linker': 2.9304669201374054}\n",
            "477 Losses {'entity_linker': 2.9658587872982025}\n",
            "478 Losses {'entity_linker': 2.9230470210313797}\n",
            "479 Losses {'entity_linker': 3.00229249894619}\n",
            "480 Losses {'entity_linker': 2.9828273952007294}\n",
            "481 Losses {'entity_linker': 2.921169027686119}\n",
            "482 Losses {'entity_linker': 3.008153334259987}\n",
            "483 Losses {'entity_linker': 2.978363186120987}\n",
            "484 Losses {'entity_linker': 3.0360113382339478}\n",
            "485 Losses {'entity_linker': 2.997551456093788}\n",
            "486 Losses {'entity_linker': 2.950274243950844}\n",
            "487 Losses {'entity_linker': 2.9795767664909363}\n",
            "488 Losses {'entity_linker': 2.996167615056038}\n",
            "489 Losses {'entity_linker': 3.0464569330215454}\n",
            "490 Losses {'entity_linker': 2.9505355060100555}\n",
            "491 Losses {'entity_linker': 2.896319255232811}\n",
            "492 Losses {'entity_linker': 3.0235558450222015}\n",
            "493 Losses {'entity_linker': 2.9024131149053574}\n",
            "494 Losses {'entity_linker': 2.9553642868995667}\n",
            "495 Losses {'entity_linker': 2.959959641098976}\n",
            "496 Losses {'entity_linker': 2.9256074130535126}\n",
            "497 Losses {'entity_linker': 2.805179998278618}\n",
            "498 Losses {'entity_linker': 2.9391845017671585}\n",
            "499 Losses {'entity_linker': 2.9337309151887894}\n",
            "500 Losses {'entity_linker': 2.893591433763504}\n",
            "501 Losses {'entity_linker': 2.9288663119077682}\n",
            "502 Losses {'entity_linker': 2.9498250633478165}\n",
            "503 Losses {'entity_linker': 2.956160217523575}\n",
            "504 Losses {'entity_linker': 2.8818310350179672}\n",
            "505 Losses {'entity_linker': 2.9307698607444763}\n",
            "506 Losses {'entity_linker': 2.94924259185791}\n",
            "507 Losses {'entity_linker': 2.9338975846767426}\n",
            "508 Losses {'entity_linker': 2.9798403680324554}\n",
            "509 Losses {'entity_linker': 2.925799638032913}\n",
            "510 Losses {'entity_linker': 2.9957809448242188}\n",
            "511 Losses {'entity_linker': 2.9326100945472717}\n",
            "512 Losses {'entity_linker': 2.953702598810196}\n",
            "513 Losses {'entity_linker': 2.8189989775419235}\n",
            "514 Losses {'entity_linker': 2.928595319390297}\n",
            "515 Losses {'entity_linker': 2.9166013300418854}\n",
            "516 Losses {'entity_linker': 2.9120296984910965}\n",
            "517 Losses {'entity_linker': 2.8203734010457993}\n",
            "518 Losses {'entity_linker': 2.8538071364164352}\n",
            "519 Losses {'entity_linker': 2.8321869671344757}\n",
            "520 Losses {'entity_linker': 2.9417623579502106}\n",
            "521 Losses {'entity_linker': 2.9275926798582077}\n",
            "522 Losses {'entity_linker': 3.0420157313346863}\n",
            "523 Losses {'entity_linker': 2.8722251504659653}\n",
            "524 Losses {'entity_linker': 3.012328267097473}\n",
            "525 Losses {'entity_linker': 2.959490492939949}\n",
            "526 Losses {'entity_linker': 2.9141067415475845}\n",
            "527 Losses {'entity_linker': 2.946116790175438}\n",
            "528 Losses {'entity_linker': 3.002764567732811}\n",
            "529 Losses {'entity_linker': 2.886463448405266}\n",
            "530 Losses {'entity_linker': 2.862674504518509}\n",
            "531 Losses {'entity_linker': 2.8724759221076965}\n",
            "532 Losses {'entity_linker': 2.9878296852111816}\n",
            "533 Losses {'entity_linker': 2.883210703730583}\n",
            "534 Losses {'entity_linker': 2.893255665898323}\n",
            "535 Losses {'entity_linker': 2.8885346800088882}\n",
            "536 Losses {'entity_linker': 2.868447721004486}\n",
            "537 Losses {'entity_linker': 3.0000212490558624}\n",
            "538 Losses {'entity_linker': 2.9539109766483307}\n",
            "539 Losses {'entity_linker': 2.8955135345458984}\n",
            "540 Losses {'entity_linker': 2.9251091480255127}\n",
            "541 Losses {'entity_linker': 2.8894695192575455}\n",
            "542 Losses {'entity_linker': 2.8593983352184296}\n",
            "543 Losses {'entity_linker': 2.8967998027801514}\n",
            "544 Losses {'entity_linker': 2.8854155987501144}\n",
            "545 Losses {'entity_linker': 2.957574486732483}\n",
            "546 Losses {'entity_linker': 2.8800619393587112}\n",
            "547 Losses {'entity_linker': 2.8587384074926376}\n",
            "548 Losses {'entity_linker': 2.911721557378769}\n",
            "549 Losses {'entity_linker': 2.973039448261261}\n",
            "550 Losses {'entity_linker': 2.8966613113880157}\n",
            "551 Losses {'entity_linker': 2.883980393409729}\n",
            "552 Losses {'entity_linker': 2.954415440559387}\n",
            "553 Losses {'entity_linker': 2.846566930413246}\n",
            "554 Losses {'entity_linker': 2.9027980864048004}\n",
            "555 Losses {'entity_linker': 2.8730816692113876}\n",
            "556 Losses {'entity_linker': 2.9174518138170242}\n",
            "557 Losses {'entity_linker': 2.902059778571129}\n",
            "558 Losses {'entity_linker': 2.8378529995679855}\n",
            "559 Losses {'entity_linker': 2.853951543569565}\n",
            "560 Losses {'entity_linker': 2.9270559698343277}\n",
            "561 Losses {'entity_linker': 2.845834031701088}\n",
            "562 Losses {'entity_linker': 2.8853859454393387}\n",
            "563 Losses {'entity_linker': 2.887415125966072}\n",
            "564 Losses {'entity_linker': 2.915987879037857}\n",
            "565 Losses {'entity_linker': 2.797920435667038}\n",
            "566 Losses {'entity_linker': 2.86643148958683}\n",
            "567 Losses {'entity_linker': 2.851134866476059}\n",
            "568 Losses {'entity_linker': 2.8760733008384705}\n",
            "569 Losses {'entity_linker': 2.8329580575227737}\n",
            "570 Losses {'entity_linker': 2.9367626309394836}\n",
            "571 Losses {'entity_linker': 2.8271872997283936}\n",
            "572 Losses {'entity_linker': 2.9560643434524536}\n",
            "573 Losses {'entity_linker': 2.891703739762306}\n",
            "574 Losses {'entity_linker': 2.8039739429950714}\n",
            "575 Losses {'entity_linker': 2.8306390196084976}\n",
            "576 Losses {'entity_linker': 2.949067175388336}\n",
            "577 Losses {'entity_linker': 2.989444211125374}\n",
            "578 Losses {'entity_linker': 2.8758662194013596}\n",
            "579 Losses {'entity_linker': 2.912573829293251}\n",
            "580 Losses {'entity_linker': 2.8949230760335922}\n",
            "581 Losses {'entity_linker': 2.90216027200222}\n",
            "582 Losses {'entity_linker': 2.879863679409027}\n",
            "583 Losses {'entity_linker': 2.7948898673057556}\n",
            "584 Losses {'entity_linker': 2.880967915058136}\n",
            "585 Losses {'entity_linker': 2.852339580655098}\n",
            "586 Losses {'entity_linker': 2.8690930902957916}\n",
            "587 Losses {'entity_linker': 2.8930871188640594}\n",
            "588 Losses {'entity_linker': 2.7966116815805435}\n",
            "589 Losses {'entity_linker': 2.9132928997278214}\n",
            "590 Losses {'entity_linker': 2.913502559065819}\n",
            "591 Losses {'entity_linker': 2.870100900530815}\n",
            "592 Losses {'entity_linker': 2.914156958460808}\n",
            "593 Losses {'entity_linker': 2.8690409809350967}\n",
            "594 Losses {'entity_linker': 2.7765829265117645}\n",
            "595 Losses {'entity_linker': 2.8319475948810577}\n",
            "596 Losses {'entity_linker': 2.804537460207939}\n",
            "597 Losses {'entity_linker': 2.8857143372297287}\n",
            "598 Losses {'entity_linker': 2.8131772875785828}\n",
            "599 Losses {'entity_linker': 2.889684110879898}\n",
            "599 Losses {'entity_linker': 2.889684110879898}\n"
          ],
          "name": "stdout"
        }
      ]
    },
    {
      "cell_type": "code",
      "metadata": {
        "id": "OZf2IGf5Sgxr",
        "colab_type": "code",
        "colab": {}
      },
      "source": [
        "def format_data_eval(NAME, df):\n",
        "  data = []\n",
        "  for i, row in df[df.canonical_vendor_name.isin(NAME)].iterrows():\n",
        "      desc = str(row.line_item_description) if not row.line_item_description is np.nan else ''\n",
        "      text = row.canonical_vendor_name + ' : ' + str(row.line_item_name) + ' : '+ desc\n",
        "      data.append(text)\n",
        "  return data"
      ],
      "execution_count": 217,
      "outputs": []
    },
    {
      "cell_type": "code",
      "metadata": {
        "id": "6V9qQ9ufSFcW",
        "colab_type": "code",
        "colab": {}
      },
      "source": [
        "def predict_eval(model, eval_dataset, df_orig=None, ):\n",
        "  y_pred, y_pred_ones = [], []\n",
        "    #as described before, this bit of code manually\n",
        "    #predicts any vendor that has just one canonical name\n",
        "  ones = df_orig[df_orig.canonical_vendor_name.isin(one_or_less)]\n",
        "  map_ = one_or_less_map(one_or_less)\n",
        "  for i, row in ones.iterrows():\n",
        "    pred = map_[row.canonical_vendor_name]\n",
        "    y_pred_ones.append(pred)\n",
        "    \n",
        "\n",
        "  for i,text in enumerate(eval_dataset):\n",
        "    doc = model(text) \n",
        "    for ent in doc.ents:\n",
        "        #print(f\"Prediction {i}: {ent.text}, {ent.label_}, {ent.kb_id_}\")\n",
        "        y_pred.append(ent.kb_id_)\n",
        "        break\n",
        "\n",
        "  return y_pred, y_pred_ones"
      ],
      "execution_count": 262,
      "outputs": []
    },
    {
      "cell_type": "code",
      "metadata": {
        "id": "O6hRaxFZWh0C",
        "colab_type": "code",
        "colab": {}
      },
      "source": [
        "eval_dataset = format_data_eval(two_or_more, eval_df)\n",
        "y_pred, y_pred_ones = predict_eval(nlp_blank, eval_dataset, df_orig=eval_df)\n",
        "y_pred_ones = [df_labels.loc[p].canonical_line_item_name for p in y_pred_ones]\n",
        "y_pred = [df_labels.loc[int(p)].canonical_line_item_name for p in y_pred]\n"
      ],
      "execution_count": 274,
      "outputs": []
    },
    {
      "cell_type": "code",
      "metadata": {
        "id": "Dp8cU2yzNIN0",
        "colab_type": "code",
        "colab": {}
      },
      "source": [
        "ones_eval = eval_df[eval_df.canonical_vendor_name.isin(one_or_less)]\n",
        "ones_eval['canonical_line_item_name'] =y_pred_ones\n",
        "\n",
        "twos_eval = eval_df[eval_df.canonical_vendor_name.isin(two_or_more)]\n",
        "twos_eval['canonical_line_item_name'] =y_pred"
      ],
      "execution_count": null,
      "outputs": []
    },
    {
      "cell_type": "code",
      "metadata": {
        "id": "k0xXD7zAQTjF",
        "colab_type": "code",
        "colab": {
          "base_uri": "https://localhost:8080/",
          "height": 406
        },
        "outputId": "c9bf55d8-109e-4e8f-fcd2-3c687bae63a6"
      },
      "source": [
        "final_df = ones_eval.append(twos_eval, verify_integrity=True).sort_index()\n",
        "final_df"
      ],
      "execution_count": 282,
      "outputs": [
        {
          "output_type": "execute_result",
          "data": {
            "text/html": [
              "<div>\n",
              "<style scoped>\n",
              "    .dataframe tbody tr th:only-of-type {\n",
              "        vertical-align: middle;\n",
              "    }\n",
              "\n",
              "    .dataframe tbody tr th {\n",
              "        vertical-align: top;\n",
              "    }\n",
              "\n",
              "    .dataframe thead th {\n",
              "        text-align: right;\n",
              "    }\n",
              "</style>\n",
              "<table border=\"1\" class=\"dataframe\">\n",
              "  <thead>\n",
              "    <tr style=\"text-align: right;\">\n",
              "      <th></th>\n",
              "      <th>line_item_name</th>\n",
              "      <th>line_item_description</th>\n",
              "      <th>canonical_vendor_name</th>\n",
              "      <th>canonical_line_item_name</th>\n",
              "    </tr>\n",
              "  </thead>\n",
              "  <tbody>\n",
              "    <tr>\n",
              "      <th>0</th>\n",
              "      <td>Management Services</td>\n",
              "      <td>May 2019 Services</td>\n",
              "      <td>10 Minute Ventures</td>\n",
              "      <td>Management Services</td>\n",
              "    </tr>\n",
              "    <tr>\n",
              "      <th>1</th>\n",
              "      <td>Acrobat Pro DC</td>\n",
              "      <td>NaN</td>\n",
              "      <td>Adobe</td>\n",
              "      <td>Acrobat Pro DC</td>\n",
              "    </tr>\n",
              "    <tr>\n",
              "      <th>2</th>\n",
              "      <td>AIEX 96 Pieces Adhesive Poster Tacky Putty Sti...</td>\n",
              "      <td>NaN</td>\n",
              "      <td>Amazon Business</td>\n",
              "      <td>Pilot G2 Retractable Premium Gel Ink Roller Ba...</td>\n",
              "    </tr>\n",
              "    <tr>\n",
              "      <th>3</th>\n",
              "      <td>AmazonBasics AAA 1.5 Volt Performance Alkaline...</td>\n",
              "      <td>NaN</td>\n",
              "      <td>Amazon Business</td>\n",
              "      <td>AmazonBasics AAA 1.5 Volt Performance Alkaline...</td>\n",
              "    </tr>\n",
              "    <tr>\n",
              "      <th>4</th>\n",
              "      <td>AmazonBasics Mesh Trash Can Waste Basket</td>\n",
              "      <td>1</td>\n",
              "      <td>Amazon Business</td>\n",
              "      <td>SimpleHouseware Stackable 2 Tier Sliding Baske...</td>\n",
              "    </tr>\n",
              "    <tr>\n",
              "      <th>...</th>\n",
              "      <td>...</td>\n",
              "      <td>...</td>\n",
              "      <td>...</td>\n",
              "      <td>...</td>\n",
              "    </tr>\n",
              "    <tr>\n",
              "      <th>332</th>\n",
              "      <td>Web</td>\n",
              "      <td>1. Thimble Monthly Webapp 2. Customer Referral...</td>\n",
              "      <td>Xiamen ZhiZhi Tech</td>\n",
              "      <td>Web: Carter</td>\n",
              "    </tr>\n",
              "    <tr>\n",
              "      <th>333</th>\n",
              "      <td>Sam Web</td>\n",
              "      <td>1. Web app 2.0 mobile version  2. Purchase wid...</td>\n",
              "      <td>Xiamen ZhiZhi Tech</td>\n",
              "      <td>Web: Sam</td>\n",
              "    </tr>\n",
              "    <tr>\n",
              "      <th>334</th>\n",
              "      <td>Sam Web</td>\n",
              "      <td>1. Segment Integration  2. Iterable Integration</td>\n",
              "      <td>Xiamen ZhiZhi Tech</td>\n",
              "      <td>Web: Sam</td>\n",
              "    </tr>\n",
              "    <tr>\n",
              "      <th>335</th>\n",
              "      <td>Sam Web</td>\n",
              "      <td>1. Broker Purchase Project 2. New Insurance Pr...</td>\n",
              "      <td>Xiamen ZhiZhi Tech</td>\n",
              "      <td>Web: Sam</td>\n",
              "    </tr>\n",
              "    <tr>\n",
              "      <th>336</th>\n",
              "      <td>Conducted a 10-15 minute email survey of up to...</td>\n",
              "      <td>NaN</td>\n",
              "      <td>Zogby Analytics</td>\n",
              "      <td>Domestic Online Survey</td>\n",
              "    </tr>\n",
              "  </tbody>\n",
              "</table>\n",
              "<p>337 rows × 4 columns</p>\n",
              "</div>"
            ],
            "text/plain": [
              "                                        line_item_name  ...                           canonical_line_item_name\n",
              "0                                  Management Services  ...                                Management Services\n",
              "1                                       Acrobat Pro DC  ...                                     Acrobat Pro DC\n",
              "2    AIEX 96 Pieces Adhesive Poster Tacky Putty Sti...  ...  Pilot G2 Retractable Premium Gel Ink Roller Ba...\n",
              "3    AmazonBasics AAA 1.5 Volt Performance Alkaline...  ...  AmazonBasics AAA 1.5 Volt Performance Alkaline...\n",
              "4             AmazonBasics Mesh Trash Can Waste Basket  ...  SimpleHouseware Stackable 2 Tier Sliding Baske...\n",
              "..                                                 ...  ...                                                ...\n",
              "332                                                Web  ...                                        Web: Carter\n",
              "333                                            Sam Web  ...                                           Web: Sam\n",
              "334                                            Sam Web  ...                                           Web: Sam\n",
              "335                                            Sam Web  ...                                           Web: Sam\n",
              "336  Conducted a 10-15 minute email survey of up to...  ...                             Domestic Online Survey\n",
              "\n",
              "[337 rows x 4 columns]"
            ]
          },
          "metadata": {
            "tags": []
          },
          "execution_count": 282
        }
      ]
    },
    {
      "cell_type": "code",
      "metadata": {
        "id": "QpsNFGAFYKqJ",
        "colab_type": "code",
        "colab": {}
      },
      "source": [
        "for i,row in final_df.iterrows():\n",
        "    cand = df_labels[df_labels.canonical_vendor_name == row.canonical_vendor_name]\n",
        "    assert((cand.canonical_line_item_name.eq(row.canonical_line_item_name)).any())\n",
        "  "
      ],
      "execution_count": 289,
      "outputs": []
    },
    {
      "cell_type": "markdown",
      "metadata": {
        "id": "lrIiio_5ZfVm",
        "colab_type": "text"
      },
      "source": [
        "having asserted that the final data frame makes sense in terms of having the correct candidates per vendor, I can finally submit it!"
      ]
    },
    {
      "cell_type": "code",
      "metadata": {
        "id": "ron8ejN2XR6Q",
        "colab_type": "code",
        "colab": {}
      },
      "source": [
        "final_df.to_csv('Yonah_Taurog_Glean_eval_tab.csv')"
      ],
      "execution_count": 290,
      "outputs": []
    },
    {
      "cell_type": "markdown",
      "metadata": {
        "id": "MJDEkWmmaOGP",
        "colab_type": "text"
      },
      "source": [
        "####other ideas\n",
        "\n",
        "- For much of the data, I see that `canonical_line_item_name` and `line_item_name` share many similar words. So one could use more basic word embeddings, and find the canonical item with a close distance. \n",
        "\n",
        "- Try different word embeddings. BoW is useful for what I mentioned above. In invoices, we're not dealing with complex sentences, but rather kind of just lists and BoW or TF_IDF are strong in that regard.\n",
        "\n",
        "- preprocessing words differently: Purposely kept words as is because since these items are very list like, capital letters and special punctuations can have an effect on the outcome. But also worth trying to remove them"
      ]
    }
  ]
}